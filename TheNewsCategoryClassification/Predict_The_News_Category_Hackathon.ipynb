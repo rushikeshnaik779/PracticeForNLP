{
  "nbformat": 4,
  "nbformat_minor": 0,
  "metadata": {
    "colab": {
      "name": "Predict The News Category Hackathon.ipynb",
      "provenance": [],
      "authorship_tag": "ABX9TyNezq5pQnWOOQOZBXxOoAiV",
      "include_colab_link": true
    },
    "kernelspec": {
      "name": "python3",
      "display_name": "Python 3"
    }
  },
  "cells": [
    {
      "cell_type": "markdown",
      "metadata": {
        "id": "view-in-github",
        "colab_type": "text"
      },
      "source": [
        "<a href=\"https://colab.research.google.com/github/rushikeshnaik779/PracticeForNLP/blob/main/TheNewsCategoryClassification/Predict_The_News_Category_Hackathon.ipynb\" target=\"_parent\"><img src=\"https://colab.research.google.com/assets/colab-badge.svg\" alt=\"Open In Colab\"/></a>"
      ]
    },
    {
      "cell_type": "code",
      "metadata": {
        "id": "SKXwHKqZ8Q0L"
      },
      "source": [
        "import pandas as pd\n"
      ],
      "execution_count": 1,
      "outputs": []
    },
    {
      "cell_type": "code",
      "metadata": {
        "colab": {
          "base_uri": "https://localhost:8080/",
          "height": 204
        },
        "id": "6EMCa04n8gqw",
        "outputId": "c20f2407-916e-4e20-a109-72e7ac80b3e9"
      },
      "source": [
        "data = pd.read_excel('./Data_Train.xlsx')\n",
        "data.head()"
      ],
      "execution_count": 2,
      "outputs": [
        {
          "output_type": "execute_result",
          "data": {
            "text/html": [
              "<div>\n",
              "<style scoped>\n",
              "    .dataframe tbody tr th:only-of-type {\n",
              "        vertical-align: middle;\n",
              "    }\n",
              "\n",
              "    .dataframe tbody tr th {\n",
              "        vertical-align: top;\n",
              "    }\n",
              "\n",
              "    .dataframe thead th {\n",
              "        text-align: right;\n",
              "    }\n",
              "</style>\n",
              "<table border=\"1\" class=\"dataframe\">\n",
              "  <thead>\n",
              "    <tr style=\"text-align: right;\">\n",
              "      <th></th>\n",
              "      <th>STORY</th>\n",
              "      <th>SECTION</th>\n",
              "    </tr>\n",
              "  </thead>\n",
              "  <tbody>\n",
              "    <tr>\n",
              "      <th>0</th>\n",
              "      <td>But the most painful was the huge reversal in ...</td>\n",
              "      <td>3</td>\n",
              "    </tr>\n",
              "    <tr>\n",
              "      <th>1</th>\n",
              "      <td>How formidable is the opposition alliance amon...</td>\n",
              "      <td>0</td>\n",
              "    </tr>\n",
              "    <tr>\n",
              "      <th>2</th>\n",
              "      <td>Most Asian currencies were trading lower today...</td>\n",
              "      <td>3</td>\n",
              "    </tr>\n",
              "    <tr>\n",
              "      <th>3</th>\n",
              "      <td>If you want to answer any question, click on ‘...</td>\n",
              "      <td>1</td>\n",
              "    </tr>\n",
              "    <tr>\n",
              "      <th>4</th>\n",
              "      <td>In global markets, gold prices edged up today ...</td>\n",
              "      <td>3</td>\n",
              "    </tr>\n",
              "  </tbody>\n",
              "</table>\n",
              "</div>"
            ],
            "text/plain": [
              "                                               STORY  SECTION\n",
              "0  But the most painful was the huge reversal in ...        3\n",
              "1  How formidable is the opposition alliance amon...        0\n",
              "2  Most Asian currencies were trading lower today...        3\n",
              "3  If you want to answer any question, click on ‘...        1\n",
              "4  In global markets, gold prices edged up today ...        3"
            ]
          },
          "metadata": {
            "tags": []
          },
          "execution_count": 2
        }
      ]
    },
    {
      "cell_type": "code",
      "metadata": {
        "colab": {
          "base_uri": "https://localhost:8080/",
          "height": 204
        },
        "id": "GF0wmYkc8qr-",
        "outputId": "cd12e016-a7c8-473d-86a6-763aae600730"
      },
      "source": [
        "test = pd.read_excel('./Data_Test.xlsx')\n",
        "test.head()"
      ],
      "execution_count": 3,
      "outputs": [
        {
          "output_type": "execute_result",
          "data": {
            "text/html": [
              "<div>\n",
              "<style scoped>\n",
              "    .dataframe tbody tr th:only-of-type {\n",
              "        vertical-align: middle;\n",
              "    }\n",
              "\n",
              "    .dataframe tbody tr th {\n",
              "        vertical-align: top;\n",
              "    }\n",
              "\n",
              "    .dataframe thead th {\n",
              "        text-align: right;\n",
              "    }\n",
              "</style>\n",
              "<table border=\"1\" class=\"dataframe\">\n",
              "  <thead>\n",
              "    <tr style=\"text-align: right;\">\n",
              "      <th></th>\n",
              "      <th>STORY</th>\n",
              "    </tr>\n",
              "  </thead>\n",
              "  <tbody>\n",
              "    <tr>\n",
              "      <th>0</th>\n",
              "      <td>2019 will see gadgets like gaming smartphones ...</td>\n",
              "    </tr>\n",
              "    <tr>\n",
              "      <th>1</th>\n",
              "      <td>It has also unleashed a wave of changes in the...</td>\n",
              "    </tr>\n",
              "    <tr>\n",
              "      <th>2</th>\n",
              "      <td>It can be confusing to pick the right smartpho...</td>\n",
              "    </tr>\n",
              "    <tr>\n",
              "      <th>3</th>\n",
              "      <td>The mobile application is integrated with a da...</td>\n",
              "    </tr>\n",
              "    <tr>\n",
              "      <th>4</th>\n",
              "      <td>We have rounded up some of the gadgets that sh...</td>\n",
              "    </tr>\n",
              "  </tbody>\n",
              "</table>\n",
              "</div>"
            ],
            "text/plain": [
              "                                               STORY\n",
              "0  2019 will see gadgets like gaming smartphones ...\n",
              "1  It has also unleashed a wave of changes in the...\n",
              "2  It can be confusing to pick the right smartpho...\n",
              "3  The mobile application is integrated with a da...\n",
              "4  We have rounded up some of the gadgets that sh..."
            ]
          },
          "metadata": {
            "tags": []
          },
          "execution_count": 3
        }
      ]
    },
    {
      "cell_type": "code",
      "metadata": {
        "colab": {
          "base_uri": "https://localhost:8080/"
        },
        "id": "UZckaISX81-b",
        "outputId": "526c36ce-ed39-4e60-cdff-2b8f3d585df6"
      },
      "source": [
        "data.shape"
      ],
      "execution_count": 4,
      "outputs": [
        {
          "output_type": "execute_result",
          "data": {
            "text/plain": [
              "(7628, 2)"
            ]
          },
          "metadata": {
            "tags": []
          },
          "execution_count": 4
        }
      ]
    },
    {
      "cell_type": "code",
      "metadata": {
        "colab": {
          "base_uri": "https://localhost:8080/"
        },
        "id": "n6-ytTlx84EM",
        "outputId": "753c7e0c-62e9-4726-ebe5-124eb5c49d01"
      },
      "source": [
        "data.SECTION.value_counts()"
      ],
      "execution_count": 5,
      "outputs": [
        {
          "output_type": "execute_result",
          "data": {
            "text/plain": [
              "1    2772\n",
              "2    1924\n",
              "0    1686\n",
              "3    1246\n",
              "Name: SECTION, dtype: int64"
            ]
          },
          "metadata": {
            "tags": []
          },
          "execution_count": 5
        }
      ]
    },
    {
      "cell_type": "code",
      "metadata": {
        "id": "pIXGBD6E89hV"
      },
      "source": [
        "# importing libraries \n",
        "\n",
        "import tensorflow as tf \n",
        "\n",
        "from tensorflow.keras.preprocessing.text import Tokenizer\n",
        "from tensorflow.keras.preprocessing.sequence import pad_sequences\n",
        "\n",
        "\n",
        "import tensorflow.keras.layers as L \n",
        "from tensorflow.keras.losses import SparseCategoricalCrossentropy \n",
        "from tensorflow.keras.optimizers import Adam\n",
        "\n",
        "\n",
        "from sklearn.model_selection import train_test_split\n",
        "from sklearn.metrics import confusion_matrix \n",
        "from sklearn.metrics import classification_report\n",
        "\n",
        "import matplotlib.pyplot as plt \n",
        "import seaborn as sns\n",
        "\n",
        "import numpy as np\n",
        "import pandas as pd\n",
        "\n",
        "import nltk \n",
        "from nltk.stem.porter import PorterStemmer\n",
        "from nltk.tokenize import TweetTokenizer, word_tokenize\n",
        "from nltk.corpus import stopwords\n",
        "\n",
        "import re"
      ],
      "execution_count": 6,
      "outputs": []
    },
    {
      "cell_type": "code",
      "metadata": {
        "colab": {
          "base_uri": "https://localhost:8080/"
        },
        "id": "5t0LLdBEmKYT",
        "outputId": "49b9224a-5cbe-4e0b-8594-4a719468e39b"
      },
      "source": [
        "# Cleaning \n",
        "nltk.download('stopwords')\n",
        "stop_words = stopwords.words('english')\n",
        "\n",
        "def data_cleaner(tweet):\n",
        "    # remove urls\n",
        "    tweet = re.sub(r'http\\S+', '', tweet)\n",
        "\n",
        "    # remove html tags \n",
        "    tweet = re.sub(r'<.*?>', '', tweet)\n",
        "\n",
        "    # remove digits\n",
        "    tweet = re.sub(r'\\d+', '', tweet)\n",
        "\n",
        "    #remove hashtags \n",
        "    tweet = re.sub(r'#\\w+', '', tweet)\n",
        "\n",
        "    # remove mentions \n",
        "    tweet = re.sub(r'@\\w+', '', tweet)\n",
        "\n",
        "    # removing stop words\n",
        "\n",
        "    tweet = tweet.split()\n",
        "    tweet = \" \".join([word for word in tweet if not word in stop_words])\n",
        "\n",
        "    return tweet"
      ],
      "execution_count": 7,
      "outputs": [
        {
          "output_type": "stream",
          "text": [
            "[nltk_data] Downloading package stopwords to /root/nltk_data...\n",
            "[nltk_data]   Unzipping corpora/stopwords.zip.\n"
          ],
          "name": "stdout"
        }
      ]
    },
    {
      "cell_type": "code",
      "metadata": {
        "id": "2EOrTIo8mO4M"
      },
      "source": [
        "X = data['STORY']\n",
        "y = data['SECTION']"
      ],
      "execution_count": 17,
      "outputs": []
    },
    {
      "cell_type": "code",
      "metadata": {
        "colab": {
          "base_uri": "https://localhost:8080/"
        },
        "id": "UW3Bp-rDmVev",
        "outputId": "60619523-b38d-4f60-9173-8d70d6d9e9b8"
      },
      "source": [
        "X_cleaned = X.apply(data_cleaner)\n",
        "X_cleaned.head()"
      ],
      "execution_count": 18,
      "outputs": [
        {
          "output_type": "execute_result",
          "data": {
            "text/plain": [
              "0    But painful huge reversal fee income, unheard ...\n",
              "1    How formidable opposition alliance among Congr...\n",
              "2    Most Asian currencies trading lower today. Sou...\n",
              "3    If want answer question, click ‘Answer’. After...\n",
              "4    In global markets, gold prices edged today dis...\n",
              "Name: STORY, dtype: object"
            ]
          },
          "metadata": {
            "tags": []
          },
          "execution_count": 18
        }
      ]
    },
    {
      "cell_type": "code",
      "metadata": {
        "colab": {
          "base_uri": "https://localhost:8080/"
        },
        "id": "p5YuLgS_mepO",
        "outputId": "9f05a852-66d5-4755-d34f-e505969fddd4"
      },
      "source": [
        "tokenizer = Tokenizer()\n",
        "\n",
        "tokenizer.fit_on_texts(X_cleaned)\n",
        "\n",
        "X = tokenizer.texts_to_sequences(X_cleaned)\n",
        "vocab_size = len(tokenizer.word_index)+1\n",
        "\n",
        "print(\"Vocabulary size {}\".format(vocab_size))\n",
        "print(\"\\nExample:\\n\")\n",
        "print(\"Sentence:\\n{}\".format(X_cleaned[10]))\n",
        "print(\"\\nAfter tokenizing :\\n{}\".format(X[10]))\n",
        "\n",
        "X = pad_sequences(X, padding='post')\n",
        "print(\"\\nAfter padding: \\n{}\".format(X[10]))"
      ],
      "execution_count": 19,
      "outputs": [
        {
          "output_type": "stream",
          "text": [
            "Vocabulary size 35925\n",
            "\n",
            "Example:\n",
            "\n",
            "Sentence:\n",
            "“One would think development testing process would’ve uncovered many flaws, yet proceeded put market anyway,\" said Bryan Ma, vice president devices research consultancy IDC. “Clearly can’t afford another embarrassing Note -like incident, lest build reputation releasing unreliable products.\" The Note episode triggered global recall, cost company billions dollars marred reputation battled Apple Inc. premium devices. Pulling Fold lets Korean giant address potential issues races put flexible gadget ahead Chinese rival Huawei Technologies Co. Xiaomi Corp. A Samsung spokeswoman declined comment story. Shares company, hasn’t set another date commercial launch, little changed Seoul Wednesday. Samsung bounced back since Note — remains world’s largest producer smartphones memory chips. But counting folding devices extend lead mobile kick-start stagnating global market. Unveiled along th-anniversary version flagship Galaxy S phone, Fold underscored Samsung’s ambitions like product makes. Struggling ward hard-charging rivals, Suwon, South Korea-based giant hoped gadget would embody lead cutting-edge innovation.\n",
            "\n",
            "After tokenizing :\n",
            "[4338, 19, 254, 323, 1554, 569, 12403, 9354, 69, 7084, 307, 15061, 357, 29, 5786, 2, 20583, 10560, 1097, 90, 146, 298, 3778, 1873, 15062, 1284, 4908, 155, 10561, 73, 14, 3252, 20584, 775, 3996, 2543, 12404, 337, 1, 73, 1107, 3429, 102, 3997, 435, 36, 4502, 1672, 7689, 3996, 15063, 40, 293, 734, 146, 3883, 1305, 1390, 1144, 942, 969, 718, 244, 9355, 357, 3055, 4339, 419, 193, 1285, 189, 564, 347, 238, 977, 27, 78, 4503, 873, 1009, 169, 277, 36, 1815, 114, 155, 865, 1536, 221, 491, 353, 3884, 390, 78, 8403, 49, 56, 73, 111, 1008, 1145, 494, 1339, 140, 1340, 1555, 50, 3056, 3332, 146, 2963, 587, 209, 4711, 375, 8404, 102, 29, 1023, 308, 1108, 4160, 512, 874, 91, 61, 64, 1305, 20585, 1322, 5787, 14, 547, 477, 3057, 6595, 821, 970, 1577, 20586, 229, 2495, 71, 942, 6186, 4339, 19, 15064, 587, 2142, 1537, 1453]\n",
            "\n",
            "After padding: \n",
            "[ 4338    19   254   323  1554   569 12403  9354    69  7084   307 15061\n",
            "   357    29  5786     2 20583 10560  1097    90   146   298  3778  1873\n",
            " 15062  1284  4908   155 10561    73    14  3252 20584   775  3996  2543\n",
            " 12404   337     1    73  1107  3429   102  3997   435    36  4502  1672\n",
            "  7689  3996 15063    40   293   734   146  3883  1305  1390  1144   942\n",
            "   969   718   244  9355   357  3055  4339   419   193  1285   189   564\n",
            "   347   238   977    27    78  4503   873  1009   169   277    36  1815\n",
            "   114   155   865  1536   221   491   353  3884   390    78  8403    49\n",
            "    56    73   111  1008  1145   494  1339   140  1340  1555    50  3056\n",
            "  3332   146  2963   587   209  4711   375  8404   102    29  1023   308\n",
            "  1108  4160   512   874    91    61    64  1305 20585  1322  5787    14\n",
            "   547   477  3057  6595   821   970  1577 20586   229  2495    71   942\n",
            "  6186  4339    19 15064   587  2142  1537  1453     0     0     0     0\n",
            "     0     0     0     0     0     0     0     0     0     0     0     0\n",
            "     0     0     0     0     0     0     0     0     0     0     0     0\n",
            "     0     0     0     0     0     0     0     0     0     0     0     0\n",
            "     0     0     0     0     0     0     0     0     0     0     0     0\n",
            "     0     0     0     0     0     0     0     0     0     0     0     0\n",
            "     0     0     0     0     0     0     0     0     0     0     0     0\n",
            "     0     0     0     0     0     0     0     0     0     0     0     0\n",
            "     0     0     0     0     0     0     0     0     0     0     0     0\n",
            "     0     0     0     0     0     0     0     0     0     0     0     0\n",
            "     0     0     0     0     0     0     0     0     0     0     0     0\n",
            "     0     0     0     0     0     0     0     0     0     0     0     0\n",
            "     0     0     0     0     0     0     0     0     0     0     0     0\n",
            "     0     0     0     0     0     0     0     0     0     0     0     0\n",
            "     0     0     0     0     0     0     0     0     0     0     0     0\n",
            "     0     0     0     0     0     0     0     0     0     0     0     0\n",
            "     0     0     0     0     0     0     0     0     0     0     0     0\n",
            "     0     0     0     0     0     0     0     0     0     0     0     0\n",
            "     0     0     0     0     0     0     0     0     0     0     0     0\n",
            "     0     0     0     0     0     0     0     0     0     0     0     0\n",
            "     0     0     0     0     0     0     0     0     0     0     0     0\n",
            "     0     0     0     0     0     0     0     0     0     0     0     0\n",
            "     0     0     0     0     0     0     0     0     0     0     0     0\n",
            "     0     0     0     0     0     0     0     0     0     0     0     0\n",
            "     0     0     0     0     0     0     0     0     0     0     0     0\n",
            "     0     0     0     0     0     0     0     0     0     0     0     0\n",
            "     0     0     0     0     0     0     0     0     0     0     0     0\n",
            "     0     0     0     0     0     0     0     0     0     0     0     0\n",
            "     0     0     0     0     0     0     0     0     0     0     0     0\n",
            "     0     0     0     0     0     0     0     0     0     0     0     0\n",
            "     0     0     0     0     0     0     0     0     0     0     0     0\n",
            "     0     0     0     0     0     0     0     0     0     0     0     0\n",
            "     0     0     0     0     0     0     0     0     0     0     0     0\n",
            "     0     0     0     0     0     0     0     0     0     0     0     0\n",
            "     0     0     0     0     0     0     0     0     0     0     0     0\n",
            "     0     0     0     0     0     0     0     0     0     0     0     0\n",
            "     0     0     0     0     0     0     0     0     0     0     0     0\n",
            "     0     0     0     0     0     0     0     0     0     0     0     0\n",
            "     0     0     0     0     0]\n"
          ],
          "name": "stdout"
        }
      ]
    },
    {
      "cell_type": "code",
      "metadata": {
        "colab": {
          "base_uri": "https://localhost:8080/"
        },
        "id": "LePAu3aCnE30",
        "outputId": "904a6438-7606-4bb8-81ff-bc29af23af90"
      },
      "source": [
        "\n",
        "tf.keras.backend.clear_session()\n",
        "\n",
        "# hyper parameters \n",
        "EPOCHS = 4 \n",
        "BATCH_SIZE = 64 \n",
        "embedding_dim = 32\n",
        "units = 150\n",
        "\n",
        "model = tf.keras.Sequential([\n",
        "        L.Embedding(vocab_size, embedding_dim, input_length=X.shape[1]),\n",
        "        L.Bidirectional(L.LSTM(units, return_sequences=True)),\n",
        "        L.Bidirectional(L.LSTM(units, return_sequences=True)),\n",
        "       # L.Bidirectional(L.LSTM(units, return_sequences=True)),\n",
        "\n",
        "\n",
        "\n",
        "\n",
        "        L.GlobalMaxPooling1D(),\n",
        "        L.Dropout(0.6),\n",
        "        L.Dense(128, activation='relu'),\n",
        "        L.Dense(4)\n",
        "\n",
        "\n",
        "])\n",
        "model.summary()"
      ],
      "execution_count": 41,
      "outputs": [
        {
          "output_type": "stream",
          "text": [
            "Model: \"sequential\"\n",
            "_________________________________________________________________\n",
            "Layer (type)                 Output Shape              Param #   \n",
            "=================================================================\n",
            "embedding (Embedding)        (None, 664, 32)           1149600   \n",
            "_________________________________________________________________\n",
            "bidirectional (Bidirectional (None, 664, 300)          219600    \n",
            "_________________________________________________________________\n",
            "bidirectional_1 (Bidirection (None, 664, 300)          541200    \n",
            "_________________________________________________________________\n",
            "global_max_pooling1d (Global (None, 300)               0         \n",
            "_________________________________________________________________\n",
            "dropout (Dropout)            (None, 300)               0         \n",
            "_________________________________________________________________\n",
            "dense (Dense)                (None, 128)               38528     \n",
            "_________________________________________________________________\n",
            "dense_1 (Dense)              (None, 4)                 516       \n",
            "=================================================================\n",
            "Total params: 1,949,444\n",
            "Trainable params: 1,949,444\n",
            "Non-trainable params: 0\n",
            "_________________________________________________________________\n"
          ],
          "name": "stdout"
        }
      ]
    },
    {
      "cell_type": "code",
      "metadata": {
        "id": "RFrP5dYRngWb"
      },
      "source": [
        "model.compile(loss=SparseCategoricalCrossentropy(from_logits=True),\n",
        "              optimizer='adam', \n",
        "              metrics=['accuracy'])"
      ],
      "execution_count": 42,
      "outputs": []
    },
    {
      "cell_type": "code",
      "metadata": {
        "colab": {
          "base_uri": "https://localhost:8080/"
        },
        "id": "LEgyg5BWnjlF",
        "outputId": "80a5967c-de4c-4b07-f22f-7382a687290c"
      },
      "source": [
        "\n",
        "training_history = model.fit(X, y, epochs=EPOCHS, validation_split=0.12,\n",
        "                             batch_size=BATCH_SIZE)"
      ],
      "execution_count": 43,
      "outputs": [
        {
          "output_type": "stream",
          "text": [
            "Epoch 1/4\n",
            "38/38 [==============================] - 328s 8s/step - loss: 1.2652 - accuracy: 0.4346 - val_loss: 1.0008 - val_accuracy: 0.5273\n",
            "Epoch 2/4\n",
            "38/38 [==============================] - 320s 8s/step - loss: 0.7330 - accuracy: 0.6764 - val_loss: 0.5320 - val_accuracy: 0.7909\n",
            "Epoch 3/4\n",
            "38/38 [==============================] - 318s 8s/step - loss: 0.4162 - accuracy: 0.8426 - val_loss: 0.6664 - val_accuracy: 0.8030\n",
            "Epoch 4/4\n",
            "38/38 [==============================] - 320s 8s/step - loss: 0.2608 - accuracy: 0.8980 - val_loss: 0.6707 - val_accuracy: 0.8364\n"
          ],
          "name": "stdout"
        }
      ]
    },
    {
      "cell_type": "code",
      "metadata": {
        "colab": {
          "base_uri": "https://localhost:8080/"
        },
        "id": "j51Pd6VPt8mB",
        "outputId": "5a3588e8-ee69-457b-c3ad-e52520039294"
      },
      "source": [
        "X = test['STORY']\n",
        "X_cleaned = X.apply(data_cleaner)\n",
        "X_cleaned.head()\n",
        "\n",
        "\n",
        "X = tokenizer.texts_to_sequences(X_cleaned)\n",
        "vocab_size = len(tokenizer.word_index)+1\n",
        "\n",
        "print(\"Vocabulary size {}\".format(vocab_size))\n",
        "print(\"\\nExample:\\n\")\n",
        "print(\"Sentence:\\n{}\".format(X_cleaned[10]))\n",
        "print(\"\\nAfter tokenizing :\\n{}\".format(X[10]))\n",
        "\n",
        "X = pad_sequences(X, padding='post')\n",
        "print(\"\\nAfter padding: \\n{}\".format(X[10]))"
      ],
      "execution_count": 44,
      "outputs": [
        {
          "output_type": "stream",
          "text": [
            "Vocabulary size 35925\n",
            "\n",
            "Example:\n",
            "\n",
            "Sentence:\n",
            "The NCP leadership tremendous pressure consider fielding third-generation Pawars key constituencies western Maharashtra. Parth Pawar open keenness contest Maval Lok Sabha constituency near Pune. Rohit Pawar, son Sharad Pawar’s brother Rajendra Pawar, also keen entering electoral arena set eyes Karjat-Jamkhed assembly constituency Ahmednagar constituency. The pressure increased Sharad Pawar said would contest Madha Sule would seek re-election Baramati. Last month, Sharad Pawar sought end speculation saying third-generation Pawar would contest Lok Sabha polls. However, NCP leaders legislators say Parth Pawar Rohit Pawar ready wait. Before Pawar intervened, Maval constituency saw posters Parth Pawar coming several places. Known ambitious two third-generation ticket aspirants, Parth started touring constituency six months back, one NCP legislator said. “He keen get active politics. He dedicated band young workers confident win Maval seat time too,\" said NCP legislator requesting anonymity. The Shiv Sena Maval seat elections.\n",
            "\n",
            "After tokenizing :\n",
            "[1, 1249, 737, 7107, 801, 1817, 3750, 271, 1021, 247, 384, 1693, 446, 7820, 2402, 442, 26364, 274, 13543, 39, 38, 302, 732, 2406, 6472, 2402, 667, 2683, 6716, 1872, 11193, 2402, 3, 3760, 3460, 482, 6814, 114, 2099, 22537, 206, 302, 3621, 302, 1, 801, 658, 2683, 2402, 2, 19, 274, 5114, 6301, 19, 2158, 1342, 41, 3939, 22, 125, 2683, 2402, 1655, 115, 3134, 553, 271, 1021, 2402, 19, 274, 39, 38, 116, 65, 1249, 194, 4428, 278, 7820, 2402, 6472, 2402, 1136, 1596, 1698, 2402, 13543, 302, 717, 4902, 7820, 2402, 269, 281, 2066, 534, 4508, 15, 271, 1021, 1489, 12657, 7820, 454, 29508, 302, 430, 237, 49, 12, 1249, 4214, 2, 3432, 3760, 72, 1194, 637, 130, 1800, 1336, 688, 655, 2263, 497, 13543, 182, 18, 791, 2, 1249, 4214, 2049, 1769, 1, 810, 745, 13543, 182, 25]\n",
            "\n",
            "After padding: \n",
            "[    1  1249   737  7107   801  1817  3750   271  1021   247   384  1693\n",
            "   446  7820  2402   442 26364   274 13543    39    38   302   732  2406\n",
            "  6472  2402   667  2683  6716  1872 11193  2402     3  3760  3460   482\n",
            "  6814   114  2099 22537   206   302  3621   302     1   801   658  2683\n",
            "  2402     2    19   274  5114  6301    19  2158  1342    41  3939    22\n",
            "   125  2683  2402  1655   115  3134   553   271  1021  2402    19   274\n",
            "    39    38   116    65  1249   194  4428   278  7820  2402  6472  2402\n",
            "  1136  1596  1698  2402 13543   302   717  4902  7820  2402   269   281\n",
            "  2066   534  4508    15   271  1021  1489 12657  7820   454 29508   302\n",
            "   430   237    49    12  1249  4214     2  3432  3760    72  1194   637\n",
            "   130  1800  1336   688   655  2263   497 13543   182    18   791     2\n",
            "  1249  4214  2049  1769     1   810   745 13543   182    25     0     0\n",
            "     0     0     0     0     0     0     0     0     0     0     0     0\n",
            "     0     0     0     0     0     0     0     0     0     0     0     0\n",
            "     0     0     0     0     0     0     0     0     0     0     0     0\n",
            "     0     0     0     0     0     0     0     0     0     0     0     0\n",
            "     0     0     0     0     0     0     0     0     0     0     0     0\n",
            "     0     0     0     0     0     0     0     0     0     0     0     0\n",
            "     0     0     0     0     0     0     0     0     0     0     0     0\n",
            "     0     0     0     0     0     0     0     0     0     0     0     0\n",
            "     0     0     0     0     0     0     0     0     0     0     0     0\n",
            "     0     0     0     0     0     0     0     0     0     0     0     0\n",
            "     0     0     0     0     0     0     0     0     0     0     0     0\n",
            "     0     0     0     0     0     0     0     0     0     0     0     0\n",
            "     0     0     0     0     0     0     0     0     0     0     0     0\n",
            "     0     0     0     0     0     0     0     0     0     0     0     0\n",
            "     0     0     0     0     0     0     0     0     0     0     0     0\n",
            "     0     0     0     0     0     0     0     0     0     0     0     0\n",
            "     0     0     0     0     0     0     0     0     0     0     0     0\n",
            "     0     0     0     0     0     0     0     0     0     0     0     0\n",
            "     0     0     0     0     0     0     0     0     0     0     0     0\n",
            "     0     0     0     0     0     0     0     0     0     0     0     0\n",
            "     0     0     0     0     0     0     0     0     0     0     0     0\n",
            "     0     0     0     0     0     0     0     0     0     0     0     0\n",
            "     0     0     0     0     0     0     0     0     0     0     0     0\n",
            "     0     0     0     0     0     0     0     0     0     0     0     0\n",
            "     0     0     0     0     0     0     0     0     0     0     0     0\n",
            "     0     0     0     0     0     0     0     0     0     0     0     0\n",
            "     0     0     0     0     0     0     0     0     0     0     0     0\n",
            "     0     0     0     0     0     0     0     0     0     0     0     0\n",
            "     0     0     0     0     0     0     0     0     0     0     0     0\n",
            "     0     0     0     0     0     0     0     0     0     0     0     0\n",
            "     0     0     0     0     0     0     0     0     0     0     0     0\n",
            "     0     0     0     0     0     0     0     0     0     0     0     0\n",
            "     0     0     0     0     0     0     0     0     0     0     0     0\n",
            "     0     0     0     0     0     0     0     0     0     0     0     0\n",
            "     0     0     0     0     0     0     0     0     0     0     0     0\n",
            "     0     0     0     0     0     0     0     0     0     0     0     0\n",
            "     0     0     0     0     0     0     0     0     0     0     0     0\n",
            "     0     0     0     0     0     0     0     0     0     0     0     0\n",
            "     0     0     0     0     0     0     0     0     0     0     0     0\n",
            "     0     0     0     0     0     0     0     0     0     0     0     0\n",
            "     0     0     0     0     0     0     0     0     0     0     0     0\n",
            "     0     0     0     0     0     0     0     0     0     0     0     0\n",
            "     0     0     0     0     0     0     0     0     0     0     0     0\n",
            "     0     0     0     0]\n"
          ],
          "name": "stdout"
        }
      ]
    },
    {
      "cell_type": "code",
      "metadata": {
        "colab": {
          "base_uri": "https://localhost:8080/"
        },
        "id": "njNlYKIJuNbz",
        "outputId": "2cfae2f4-6510-46b2-b83d-38c8e4f1044d"
      },
      "source": [
        "y = model.predict_classes(X)"
      ],
      "execution_count": 45,
      "outputs": [
        {
          "output_type": "stream",
          "text": [
            "/usr/local/lib/python3.7/dist-packages/tensorflow/python/keras/engine/sequential.py:450: UserWarning: `model.predict_classes()` is deprecated and will be removed after 2021-01-01. Please use instead:* `np.argmax(model.predict(x), axis=-1)`,   if your model does multi-class classification   (e.g. if it uses a `softmax` last-layer activation).* `(model.predict(x) > 0.5).astype(\"int32\")`,   if your model does binary classification   (e.g. if it uses a `sigmoid` last-layer activation).\n",
            "  warnings.warn('`model.predict_classes()` is deprecated and '\n"
          ],
          "name": "stderr"
        }
      ]
    },
    {
      "cell_type": "code",
      "metadata": {
        "id": "6AKZ6yopuoEq"
      },
      "source": [
        "y = list(y)\n",
        "y = pd.DataFrame({'SECTION':y})\n",
        "y.to_excel('Sample_submission.xlsx', index=False)"
      ],
      "execution_count": 46,
      "outputs": []
    },
    {
      "cell_type": "code",
      "metadata": {
        "id": "TOXJn_m1u8lV"
      },
      "source": [
        ""
      ],
      "execution_count": null,
      "outputs": []
    }
  ]
}