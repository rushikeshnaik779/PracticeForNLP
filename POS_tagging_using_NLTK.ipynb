{
  "nbformat": 4,
  "nbformat_minor": 0,
  "metadata": {
    "colab": {
      "name": "POS tagging using NLTK.ipynb",
      "provenance": [],
      "authorship_tag": "ABX9TyP2JJ8yuzQHBcwFGfoL84tT",
      "include_colab_link": true
    },
    "kernelspec": {
      "name": "python3",
      "display_name": "Python 3"
    }
  },
  "cells": [
    {
      "cell_type": "markdown",
      "metadata": {
        "id": "view-in-github",
        "colab_type": "text"
      },
      "source": [
        "<a href=\"https://colab.research.google.com/github/rushikeshnaik779/PracticeForNLP/blob/main/POS_tagging_using_NLTK.ipynb\" target=\"_parent\"><img src=\"https://colab.research.google.com/assets/colab-badge.svg\" alt=\"Open In Colab\"/></a>"
      ]
    },
    {
      "cell_type": "code",
      "metadata": {
        "colab": {
          "base_uri": "https://localhost:8080/"
        },
        "id": "LiXoILlH8DVc",
        "outputId": "b53657ee-bb25-4255-f2d1-b581f4818783"
      },
      "source": [
        "import nltk\n",
        "\n"
      ],
      "execution_count": 2,
      "outputs": [
        {
          "output_type": "stream",
          "text": [
            "[nltk_data] Downloading package punkt to /root/nltk_data...\n",
            "[nltk_data]   Unzipping tokenizers/punkt.zip.\n",
            "['And', 'now', 'for', 'something', 'completely', 'different']\n"
          ],
          "name": "stdout"
        }
      ]
    },
    {
      "cell_type": "code",
      "metadata": {
        "colab": {
          "base_uri": "https://localhost:8080/"
        },
        "id": "EfR-FYJv8gqZ",
        "outputId": "0a2efaa7-5006-42cd-83c1-e009e38487c4"
      },
      "source": [
        ""
      ],
      "execution_count": 4,
      "outputs": [
        {
          "output_type": "stream",
          "text": [
            "[nltk_data] Downloading package averaged_perceptron_tagger to\n",
            "[nltk_data]     /root/nltk_data...\n",
            "[nltk_data]   Unzipping taggers/averaged_perceptron_tagger.zip.\n"
          ],
          "name": "stdout"
        },
        {
          "output_type": "execute_result",
          "data": {
            "text/plain": [
              "[('And', 'CC'),\n",
              " ('now', 'RB'),\n",
              " ('for', 'IN'),\n",
              " ('something', 'NN'),\n",
              " ('completely', 'RB'),\n",
              " ('different', 'JJ')]"
            ]
          },
          "metadata": {
            "tags": []
          },
          "execution_count": 4
        }
      ]
    },
    {
      "cell_type": "code",
      "metadata": {
        "id": "k85g3Dlm8tqA"
      },
      "source": [
        "def pos_taggggggggger(data):\n",
        "    nltk.download('punkt') \n",
        "    nltk.download('averaged_perceptron_tagger')\n",
        "    tokens = nltk.word_tokenize(data)\n",
        "    pos = nltk.pos_tag(tokens)\n",
        "    return pos\n",
        "\n"
      ],
      "execution_count": 5,
      "outputs": []
    },
    {
      "cell_type": "code",
      "metadata": {
        "colab": {
          "base_uri": "https://localhost:8080/"
        },
        "id": "O0d6gMoN9GSG",
        "outputId": "8521b5e6-dd89-4db3-fbcf-09c51f57d4a5"
      },
      "source": [
        "data = \"\"\"\n",
        "Back in elementary school you learnt the difference between nouns, verbs, adjectives, and adverbs. These \"word classes\" are not just the idle invention of grammarians, but are useful categories for many language processing tasks. As we will see, they arise from simple analysis of the distribution of words in text. The goal of this chapter is to answer the following questions:\n",
        "\n",
        "What are lexical categories and how are they used in natural language processing?\n",
        "What is a good Python data structure for storing words and their categories?\n",
        "How can we automatically tag each word of a text with its word class?\n",
        "Along the way, we'll cover some fundamental techniques in NLP, including sequence labeling, n-gram models, backoff, and evaluation. These techniques are useful in many areas, and tagging gives us a simple context in which to present them. We will also see how tagging is the second step in the typical NLP pipeline, following tokenization.\n",
        "\n",
        "The process of classifying words into their parts of speech and labeling them accordingly is known as part-of-speech tagging, POS-tagging, or simply tagging. Parts of speech are also known as word classes or lexical categories. The collection of tags used for a particular task is known as a tagset. Our emphasis in this chapter is on exploiting tags, and tagging text automatically.\n",
        "\"\"\"\n",
        "pos_taggggggggger(data)"
      ],
      "execution_count": 6,
      "outputs": [
        {
          "output_type": "stream",
          "text": [
            "[nltk_data] Downloading package punkt to /root/nltk_data...\n",
            "[nltk_data]   Package punkt is already up-to-date!\n",
            "[nltk_data] Downloading package averaged_perceptron_tagger to\n",
            "[nltk_data]     /root/nltk_data...\n",
            "[nltk_data]   Package averaged_perceptron_tagger is already up-to-\n",
            "[nltk_data]       date!\n"
          ],
          "name": "stdout"
        },
        {
          "output_type": "execute_result",
          "data": {
            "text/plain": [
              "[('Back', 'RB'),\n",
              " ('in', 'IN'),\n",
              " ('elementary', 'JJ'),\n",
              " ('school', 'NN'),\n",
              " ('you', 'PRP'),\n",
              " ('learnt', 'VBP'),\n",
              " ('the', 'DT'),\n",
              " ('difference', 'NN'),\n",
              " ('between', 'IN'),\n",
              " ('nouns', 'NNS'),\n",
              " (',', ','),\n",
              " ('verbs', 'NNS'),\n",
              " (',', ','),\n",
              " ('adjectives', 'NNS'),\n",
              " (',', ','),\n",
              " ('and', 'CC'),\n",
              " ('adverbs', 'RB'),\n",
              " ('.', '.'),\n",
              " ('These', 'DT'),\n",
              " ('``', '``'),\n",
              " ('word', 'NN'),\n",
              " ('classes', 'NNS'),\n",
              " (\"''\", \"''\"),\n",
              " ('are', 'VBP'),\n",
              " ('not', 'RB'),\n",
              " ('just', 'RB'),\n",
              " ('the', 'DT'),\n",
              " ('idle', 'JJ'),\n",
              " ('invention', 'NN'),\n",
              " ('of', 'IN'),\n",
              " ('grammarians', 'NNS'),\n",
              " (',', ','),\n",
              " ('but', 'CC'),\n",
              " ('are', 'VBP'),\n",
              " ('useful', 'JJ'),\n",
              " ('categories', 'NNS'),\n",
              " ('for', 'IN'),\n",
              " ('many', 'JJ'),\n",
              " ('language', 'NN'),\n",
              " ('processing', 'NN'),\n",
              " ('tasks', 'NNS'),\n",
              " ('.', '.'),\n",
              " ('As', 'IN'),\n",
              " ('we', 'PRP'),\n",
              " ('will', 'MD'),\n",
              " ('see', 'VB'),\n",
              " (',', ','),\n",
              " ('they', 'PRP'),\n",
              " ('arise', 'VBP'),\n",
              " ('from', 'IN'),\n",
              " ('simple', 'JJ'),\n",
              " ('analysis', 'NN'),\n",
              " ('of', 'IN'),\n",
              " ('the', 'DT'),\n",
              " ('distribution', 'NN'),\n",
              " ('of', 'IN'),\n",
              " ('words', 'NNS'),\n",
              " ('in', 'IN'),\n",
              " ('text', 'NN'),\n",
              " ('.', '.'),\n",
              " ('The', 'DT'),\n",
              " ('goal', 'NN'),\n",
              " ('of', 'IN'),\n",
              " ('this', 'DT'),\n",
              " ('chapter', 'NN'),\n",
              " ('is', 'VBZ'),\n",
              " ('to', 'TO'),\n",
              " ('answer', 'VB'),\n",
              " ('the', 'DT'),\n",
              " ('following', 'JJ'),\n",
              " ('questions', 'NNS'),\n",
              " (':', ':'),\n",
              " ('What', 'WP'),\n",
              " ('are', 'VBP'),\n",
              " ('lexical', 'JJ'),\n",
              " ('categories', 'NNS'),\n",
              " ('and', 'CC'),\n",
              " ('how', 'WRB'),\n",
              " ('are', 'VBP'),\n",
              " ('they', 'PRP'),\n",
              " ('used', 'VBD'),\n",
              " ('in', 'IN'),\n",
              " ('natural', 'JJ'),\n",
              " ('language', 'NN'),\n",
              " ('processing', 'NN'),\n",
              " ('?', '.'),\n",
              " ('What', 'WP'),\n",
              " ('is', 'VBZ'),\n",
              " ('a', 'DT'),\n",
              " ('good', 'JJ'),\n",
              " ('Python', 'NNP'),\n",
              " ('data', 'NN'),\n",
              " ('structure', 'NN'),\n",
              " ('for', 'IN'),\n",
              " ('storing', 'VBG'),\n",
              " ('words', 'NNS'),\n",
              " ('and', 'CC'),\n",
              " ('their', 'PRP$'),\n",
              " ('categories', 'NNS'),\n",
              " ('?', '.'),\n",
              " ('How', 'WRB'),\n",
              " ('can', 'MD'),\n",
              " ('we', 'PRP'),\n",
              " ('automatically', 'RB'),\n",
              " ('tag', 'VBP'),\n",
              " ('each', 'DT'),\n",
              " ('word', 'NN'),\n",
              " ('of', 'IN'),\n",
              " ('a', 'DT'),\n",
              " ('text', 'NN'),\n",
              " ('with', 'IN'),\n",
              " ('its', 'PRP$'),\n",
              " ('word', 'NN'),\n",
              " ('class', 'NN'),\n",
              " ('?', '.'),\n",
              " ('Along', 'IN'),\n",
              " ('the', 'DT'),\n",
              " ('way', 'NN'),\n",
              " (',', ','),\n",
              " ('we', 'PRP'),\n",
              " (\"'ll\", 'MD'),\n",
              " ('cover', 'VB'),\n",
              " ('some', 'DT'),\n",
              " ('fundamental', 'JJ'),\n",
              " ('techniques', 'NNS'),\n",
              " ('in', 'IN'),\n",
              " ('NLP', 'NNP'),\n",
              " (',', ','),\n",
              " ('including', 'VBG'),\n",
              " ('sequence', 'NN'),\n",
              " ('labeling', 'NN'),\n",
              " (',', ','),\n",
              " ('n-gram', 'JJ'),\n",
              " ('models', 'NNS'),\n",
              " (',', ','),\n",
              " ('backoff', 'NN'),\n",
              " (',', ','),\n",
              " ('and', 'CC'),\n",
              " ('evaluation', 'NN'),\n",
              " ('.', '.'),\n",
              " ('These', 'DT'),\n",
              " ('techniques', 'NNS'),\n",
              " ('are', 'VBP'),\n",
              " ('useful', 'JJ'),\n",
              " ('in', 'IN'),\n",
              " ('many', 'JJ'),\n",
              " ('areas', 'NNS'),\n",
              " (',', ','),\n",
              " ('and', 'CC'),\n",
              " ('tagging', 'VBG'),\n",
              " ('gives', 'VBZ'),\n",
              " ('us', 'PRP'),\n",
              " ('a', 'DT'),\n",
              " ('simple', 'JJ'),\n",
              " ('context', 'NN'),\n",
              " ('in', 'IN'),\n",
              " ('which', 'WDT'),\n",
              " ('to', 'TO'),\n",
              " ('present', 'VB'),\n",
              " ('them', 'PRP'),\n",
              " ('.', '.'),\n",
              " ('We', 'PRP'),\n",
              " ('will', 'MD'),\n",
              " ('also', 'RB'),\n",
              " ('see', 'VB'),\n",
              " ('how', 'WRB'),\n",
              " ('tagging', 'NN'),\n",
              " ('is', 'VBZ'),\n",
              " ('the', 'DT'),\n",
              " ('second', 'JJ'),\n",
              " ('step', 'NN'),\n",
              " ('in', 'IN'),\n",
              " ('the', 'DT'),\n",
              " ('typical', 'JJ'),\n",
              " ('NLP', 'NNP'),\n",
              " ('pipeline', 'NN'),\n",
              " (',', ','),\n",
              " ('following', 'VBG'),\n",
              " ('tokenization', 'NN'),\n",
              " ('.', '.'),\n",
              " ('The', 'DT'),\n",
              " ('process', 'NN'),\n",
              " ('of', 'IN'),\n",
              " ('classifying', 'VBG'),\n",
              " ('words', 'NNS'),\n",
              " ('into', 'IN'),\n",
              " ('their', 'PRP$'),\n",
              " ('parts', 'NNS'),\n",
              " ('of', 'IN'),\n",
              " ('speech', 'NN'),\n",
              " ('and', 'CC'),\n",
              " ('labeling', 'VBG'),\n",
              " ('them', 'PRP'),\n",
              " ('accordingly', 'RB'),\n",
              " ('is', 'VBZ'),\n",
              " ('known', 'VBN'),\n",
              " ('as', 'IN'),\n",
              " ('part-of-speech', 'JJ'),\n",
              " ('tagging', 'NN'),\n",
              " (',', ','),\n",
              " ('POS-tagging', 'NNP'),\n",
              " (',', ','),\n",
              " ('or', 'CC'),\n",
              " ('simply', 'RB'),\n",
              " ('tagging', 'VBG'),\n",
              " ('.', '.'),\n",
              " ('Parts', 'NNS'),\n",
              " ('of', 'IN'),\n",
              " ('speech', 'NN'),\n",
              " ('are', 'VBP'),\n",
              " ('also', 'RB'),\n",
              " ('known', 'VBN'),\n",
              " ('as', 'IN'),\n",
              " ('word', 'NN'),\n",
              " ('classes', 'VBZ'),\n",
              " ('or', 'CC'),\n",
              " ('lexical', 'JJ'),\n",
              " ('categories', 'NNS'),\n",
              " ('.', '.'),\n",
              " ('The', 'DT'),\n",
              " ('collection', 'NN'),\n",
              " ('of', 'IN'),\n",
              " ('tags', 'NNS'),\n",
              " ('used', 'VBN'),\n",
              " ('for', 'IN'),\n",
              " ('a', 'DT'),\n",
              " ('particular', 'JJ'),\n",
              " ('task', 'NN'),\n",
              " ('is', 'VBZ'),\n",
              " ('known', 'VBN'),\n",
              " ('as', 'IN'),\n",
              " ('a', 'DT'),\n",
              " ('tagset', 'NN'),\n",
              " ('.', '.'),\n",
              " ('Our', 'PRP$'),\n",
              " ('emphasis', 'NN'),\n",
              " ('in', 'IN'),\n",
              " ('this', 'DT'),\n",
              " ('chapter', 'NN'),\n",
              " ('is', 'VBZ'),\n",
              " ('on', 'IN'),\n",
              " ('exploiting', 'VBG'),\n",
              " ('tags', 'NNS'),\n",
              " (',', ','),\n",
              " ('and', 'CC'),\n",
              " ('tagging', 'VBG'),\n",
              " ('text', 'NN'),\n",
              " ('automatically', 'RB'),\n",
              " ('.', '.')]"
            ]
          },
          "metadata": {
            "tags": []
          },
          "execution_count": 6
        }
      ]
    },
    {
      "cell_type": "code",
      "metadata": {
        "id": "cY5n8s1x9Qcz"
      },
      "source": [
        ""
      ],
      "execution_count": null,
      "outputs": []
    }
  ]
}