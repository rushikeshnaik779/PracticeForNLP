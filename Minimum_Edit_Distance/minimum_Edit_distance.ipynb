{
  "nbformat": 4,
  "nbformat_minor": 0,
  "metadata": {
    "colab": {
      "name": "minimum_Edit_distance.ipynb",
      "provenance": [],
      "collapsed_sections": []
    },
    "kernelspec": {
      "name": "python3",
      "display_name": "Python 3"
    }
  },
  "cells": [
    {
      "cell_type": "code",
      "metadata": {
        "id": "FPDyMf0gVLht"
      },
      "source": [
        "import pandas as pd \n",
        "import numpy as np"
      ],
      "execution_count": null,
      "outputs": []
    },
    {
      "cell_type": "code",
      "metadata": {
        "id": "iTXhc8HAVV7E"
      },
      "source": [
        "del_cost=1\n",
        "ins_cost=1\n",
        "sub_cost=2"
      ],
      "execution_count": null,
      "outputs": []
    },
    {
      "cell_type": "code",
      "metadata": {
        "id": "4s2t6tFAVeOh"
      },
      "source": [
        "def calculate_minimum_edit_distance(source, target):\n",
        "    n = len(source)\n",
        "    m = len(target)\n",
        "    MED_matrix = np.zeros((n+1, m+1), dtype='int32')\n",
        "    for i in range(1, n+1):\n",
        "        MED_matrix[i][0] = MED_matrix[i-1][0]+ del_cost\n",
        "    for i in range(1, m+1):\n",
        "        MED_matrix[0][i] = MED_matrix[0][i-1]+ del_cost\n",
        "    \n",
        "    for i in range(1, n+1):\n",
        "        for j in range(1, m+1):\n",
        "            if(source[i-1] == target[j-1]):\n",
        "                MED_matrix[i][j] = min([MED_matrix[i-1][j]+del_cost, \n",
        "                                       MED_matrix[i-1][j-1]+0, MED_matrix[i][j-1]+ins_cost])\n",
        "                \n",
        "            else : \n",
        "                MED_matrix[i][j]=min([MED_matrix[i-1][j]+del_cost,MED_matrix[i-1][j-1]+sub_cost,MED_matrix[i][j-1]+ins_cost])\n",
        "\n",
        "    print(MED_matrix)\n",
        "    return MED_matrix[n][m]\n"
      ],
      "execution_count": 11,
      "outputs": []
    },
    {
      "cell_type": "code",
      "metadata": {
        "colab": {
          "base_uri": "https://localhost:8080/"
        },
        "id": "kAT9EGVmYWzW",
        "outputId": "313de70b-4edb-4eb1-f7aa-9fbf43f6a3bf"
      },
      "source": [
        "calculate_minimum_edit_distance('This is a cat','This is a dog')"
      ],
      "execution_count": 12,
      "outputs": [
        {
          "output_type": "stream",
          "text": [
            "[[ 0  1  2  3  4  5  6  7  8  9 10 11 12 13]\n",
            " [ 1  0  1  2  3  4  5  6  7  8  9 10 11 12]\n",
            " [ 2  1  0  1  2  3  4  5  6  7  8  9 10 11]\n",
            " [ 3  2  1  0  1  2  3  4  5  6  7  8  9 10]\n",
            " [ 4  3  2  1  0  1  2  3  4  5  6  7  8  9]\n",
            " [ 5  4  3  2  1  0  1  2  3  4  5  6  7  8]\n",
            " [ 6  5  4  3  2  1  0  1  2  3  4  5  6  7]\n",
            " [ 7  6  5  4  3  2  1  0  1  2  3  4  5  6]\n",
            " [ 8  7  6  5  4  3  2  1  0  1  2  3  4  5]\n",
            " [ 9  8  7  6  5  4  3  2  1  0  1  2  3  4]\n",
            " [10  9  8  7  6  5  4  3  2  1  0  1  2  3]\n",
            " [11 10  9  8  7  6  5  4  3  2  1  2  3  4]\n",
            " [12 11 10  9  8  7  6  5  4  3  2  3  4  5]\n",
            " [13 12 11 10  9  8  7  6  5  4  3  4  5  6]]\n"
          ],
          "name": "stdout"
        },
        {
          "output_type": "execute_result",
          "data": {
            "text/plain": [
              "6"
            ]
          },
          "metadata": {
            "tags": []
          },
          "execution_count": 12
        }
      ]
    },
    {
      "cell_type": "code",
      "metadata": {
        "id": "0QzmxZATYZzj",
        "colab": {
          "base_uri": "https://localhost:8080/"
        },
        "outputId": "80e8164a-574f-4896-f8d8-af1e2643dc75"
      },
      "source": [
        "calculate_minimum_edit_distance('Aadesh', 'aadesss')"
      ],
      "execution_count": 13,
      "outputs": [
        {
          "output_type": "stream",
          "text": [
            "[[0 1 2 3 4 5 6 7]\n",
            " [1 2 3 4 5 6 7 8]\n",
            " [2 1 2 3 4 5 6 7]\n",
            " [3 2 3 2 3 4 5 6]\n",
            " [4 3 4 3 2 3 4 5]\n",
            " [5 4 5 4 3 2 3 4]\n",
            " [6 5 6 5 4 3 4 5]]\n"
          ],
          "name": "stdout"
        },
        {
          "output_type": "execute_result",
          "data": {
            "text/plain": [
              "5"
            ]
          },
          "metadata": {
            "tags": []
          },
          "execution_count": 13
        }
      ]
    },
    {
      "cell_type": "code",
      "metadata": {
        "id": "zxrj7WEYaO5Q"
      },
      "source": [
        ""
      ],
      "execution_count": null,
      "outputs": []
    }
  ]
}