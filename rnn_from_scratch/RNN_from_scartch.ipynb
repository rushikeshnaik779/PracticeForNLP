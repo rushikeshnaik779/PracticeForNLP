{
  "nbformat": 4,
  "nbformat_minor": 0,
  "metadata": {
    "colab": {
      "name": "RNN from scartch.ipynb",
      "provenance": []
    },
    "kernelspec": {
      "name": "python3",
      "display_name": "Python 3"
    }
  },
  "cells": [
    {
      "cell_type": "code",
      "metadata": {
        "id": "CqyICe7y6e0z"
      },
      "source": [
        "import pandas as pd\n",
        "import matplotlib.pyplot as plt \n",
        "import seaborn as sns\n",
        "import numpy as np"
      ],
      "execution_count": 1,
      "outputs": []
    },
    {
      "cell_type": "code",
      "metadata": {
        "id": "EGEP2Bpe6wiC"
      },
      "source": [
        "def generate_bits(n_x, m):\n",
        "# Generate a m x n_x array of ints between 0 and 1, inclusive:\n",
        "# m: number of rows\n",
        "# n_x : number of columns per rows/ feature set\n",
        "    np.random.seed(1)\n",
        "    data = np.random.randint(2, size=(n_x, m))\n",
        "    return(data)"
      ],
      "execution_count": 47,
      "outputs": []
    },
    {
      "cell_type": "code",
      "metadata": {
        "id": "tebKggIw7Y-v"
      },
      "source": [
        "# Create labels for traingin and updating derivatives of parameter weight and bias , \n",
        "# the loss function determine the difference between actual values and the activation values. \n",
        "# The actal value is the value that each example(row) has as it label. \n",
        "# like the actual value of OR operation : \n",
        "# 1 + 0  = 1= actualValue > : [or operation =+] \n",
        "\n",
        "# The generate_label function below takes data as input and apply XOR operation \n",
        "# row wise \n"
      ],
      "execution_count": 48,
      "outputs": []
    },
    {
      "cell_type": "code",
      "metadata": {
        "id": "ELqtQ4Qj8IsY"
      },
      "source": [
        "def generate_label(data, m):\n",
        "    # generate label by appyling xor operation to individual row\n",
        "    # return list of label (results)\n",
        "        # data: binary data set of m by n_x size\n",
        "    lst_y = []\n",
        "    y= np.empty((m,1))\n",
        "    k = 0\n",
        "    for tmp in data.T:\n",
        "        xor = np.logical_xor(tmp[0], tmp[1])\n",
        "\n",
        "        for i in range(2, tmp.shape[0]):\n",
        "            xor = np.logical_xor(xor, tmp[i])\n",
        "    #     print(xor)\n",
        "        lst_y.append(int(xor))\n",
        "        y[k,:] = int(xor)\n",
        "        k+=1\n",
        "    return(y.T)"
      ],
      "execution_count": 49,
      "outputs": []
    },
    {
      "cell_type": "code",
      "metadata": {
        "id": "gYhubbmN9Yi3"
      },
      "source": [
        "data = generate_bits(2, 100)"
      ],
      "execution_count": 50,
      "outputs": []
    },
    {
      "cell_type": "code",
      "metadata": {
        "colab": {
          "base_uri": "https://localhost:8080/"
        },
        "id": "eQuAuhaG9cw3",
        "outputId": "2d7cb062-9fd5-4842-cbaa-cde095350bdf"
      },
      "source": [
        "data"
      ],
      "execution_count": 51,
      "outputs": [
        {
          "output_type": "execute_result",
          "data": {
            "text/plain": [
              "array([[1, 1, 0, 0, 1, 1, 1, 1, 1, 0, 0, 1, 0, 1, 1, 0, 0, 1, 0, 0, 0, 1,\n",
              "        0, 0, 1, 0, 0, 0, 1, 0, 0, 0, 1, 1, 1, 1, 1, 0, 0, 0, 1, 1, 1, 1,\n",
              "        1, 1, 0, 1, 1, 0, 0, 1, 0, 0, 1, 1, 1, 0, 1, 0, 0, 1, 1, 0, 1, 1,\n",
              "        1, 1, 0, 0, 1, 1, 0, 0, 0, 0, 1, 1, 1, 0, 1, 0, 0, 1, 1, 0, 1, 1,\n",
              "        0, 1, 0, 0, 1, 1, 1, 0, 1, 1, 0, 1],\n",
              "       [1, 1, 1, 0, 0, 0, 0, 0, 1, 1, 1, 1, 1, 1, 1, 0, 0, 0, 0, 0, 0, 1,\n",
              "        1, 1, 1, 1, 1, 0, 0, 1, 1, 0, 0, 1, 0, 0, 0, 1, 1, 1, 1, 1, 0, 1,\n",
              "        0, 1, 0, 0, 0, 1, 1, 1, 0, 1, 0, 0, 0, 0, 1, 0, 1, 0, 1, 1, 1, 0,\n",
              "        0, 0, 0, 0, 0, 1, 0, 0, 1, 0, 0, 1, 1, 0, 0, 0, 1, 0, 0, 0, 0, 1,\n",
              "        0, 0, 0, 0, 1, 1, 0, 0, 1, 1, 1, 0]])"
            ]
          },
          "metadata": {
            "tags": []
          },
          "execution_count": 51
        }
      ]
    },
    {
      "cell_type": "code",
      "metadata": {
        "colab": {
          "base_uri": "https://localhost:8080/"
        },
        "id": "lsQs4exv9dcj",
        "outputId": "343761eb-0aa6-4fa8-ebfc-86109530796a"
      },
      "source": [
        "generate_label(data, 100)"
      ],
      "execution_count": 52,
      "outputs": [
        {
          "output_type": "execute_result",
          "data": {
            "text/plain": [
              "array([[0., 0., 1., 0., 1., 1., 1., 1., 0., 1., 1., 0., 1., 0., 0., 0.,\n",
              "        0., 1., 0., 0., 0., 0., 1., 1., 0., 1., 1., 0., 1., 1., 1., 0.,\n",
              "        1., 0., 1., 1., 1., 1., 1., 1., 0., 0., 1., 0., 1., 0., 0., 1.,\n",
              "        1., 1., 1., 0., 0., 1., 1., 1., 1., 0., 0., 0., 1., 1., 0., 1.,\n",
              "        0., 1., 1., 1., 0., 0., 1., 0., 0., 0., 1., 0., 1., 0., 0., 0.,\n",
              "        1., 0., 1., 1., 1., 0., 1., 0., 0., 1., 0., 0., 0., 0., 1., 0.,\n",
              "        0., 0., 1., 1.]])"
            ]
          },
          "metadata": {
            "tags": []
          },
          "execution_count": 52
        }
      ]
    },
    {
      "cell_type": "code",
      "metadata": {
        "id": "9krmbH6b9jds"
      },
      "source": [
        "def sigmoid(z):\n",
        "    # determine sigmoid of value\n",
        "        #z: linear activation\n",
        "    s = 1 / (1 + np.exp(-z))\n",
        "    return s"
      ],
      "execution_count": 53,
      "outputs": []
    },
    {
      "cell_type": "code",
      "metadata": {
        "id": "ccVPqn_7-XPF"
      },
      "source": [
        "def rnn_cell_compute(xt, a_prev, parameters):\n",
        "    # Computes and returns activations, predcitions yhat\n",
        "        #xt: input to current state\n",
        "        #a_prev: activation from previous state\n",
        "        #parameters: dictonary object of weights and bias\n",
        "        \n",
        "    Wax = parameters[\"Wax\"]\n",
        "    Waa = parameters[\"Waa\"]\n",
        "    Wya = parameters[\"Wya\"]\n",
        "    ba = parameters[\"ba\"]\n",
        "    by = parameters[\"by\"]\n",
        "    \n",
        "    # compute next activation state using the formula given above\n",
        "    a_next = np.tanh(np.dot(Wax, xt) + np.dot(Waa, a_prev) + ba)\n",
        "    # compute output of the current cell using the formula given above\n",
        "    yt_pred = sigmoid(np.dot(Wya, a_next) + by)\n",
        "\n",
        "    # store values you need for backward propagation in cache\n",
        "    cache = (a_next, a_prev, xt, parameters)\n",
        "    \n",
        "    return a_next, yt_pred, cache"
      ],
      "execution_count": 54,
      "outputs": []
    },
    {
      "cell_type": "code",
      "metadata": {
        "id": "a2-jajnB-Zxf"
      },
      "source": [
        "# So RNN unfolded architecture will be coming each single RNN - cell and get input \n",
        "# of features x and activations from the previous states a^(t -1 ) we have combined each RNN-cell to \n",
        "# demonstrate the architecture over t-time sequence \n",
        "\n",
        "# rnn_ forward the generic function that computes the acitvations and predictions based on the lenght of sequence t and get activations \n",
        "# and predictions from the rnn_cell_compute. The fucntions takes x input data, previous activations and parameters.\n",
        "\n",
        "\n"
      ],
      "execution_count": 23,
      "outputs": []
    },
    {
      "cell_type": "code",
      "metadata": {
        "id": "jpIkmavbBfem"
      },
      "source": [
        "def rnn_forward(x, a0, parameters):\n",
        "    # Itereate over the rnn_cell_compute function to compute activations, predictions for the states length equal to time stamp\n",
        "        #x: input data with feature set and time stemp t_x\n",
        "        #a0: activations at previous state\n",
        "        #parameters: dictonary object of weights and bias\n",
        "\n",
        "    caches = []\n",
        "    \n",
        "    # Retrieve dimensions from shapes of x and Wy\n",
        "    n_x, m, T_x = x.shape\n",
        "    n_y, n_a = parameters[\"Wya\"].shape\n",
        "    \n",
        "    ### START CODE HERE ###\n",
        "    \n",
        "    # initialize \"a\" and \"y\" with zeros \n",
        "    a = np.zeros((n_a, m, T_x))\n",
        "    y_pred = np.zeros((n_y, m, T_x))\n",
        "    \n",
        "    # Initialize a_next \n",
        "    a_next = a0\n",
        "    \n",
        "    # loop over all time-steps\n",
        "    for t in range(T_x):\n",
        "        # Update next hidden state, compute the prediction, get the cache \n",
        "        a_next, yt_pred, cache = rnn_cell_compute(x[:,:,t], a_next, parameters)\n",
        "        # Save the value of the new \"next\" hidden state in a (≈1 line)\n",
        "        a[:,:,t] = a_next\n",
        "        # Save the value of the prediction in y \n",
        "        y_pred[:,:,t] = yt_pred\n",
        "        # Append \"cache\" to \"caches\" \n",
        "        caches.append(cache)\n",
        "            \n",
        "    # store values needed for backward propagation in cache\n",
        "    caches = (caches, x)\n",
        "    \n",
        "    return a, y_pred, caches"
      ],
      "execution_count": 55,
      "outputs": []
    },
    {
      "cell_type": "code",
      "metadata": {
        "id": "AVF0Z-HbEFGU"
      },
      "source": [
        "def initialize_param(h, n_x, n_y):\n",
        "    # Intialize required paramters w's and b's\n",
        "        #h: number of activations\n",
        "        #n_x: number of input feature set\n",
        "        #n_y: number of output node\n",
        "    np.random.seed(1)\n",
        "    Waa = np.random.randn(h,h)\n",
        "    Wax = np.random.randn(h,n_x)\n",
        "    Wya = np.random.randn(n_y,h)\n",
        "    ba = np.random.randn(h,n_y)\n",
        "    by = np.random.randn(1,1)\n",
        "    parameters = {\"Waa\": Waa, \"Wax\": Wax, \"Wya\": Wya, \"ba\": ba, \"by\": by}\n",
        "    return(parameters)"
      ],
      "execution_count": 56,
      "outputs": []
    },
    {
      "cell_type": "code",
      "metadata": {
        "id": "KraAxgNTFhMT"
      },
      "source": [
        "def compute_cost(y, y_pred, t_x, m):\n",
        "    #calculate logistic cost w.r.t. prediction yhat and actual value y\n",
        "        #y: target label\n",
        "        #y_pred: predicted values from network\n",
        "        #t_x: length of time stemp\n",
        "        #m: number of trainig examples\n",
        "    y_hat = y_pred[:,:,t_x-1]\n",
        "    loss = -1*(y* np.log(y_hat) + (1-y) * np.log(1-y_hat))\n",
        "    cost = np.sum(loss)/m\n",
        "    return(cost)"
      ],
      "execution_count": 57,
      "outputs": []
    },
    {
      "cell_type": "code",
      "metadata": {
        "id": "aWX2kyBhGCWd"
      },
      "source": [
        "def derivative_output(yhat, y, a, t_x, m):\n",
        "     ## compute partial derivative of parameters at output layer\n",
        "        # yhat: activation from sigmoid \n",
        "        # y: target label\n",
        "        # a: activation at last time stamp\n",
        "    dZy = yhat - y\n",
        "    dby = (1 / m) * np.sum(dZy, axis=1, keepdims=True)\n",
        "    dWya = (1 / m) * np.dot(dZy, a[:,:,t_x-1].T) \n",
        "    \n",
        "    gradient_output = {'dWya': dWya, 'dby': dby, 'dZy': dZy}\n",
        "    return(gradient_output)"
      ],
      "execution_count": 58,
      "outputs": []
    },
    {
      "cell_type": "code",
      "metadata": {
        "id": "gzAfA7eSGRVc"
      },
      "source": [
        "def rnn_cell_backward(da_next, cache):\n",
        "    # compute derivatives and returns a dictonary objects of them\n",
        "        #da_next: derivative of activation of next state\n",
        "        #cache: tuple containing information from the forward pass (output of rnn_cell_forward())\n",
        "    \n",
        "    # Retrieve values from cache\n",
        "    (a_next, a_prev, xt, parameters) = cache\n",
        "    \n",
        "    # Retrieve values from parameters\n",
        "    Wax = parameters[\"Wax\"]\n",
        "    Waa = parameters[\"Waa\"]\n",
        "    Wya = parameters[\"Wya\"]\n",
        "    ba = parameters[\"ba\"]\n",
        "    by = parameters[\"by\"]\n",
        "\n",
        "    # compute the gradient of tanh with respect to a_next\n",
        "    dtanh = (1 - a_next ** 2) * da_next\n",
        "\n",
        "    # compute the gradient of the loss with respect to Wax \n",
        "    dxt = (1 / m) * Wax.T.dot(dtanh)\n",
        "    dWax = (1 / m) * dtanh.dot(xt.T)\n",
        "\n",
        "    # compute the gradient with respect to Waa\n",
        "    da_prev = (1 / m) * Waa.T.dot(dtanh)\n",
        "    dWaa = (1 / m) * dtanh.dot(a_prev.T)\n",
        "\n",
        "    # compute the gradient with respect to b \n",
        "    dba = (1 / m) * np.sum(dtanh, 1, keepdims=True)\n",
        "\n",
        "    \n",
        "    \n",
        "    # Store the gradients in a python dictionary\n",
        "    gradients = {\"dxt\": dxt, \"da_prev\": da_prev, \"dWax\": dWax, \"dWaa\": dWaa, \"dba\": dba}\n",
        "    \n",
        "    return gradients"
      ],
      "execution_count": 59,
      "outputs": []
    },
    {
      "cell_type": "code",
      "metadata": {
        "id": "blYepoDTIi5W"
      },
      "source": [
        "def rnn_backward(caches, y, n_a, m, T_x, yhat, a): \n",
        "    # compute every states derivatives and return them\n",
        "        #cache: tuple containing information from the forward pass (rnn_forward)\n",
        "        #y: target label\n",
        "        #n_a: number of activation states\n",
        "        #m: training examples\n",
        "        #T_x: time stam\n",
        "        #yhat: predicted values\n",
        "        #a: activations\n",
        "        \n",
        "    # Retrieve values from the first cache (t=1) of caches \n",
        "    (caches, x) = caches\n",
        "    (a1, a0, x1, parameters) = caches[0]\n",
        "    \n",
        "    # Retrieve dimensions from x1's shapes \n",
        "    n_x, m = x1.shape\n",
        "    \n",
        "    da = np.empty((h,m))\n",
        "    \n",
        "    # initialize the gradients with the right sizes (≈6 lines)\n",
        "    dx = np.zeros((n_x, m, T_x))\n",
        "    dWax = np.zeros((n_a, n_x))\n",
        "    dWaa = np.zeros((n_a, n_a))\n",
        "    dba = np.zeros((n_a, 1))\n",
        "    da0 = np.zeros((n_a, 1))\n",
        "    da_prevt = np.zeros((n_a, 1))\n",
        "    \n",
        "    # Loop through all the time steps\n",
        "    for t in reversed(range(T_x)):\n",
        "        # Compute gradients at time step t. Choose wisely the \"da_next\" and the \"cache\" to use in the backward propagation step.\n",
        "        if (t == T_x-1):\n",
        "            gradient_output = derivative_output(yhat[:,:, t], y, a, T_x, m)\n",
        "\n",
        "            dZy = gradient_output['dZy']\n",
        "            Wya = parameters['Wya']\n",
        "            da = np.dot(Wya.T,dZy)\n",
        "        else:\n",
        "            Waa = parameters['Waa']\n",
        "            da = np.dot(Waa.T,da_prevt)      \n",
        "        \n",
        "        gradients = rnn_cell_backward(da, caches[t])\n",
        "        \n",
        "        # Retrieve derivatives from gradients (≈ 1 line)\n",
        "        dxt, da_prevt, dWaxt, dWaat, dbat = gradients[\"dxt\"], gradients[\"da_prev\"], gradients[\"dWax\"], gradients[\"dWaa\"], gradients[\"dba\"]\n",
        "        # Increment global derivatives w.r.t parameters by adding their derivative at time-step t (≈4 lines)\n",
        "        dx[:, :, t] = dxt\n",
        "        dWax += dWaxt\n",
        "        dWaa += dWaat\n",
        "        dba += dbat\n",
        "        \n",
        "    # Set da0 to the gradient of a which has been backpropagated through all time-steps (≈1 line) \n",
        "    da0 = da_prevt\n",
        "\n",
        "    # Store the gradients in a python dictionary\n",
        "    gradients = {\"dx\": dx, \"da0\": da0, \"dWax\": dWax, \"dWaa\": dWaa,\"dba\": dba, \"dWya\": gradient_output[\"dWya\"],\n",
        "                 \"dby\": gradient_output[\"dby\"] }\n",
        "    \n",
        "    return gradients"
      ],
      "execution_count": 60,
      "outputs": []
    },
    {
      "cell_type": "code",
      "metadata": {
        "id": "g7JOD26aL9UH"
      },
      "source": [
        "def update_parameters(parameters, gradients, lr):\n",
        "    # update and return parameters \n",
        "        # parameters: dictonary object of w's and b's\n",
        "        # gradients: dictionary: object of gradient of w's and b's\n",
        "        #lr: learning rate\n",
        "        \n",
        "    parameters['Waa'] = parameters['Waa'] - (lr * gradients['dWaa'])\n",
        "    parameters['Wax'] = parameters['Wax'] - (lr * gradients['dWax'])\n",
        "    parameters['Wya'] = parameters['Wya'] - (lr * gradients['dWya'])\n",
        "    parameters['ba'] = parameters['ba'] - (lr * gradients['dba'])\n",
        "    parameters['by'] = parameters['by'] - (lr * gradients['dby'])\n",
        "    \n",
        "    return(parameters)"
      ],
      "execution_count": 61,
      "outputs": []
    },
    {
      "cell_type": "code",
      "metadata": {
        "id": "5t_JzUwEMFDN"
      },
      "source": [
        "def update_prev_a(a0, gradients, lr):\n",
        "    # update and return activations\n",
        "        #a0: activations before first state\n",
        "        #gradients: dictionary: object of gradient of w's and b's\n",
        "        #lr: learning rate\n",
        "        \n",
        "    a0 = a0 - (lr*gradients['da0'])\n",
        "    return(a0)"
      ],
      "execution_count": 62,
      "outputs": []
    },
    {
      "cell_type": "code",
      "metadata": {
        "id": "H5WXawqhMHaj"
      },
      "source": [
        "def optimize_parameters(x, y, a0, parameters, h, m, t_x, lr, num_iter):\n",
        "    # returns list of cost at each iteration and updated parameters\n",
        "        #x: input data\n",
        "        #y: target labels\n",
        "        #a0: activation before state 1\n",
        "        #parameters: dictionary objects of parameters\n",
        "        #h: number of node\n",
        "        #m: number of training examples\n",
        "        #t_x: time stamp (length of sequence of data)\n",
        "        #lr: learning rate\n",
        "        #num_iter: an integer\n",
        "    lst_cost = []\n",
        "\n",
        "    for i in range(0, num_iter):\n",
        "        a, yhat, caches = rnn_forward(x, a0, parameters)\n",
        "        gradients = rnn_backward(caches, y, h, m, t_x, yhat, a)\n",
        "        parameters = update_parameters(parameters, gradients, lr)\n",
        "        cost = compute_cost(y, yhat, t_x, m)\n",
        "        lst_cost.append(cost)\n",
        "        a0 = update_prev_a(a0, gradients, lr)\n",
        "    return (lst_cost, parameters)"
      ],
      "execution_count": 63,
      "outputs": []
    },
    {
      "cell_type": "code",
      "metadata": {
        "id": "-URWLlgvMJ01"
      },
      "source": [
        "def plt_res(lst, ylab, lr):\n",
        "    #This will plot the list of values at y axis while x axis will contain number of iteration\n",
        "    #lst: lst of action/cost\n",
        "    #ylab: y-axis label\n",
        "    #lr: learning rate\n",
        "    plt.plot(lst)\n",
        "    #plt.ylabel(ylab)\n",
        "    plt.xlabel('iterations')\n",
        "    #plt.title(\"Learning rate =\" + str(lr))\n",
        "    plt.show()"
      ],
      "execution_count": 68,
      "outputs": []
    },
    {
      "cell_type": "code",
      "metadata": {
        "id": "oAGKP_E-MMoD"
      },
      "source": [
        "np.random.seed(1)\n",
        "\n",
        "n_x = 1\n",
        "t_x = 50\n",
        "n_y = 1\n",
        "m = 10000\n",
        "lr = 0.5\n",
        "h = 25 \n",
        "num_iter = 20\n",
        "\n",
        "x = generate_bits(m, t_x)\n",
        "y = generate_label(x.T, m)\n",
        "x = x.T.reshape(n_x,m,t_x)\n",
        "\n",
        "a0 = np.random.randn(h,m)\n",
        "parameters = initialize_param(h, n_x, n_y)\n",
        "\n",
        "\"\"\"Uncomment below line of code to trian RNN\"\"\"\n",
        "lst_cost_s, parameters_s = optimize_parameters(x, y, a0, parameters, h, m, t_x, lr, num_iter)\n",
        "\n",
        "######################################################################################\n",
        "\n",
        "m = 100000\n",
        "\n",
        "x = generate_bits(m, t_x)\n",
        "y = generate_label(x.T, m)\n",
        "x = x.T.reshape(n_x,m,t_x)\n",
        "\n",
        "a0 = np.random.randn(h,m)\n",
        "parameters = initialize_param(h, n_x, n_y)\n",
        "\n",
        "\"\"\"Uncomment below line of code to trian RNN\"\"\"\n",
        "lst_cost_m, parameters_m = optimize_parameters(x, y, a0, parameters, h, m, t_x, lr, num_iter)"
      ],
      "execution_count": 79,
      "outputs": []
    },
    {
      "cell_type": "code",
      "metadata": {
        "colab": {
          "base_uri": "https://localhost:8080/",
          "height": 279
        },
        "id": "UwPvX0yYMUGK",
        "outputId": "4f0eab93-df7b-48cb-8136-d4d63849d936"
      },
      "source": [
        "plt_res(lst_cost_s,3,4 )"
      ],
      "execution_count": 80,
      "outputs": [
        {
          "output_type": "display_data",
          "data": {
            "image/png": "[encoded data removed]",
            "text/plain": [
              "<Figure size 432x288 with 1 Axes>"
            ]
          },
          "metadata": {
            "tags": [],
            "needs_background": "light"
          }
        }
      ]
    },
    {
      "cell_type": "code",
      "metadata": {
        "colab": {
          "base_uri": "https://localhost:8080/",
          "height": 279
        },
        "id": "MxaJ6FRSbUpP",
        "outputId": "47bcafdc-b0df-447f-9eaa-24beab793e1a"
      },
      "source": [
        "plt_res(lst_cost_m,3,4 )"
      ],
      "execution_count": 81,
      "outputs": [
        {
          "output_type": "display_data",
          "data": {
            "image/png": "[encoded data removed]",
            "text/plain": [
              "<Figure size 432x288 with 1 Axes>"
            ]
          },
          "metadata": {
            "tags": [],
            "needs_background": "light"
          }
        }
      ]
    },
    {
      "cell_type": "code",
      "metadata": {
        "id": "fXzWJy2T-zzV"
      },
      "source": [
        ""
      ],
      "execution_count": null,
      "outputs": []
    }
  ]
}