{
  "nbformat": 4,
  "nbformat_minor": 0,
  "metadata": {
    "colab": {
      "name": "RNN using tensorflow 87% Accuracy 85% F1Score .ipynb",
      "provenance": []
    },
    "kernelspec": {
      "name": "python3",
      "display_name": "Python 3"
    }
  },
  "cells": [
    {
      "cell_type": "code",
      "metadata": {
        "id": "ueTpsg0cveoZ"
      },
      "source": [
        "import tensorflow as tf\n",
        "from tensorflow.keras.preprocessing.text import Tokenizer\n",
        "from tensorflow.keras.preprocessing.sequence import pad_sequences \n",
        "\n",
        "import tensorflow.keras.layers as L\n",
        "from tensorflow.keras.losses import SparseCategoricalCrossentropy \n",
        "from tensorflow.keras.optimizers import Adam\n",
        "\n",
        "from sklearn.model_selection import train_test_split\n",
        "from sklearn.metrics import confusion_matrix \n",
        "from sklearn.metrics import classification_report \n",
        "\n",
        "\n",
        "import matplotlib.pyplot as plt \n",
        "import seaborn as sns\n",
        "\n",
        "import numpy as np\n",
        "import pandas as pd\n",
        "\n",
        "import nltk \n",
        "from nltk.stem.porter import PorterStemmer\n",
        "from nltk.tokenize import TweetTokenizer, word_tokenize\n",
        "from nltk.corpus import stopwords\n",
        "\n",
        "import re "
      ],
      "execution_count": 1,
      "outputs": []
    },
    {
      "cell_type": "code",
      "metadata": {
        "colab": {
          "base_uri": "https://localhost:8080/",
          "height": 204
        },
        "id": "6j6Btve5xOZW",
        "outputId": "4faed1fd-ea36-430c-f1e6-2817554de85d"
      },
      "source": [
        "# get the data \n",
        "train = pd.read_csv('Corona_NLP_train.csv', encoding='latin1')\n",
        "test = pd.read_csv('Corona_NLP_test.csv', encoding='latin1')\n",
        "\n",
        "train.head()"
      ],
      "execution_count": 2,
      "outputs": [
        {
          "output_type": "execute_result",
          "data": {
            "text/html": [
              "<div>\n",
              "<style scoped>\n",
              "    .dataframe tbody tr th:only-of-type {\n",
              "        vertical-align: middle;\n",
              "    }\n",
              "\n",
              "    .dataframe tbody tr th {\n",
              "        vertical-align: top;\n",
              "    }\n",
              "\n",
              "    .dataframe thead th {\n",
              "        text-align: right;\n",
              "    }\n",
              "</style>\n",
              "<table border=\"1\" class=\"dataframe\">\n",
              "  <thead>\n",
              "    <tr style=\"text-align: right;\">\n",
              "      <th></th>\n",
              "      <th>UserName</th>\n",
              "      <th>ScreenName</th>\n",
              "      <th>Location</th>\n",
              "      <th>TweetAt</th>\n",
              "      <th>OriginalTweet</th>\n",
              "      <th>Sentiment</th>\n",
              "    </tr>\n",
              "  </thead>\n",
              "  <tbody>\n",
              "    <tr>\n",
              "      <th>0</th>\n",
              "      <td>3799</td>\n",
              "      <td>48751</td>\n",
              "      <td>London</td>\n",
              "      <td>16-03-2020</td>\n",
              "      <td>@MeNyrbie @Phil_Gahan @Chrisitv https://t.co/i...</td>\n",
              "      <td>Neutral</td>\n",
              "    </tr>\n",
              "    <tr>\n",
              "      <th>1</th>\n",
              "      <td>3800</td>\n",
              "      <td>48752</td>\n",
              "      <td>UK</td>\n",
              "      <td>16-03-2020</td>\n",
              "      <td>advice Talk to your neighbours family to excha...</td>\n",
              "      <td>Positive</td>\n",
              "    </tr>\n",
              "    <tr>\n",
              "      <th>2</th>\n",
              "      <td>3801</td>\n",
              "      <td>48753</td>\n",
              "      <td>Vagabonds</td>\n",
              "      <td>16-03-2020</td>\n",
              "      <td>Coronavirus Australia: Woolworths to give elde...</td>\n",
              "      <td>Positive</td>\n",
              "    </tr>\n",
              "    <tr>\n",
              "      <th>3</th>\n",
              "      <td>3802</td>\n",
              "      <td>48754</td>\n",
              "      <td>NaN</td>\n",
              "      <td>16-03-2020</td>\n",
              "      <td>My food stock is not the only one which is emp...</td>\n",
              "      <td>Positive</td>\n",
              "    </tr>\n",
              "    <tr>\n",
              "      <th>4</th>\n",
              "      <td>3803</td>\n",
              "      <td>48755</td>\n",
              "      <td>NaN</td>\n",
              "      <td>16-03-2020</td>\n",
              "      <td>Me, ready to go at supermarket during the #COV...</td>\n",
              "      <td>Extremely Negative</td>\n",
              "    </tr>\n",
              "  </tbody>\n",
              "</table>\n",
              "</div>"
            ],
            "text/plain": [
              "   UserName  ...           Sentiment\n",
              "0      3799  ...             Neutral\n",
              "1      3800  ...            Positive\n",
              "2      3801  ...            Positive\n",
              "3      3802  ...            Positive\n",
              "4      3803  ...  Extremely Negative\n",
              "\n",
              "[5 rows x 6 columns]"
            ]
          },
          "metadata": {
            "tags": []
          },
          "execution_count": 2
        }
      ]
    },
    {
      "cell_type": "code",
      "metadata": {
        "colab": {
          "base_uri": "https://localhost:8080/"
        },
        "id": "a9-ilyhryABm",
        "outputId": "64bcf54b-6d91-4ac8-d785-8d31b6ace88a"
      },
      "source": [
        "# Dataset size \n",
        "\n",
        "print(\"Examples in train data : {}\".format(len(train)))\n",
        "print(\"Examples in test data : {}\".format(len(test)))"
      ],
      "execution_count": 3,
      "outputs": [
        {
          "output_type": "stream",
          "text": [
            "Examples in train data : 41157\n",
            "Examples in test data : 3798\n"
          ],
          "name": "stdout"
        }
      ]
    },
    {
      "cell_type": "code",
      "metadata": {
        "colab": {
          "base_uri": "https://localhost:8080/"
        },
        "id": "CONpaPrTyOzq",
        "outputId": "7011cc50-176f-4d0e-92eb-5a18339ab12a"
      },
      "source": [
        "train.isna().sum()"
      ],
      "execution_count": 4,
      "outputs": [
        {
          "output_type": "execute_result",
          "data": {
            "text/plain": [
              "UserName            0\n",
              "ScreenName          0\n",
              "Location         8590\n",
              "TweetAt             0\n",
              "OriginalTweet       0\n",
              "Sentiment           0\n",
              "dtype: int64"
            ]
          },
          "metadata": {
            "tags": []
          },
          "execution_count": 4
        }
      ]
    },
    {
      "cell_type": "code",
      "metadata": {
        "id": "zD7m4BaGyTOy"
      },
      "source": [
        "dist_train = train['Sentiment'].value_counts()\n",
        "dist_test = test['Sentiment'].value_counts()\n",
        "\n",
        "def distribution_plot(x, y, name=\"\"):\n",
        "    plt.figure(figsize=(15,5))\n",
        "    sns.barplot(x=x, y=y)\n",
        "    plt.title(name)\n",
        "    plt.show()\n"
      ],
      "execution_count": 7,
      "outputs": []
    },
    {
      "cell_type": "code",
      "metadata": {
        "colab": {
          "base_uri": "https://localhost:8080/",
          "height": 336
        },
        "id": "dN56EIP-y1Mz",
        "outputId": "bc54fc79-5746-4315-9823-50bee6325f65"
      },
      "source": [
        "distribution_plot(x=dist_train.index, y=dist_train.values, name=\"Class Distribution Train\")"
      ],
      "execution_count": 8,
      "outputs": [
        {
          "output_type": "display_data",
          "data": {
            "image/png": "[encoded data removed]",
            "text/plain": [
              "<Figure size 1080x360 with 1 Axes>"
            ]
          },
          "metadata": {
            "tags": [],
            "needs_background": "light"
          }
        }
      ]
    },
    {
      "cell_type": "code",
      "metadata": {
        "colab": {
          "base_uri": "https://localhost:8080/",
          "height": 336
        },
        "id": "KN5xw_HHzCEZ",
        "outputId": "255dd926-84f8-489d-e4d0-ea9a59968c7a"
      },
      "source": [
        "distribution_plot(x=dist_test.index, y=dist_test.values, name=\"Class Distribution Train\")"
      ],
      "execution_count": 9,
      "outputs": [
        {
          "output_type": "display_data",
          "data": {
            "image/png": "[encoded data removed]",
            "text/plain": [
              "<Figure size 1080x360 with 1 Axes>"
            ]
          },
          "metadata": {
            "tags": [],
            "needs_background": "light"
          }
        }
      ]
    },
    {
      "cell_type": "code",
      "metadata": {
        "id": "lpDQBrSIzQJG"
      },
      "source": [
        "# DATA PREPROCESSING \n",
        "\n",
        "X = train['OriginalTweet'].copy()\n",
        "y = train['Sentiment'].copy()"
      ],
      "execution_count": 10,
      "outputs": []
    },
    {
      "cell_type": "code",
      "metadata": {
        "colab": {
          "base_uri": "https://localhost:8080/"
        },
        "id": "u0JzfBazzcWN",
        "outputId": "f3153a78-f1d7-41cc-a262-3a75ef36cc81"
      },
      "source": [
        "# Cleaning \n",
        "nltk.download('stopwords')\n",
        "stop_words = stopwords.words('english')\n",
        "\n",
        "def data_cleaner(tweet):\n",
        "    # remove urls\n",
        "    tweet = re.sub(r'http\\S+', '', tweet)\n",
        "\n",
        "    # remove html tags \n",
        "    tweet = re.sub(r'<.*?>', '', tweet)\n",
        "\n",
        "    # remove digits\n",
        "    tweet = re.sub(r'\\d+', '', tweet)\n",
        "\n",
        "    #remove hashtags \n",
        "    tweet = re.sub(r'#\\w+', '', tweet)\n",
        "\n",
        "    # remove mentions \n",
        "    tweet = re.sub(r'@\\w+', '', tweet)\n",
        "\n",
        "    # removing stop words\n",
        "\n",
        "    tweet = tweet.split()\n",
        "    tweet = \" \".join([word for word in tweet if not word in stop_words])\n",
        "\n",
        "    return tweet"
      ],
      "execution_count": 14,
      "outputs": [
        {
          "output_type": "stream",
          "text": [
            "[nltk_data] Downloading package stopwords to /root/nltk_data...\n",
            "[nltk_data]   Unzipping corpora/stopwords.zip.\n"
          ],
          "name": "stdout"
        }
      ]
    },
    {
      "cell_type": "code",
      "metadata": {
        "colab": {
          "base_uri": "https://localhost:8080/",
          "height": 35
        },
        "id": "4Yt7MiQl0kt4",
        "outputId": "959839fd-b5a1-4e55-b0a8-093f49c553b5"
      },
      "source": [
        "data_cleaner(\"https:\\\\skdjfh.com is the good website with 900 followers #goood @obama should take a look into it\")"
      ],
      "execution_count": 15,
      "outputs": [
        {
          "output_type": "execute_result",
          "data": {
            "application/vnd.google.colaboratory.intrinsic+json": {
              "type": "string"
            },
            "text/plain": [
              "'good website followers take look'"
            ]
          },
          "metadata": {
            "tags": []
          },
          "execution_count": 15
        }
      ]
    },
    {
      "cell_type": "code",
      "metadata": {
        "colab": {
          "base_uri": "https://localhost:8080/"
        },
        "id": "zUnH9aQs0yKJ",
        "outputId": "e25f7fdf-ddaa-45a6-d5d1-13a87592d935"
      },
      "source": [
        "X_cleaned = X.apply(data_cleaner)\n",
        "X_cleaned.head()"
      ],
      "execution_count": 16,
      "outputs": [
        {
          "output_type": "execute_result",
          "data": {
            "text/plain": [
              "0                                                     \n",
              "1    advice Talk neighbours family exchange phone n...\n",
              "2    Coronavirus Australia: Woolworths give elderly...\n",
              "3    My food stock one empty... PLEASE, panic, THER...\n",
              "4    Me, ready go supermarket outbreak. Not I'm par...\n",
              "Name: OriginalTweet, dtype: object"
            ]
          },
          "metadata": {
            "tags": []
          },
          "execution_count": 16
        }
      ]
    },
    {
      "cell_type": "code",
      "metadata": {
        "colab": {
          "base_uri": "https://localhost:8080/"
        },
        "id": "O_iQRu_T1NOP",
        "outputId": "0b8095dc-1258-4500-bb13-6cccd9c118c3"
      },
      "source": [
        "# TOKENIZING \n",
        "\n",
        "tokenizer = Tokenizer()\n",
        "tokenizer.fit_on_texts(X_cleaned)\n",
        "\n",
        "X = tokenizer.texts_to_sequences(X_cleaned)\n",
        "\n",
        "vocab_size = len(tokenizer.word_index)+1\n",
        "\n",
        "\n",
        "print(\"Vocabulary size {}\".format(vocab_size))\n",
        "print(\"\\nExample:\\n\")\n",
        "print(\"Sentence:\\n{}\".format(X_cleaned[10]))\n",
        "print(\"\\nAfter tokenizing :\\n{}\".format(X[10]))\n",
        "\n",
        "X = pad_sequences(X, padding='post')\n",
        "print(\"\\nAfter padding: \\n{}\".format(X[10]))"
      ],
      "execution_count": 18,
      "outputs": [
        {
          "output_type": "stream",
          "text": [
            "Vocabulary size 35935\n",
            "\n",
            "Example:\n",
            "\n",
            "Sentence:\n",
            "All month crowding supermarkets restaurants, however reducing hours closing malls means everyone using entrance dependent single supermarket.\n",
            "\n",
            "After tokenizing :\n",
            "[119, 371, 3797, 178, 406, 802, 1611, 194, 614, 2139, 498, 77, 272, 2895, 4678, 718, 6]\n",
            "\n",
            "After padding: \n",
            "[ 119  371 3797  178  406  802 1611  194  614 2139  498   77  272 2895\n",
            " 4678  718    6    0    0    0    0    0    0    0    0    0    0    0\n",
            "    0    0    0    0    0    0    0    0    0    0    0    0    0    0\n",
            "    0    0    0    0    0    0    0    0    0    0    0    0]\n"
          ],
          "name": "stdout"
        }
      ]
    },
    {
      "cell_type": "code",
      "metadata": {
        "id": "KtB7PFwl3HsI"
      },
      "source": [
        "encoding = {\n",
        "    'Extremely Negative':0,\n",
        "    'Negative':0,\n",
        "    'Neutral':1,\n",
        "    'Positive':2,\n",
        "    'Extremely Positive':2\n",
        "}\n",
        "\n",
        "labels = ['Negative', 'Neutral', 'Positive']\n",
        "\n",
        "y.replace(encoding, inplace=True)"
      ],
      "execution_count": 19,
      "outputs": []
    },
    {
      "cell_type": "code",
      "metadata": {
        "colab": {
          "base_uri": "https://localhost:8080/"
        },
        "id": "XbBBntX94J5X",
        "outputId": "3da4fce8-bd07-4ce3-f050-72139ea0968b"
      },
      "source": [
        "#Modeling Building & Training \n",
        "\n",
        "tf.keras.backend.clear_session()\n",
        "\n",
        "# hyper parameters \n",
        "EPOCHS = 2 \n",
        "BATCH_SIZE = 32 \n",
        "embedding_dim = 16\n",
        "units = 256\n",
        "\n",
        "model = tf.keras.Sequential([\n",
        "        L.Embedding(vocab_size, embedding_dim, input_length=X.shape[1]),\n",
        "        L.Bidirectional(L.LSTM(units, return_sequences=True)),\n",
        "        L.GlobalMaxPooling1D(),\n",
        "        L.Dropout(0.4),\n",
        "        L.Dense(64, activation='relu'),\n",
        "        L.Dropout(0.4),\n",
        "        L.Dense(3)\n",
        "\n",
        "\n",
        "])\n",
        "model.summary()"
      ],
      "execution_count": 24,
      "outputs": [
        {
          "output_type": "stream",
          "text": [
            "Model: \"sequential\"\n",
            "_________________________________________________________________\n",
            "Layer (type)                 Output Shape              Param #   \n",
            "=================================================================\n",
            "embedding (Embedding)        (None, 54, 16)            574960    \n",
            "_________________________________________________________________\n",
            "bidirectional (Bidirectional (None, 54, 512)           559104    \n",
            "_________________________________________________________________\n",
            "global_max_pooling1d (Global (None, 512)               0         \n",
            "_________________________________________________________________\n",
            "dropout (Dropout)            (None, 512)               0         \n",
            "_________________________________________________________________\n",
            "dense (Dense)                (None, 64)                32832     \n",
            "_________________________________________________________________\n",
            "dropout_1 (Dropout)          (None, 64)                0         \n",
            "_________________________________________________________________\n",
            "dense_1 (Dense)              (None, 3)                 195       \n",
            "=================================================================\n",
            "Total params: 1,167,091\n",
            "Trainable params: 1,167,091\n",
            "Non-trainable params: 0\n",
            "_________________________________________________________________\n"
          ],
          "name": "stdout"
        }
      ]
    },
    {
      "cell_type": "code",
      "metadata": {
        "colab": {
          "base_uri": "https://localhost:8080/"
        },
        "id": "7XwvfaRN5QTz",
        "outputId": "7f2b5936-9155-432c-ba2b-cd28135af705"
      },
      "source": [
        "model.compile(loss=SparseCategoricalCrossentropy(from_logits=True),\n",
        "              optimizer='adam', \n",
        "              metrics=['accuracy'])\n",
        "\n",
        "model.summary()"
      ],
      "execution_count": 25,
      "outputs": [
        {
          "output_type": "stream",
          "text": [
            "Model: \"sequential\"\n",
            "_________________________________________________________________\n",
            "Layer (type)                 Output Shape              Param #   \n",
            "=================================================================\n",
            "embedding (Embedding)        (None, 54, 16)            574960    \n",
            "_________________________________________________________________\n",
            "bidirectional (Bidirectional (None, 54, 512)           559104    \n",
            "_________________________________________________________________\n",
            "global_max_pooling1d (Global (None, 512)               0         \n",
            "_________________________________________________________________\n",
            "dropout (Dropout)            (None, 512)               0         \n",
            "_________________________________________________________________\n",
            "dense (Dense)                (None, 64)                32832     \n",
            "_________________________________________________________________\n",
            "dropout_1 (Dropout)          (None, 64)                0         \n",
            "_________________________________________________________________\n",
            "dense_1 (Dense)              (None, 3)                 195       \n",
            "=================================================================\n",
            "Total params: 1,167,091\n",
            "Trainable params: 1,167,091\n",
            "Non-trainable params: 0\n",
            "_________________________________________________________________\n"
          ],
          "name": "stdout"
        }
      ]
    },
    {
      "cell_type": "code",
      "metadata": {
        "colab": {
          "base_uri": "https://localhost:8080/"
        },
        "id": "Ub63K5lN5rgk",
        "outputId": "93f4d28d-a46d-479f-b06b-341ef067b292"
      },
      "source": [
        "training_history = model.fit(X, y, epochs=EPOCHS, validation_split=0.12,\n",
        "                             batch_size=BATCH_SIZE)"
      ],
      "execution_count": 26,
      "outputs": [
        {
          "output_type": "stream",
          "text": [
            "Epoch 1/2\n",
            "1132/1132 [==============================] - 406s 355ms/step - loss: 0.8407 - accuracy: 0.5814 - val_loss: 0.4073 - val_accuracy: 0.8662\n",
            "Epoch 2/2\n",
            "1132/1132 [==============================] - 405s 358ms/step - loss: 0.3434 - accuracy: 0.8899 - val_loss: 0.3798 - val_accuracy: 0.8629\n"
          ],
          "name": "stdout"
        }
      ]
    },
    {
      "cell_type": "code",
      "metadata": {
        "id": "CCJ-GPTA56YB"
      },
      "source": [
        "X_test = test['OriginalTweet'].copy()\n",
        "y_test = test['Sentiment'].copy()\n",
        "\n",
        "X_test = X_test.apply(data_cleaner)\n",
        "\n",
        "X_test = tokenizer.texts_to_sequences(X_test)\n",
        "\n",
        "X_test = pad_sequences(X_test, padding='post')\n",
        "\n",
        "y_test.replace(encoding, inplace=True)"
      ],
      "execution_count": 27,
      "outputs": []
    },
    {
      "cell_type": "code",
      "metadata": {
        "colab": {
          "base_uri": "https://localhost:8080/"
        },
        "id": "Mvo0rhba9Sqz",
        "outputId": "3737f4c3-6b40-416f-dc59-0d7d3d5e9e96"
      },
      "source": [
        "pred = model.predict_classes(X_test)"
      ],
      "execution_count": 28,
      "outputs": [
        {
          "output_type": "stream",
          "text": [
            "WARNING:tensorflow:Model was constructed with shape (None, 54) for input KerasTensor(type_spec=TensorSpec(shape=(None, 54), dtype=tf.float32, name='embedding_input'), name='embedding_input', description=\"created by layer 'embedding_input'\"), but it was called on an input with incompatible shape (None, 48).\n"
          ],
          "name": "stdout"
        },
        {
          "output_type": "stream",
          "text": [
            "/usr/local/lib/python3.6/dist-packages/tensorflow/python/keras/engine/sequential.py:450: UserWarning: `model.predict_classes()` is deprecated and will be removed after 2021-01-01. Please use instead:* `np.argmax(model.predict(x), axis=-1)`,   if your model does multi-class classification   (e.g. if it uses a `softmax` last-layer activation).* `(model.predict(x) > 0.5).astype(\"int32\")`,   if your model does binary classification   (e.g. if it uses a `sigmoid` last-layer activation).\n",
            "  warnings.warn('`model.predict_classes()` is deprecated and '\n"
          ],
          "name": "stderr"
        }
      ]
    },
    {
      "cell_type": "code",
      "metadata": {
        "colab": {
          "base_uri": "https://localhost:8080/"
        },
        "id": "97mghjA09VAN",
        "outputId": "741083d7-2e38-48df-b843-a717ece75fe7"
      },
      "source": [
        "loss, acc = model.evaluate(X_test,y_test,verbose=0)\n",
        "print('Test loss: {}'.format(loss))\n",
        "print('Test Accuracy: {}'.format(acc))"
      ],
      "execution_count": 29,
      "outputs": [
        {
          "output_type": "stream",
          "text": [
            "WARNING:tensorflow:Model was constructed with shape (None, 54) for input KerasTensor(type_spec=TensorSpec(shape=(None, 54), dtype=tf.float32, name='embedding_input'), name='embedding_input', description=\"created by layer 'embedding_input'\"), but it was called on an input with incompatible shape (None, 48).\n",
            "Test loss: 0.42728954553604126\n",
            "Test Accuracy: 0.8464981317520142\n"
          ],
          "name": "stdout"
        }
      ]
    },
    {
      "cell_type": "code",
      "metadata": {
        "colab": {
          "base_uri": "https://localhost:8080/",
          "height": 598
        },
        "id": "lnGK0SRf9YyN",
        "outputId": "c0351d77-a2c5-4a58-d3f5-fc8a91f14c01"
      },
      "source": [
        "conf = confusion_matrix(y_test, pred)\n",
        "\n",
        "cm = pd.DataFrame(\n",
        "    conf, index = [i for i in labels],\n",
        "    columns = [i for i in labels]\n",
        ")\n",
        "\n",
        "plt.figure(figsize = (12,7))\n",
        "sns.heatmap(cm, annot=True, fmt=\"d\")\n",
        "plt.show()\n",
        "\n",
        "print(classification_report(y_test, pred, target_names=labels))\n"
      ],
      "execution_count": 30,
      "outputs": [
        {
          "output_type": "display_data",
          "data": {
            "image/png": "[encoded data removed]",
            "text/plain": [
              "<Figure size 864x504 with 2 Axes>"
            ]
          },
          "metadata": {
            "tags": [],
            "needs_background": "light"
          }
        },
        {
          "output_type": "stream",
          "text": [
            "              precision    recall  f1-score   support\n",
            "\n",
            "    Negative       0.80      0.91      0.85      1633\n",
            "     Neutral       0.90      0.77      0.83       619\n",
            "    Positive       0.89      0.82      0.85      1546\n",
            "\n",
            "    accuracy                           0.85      3798\n",
            "   macro avg       0.86      0.83      0.84      3798\n",
            "weighted avg       0.85      0.85      0.85      3798\n",
            "\n"
          ],
          "name": "stdout"
        }
      ]
    },
    {
      "cell_type": "code",
      "metadata": {
        "id": "rhglX2Hh9ja4"
      },
      "source": [
        ""
      ],
      "execution_count": null,
      "outputs": []
    }
  ]
}