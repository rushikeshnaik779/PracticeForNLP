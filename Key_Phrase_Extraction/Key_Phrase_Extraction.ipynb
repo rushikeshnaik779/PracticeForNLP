{
  "nbformat": 4,
  "nbformat_minor": 0,
  "metadata": {
    "colab": {
      "name": "Key Phrase Extraction.ipynb",
      "provenance": []
    },
    "kernelspec": {
      "name": "python3",
      "display_name": "Python 3"
    }
  },
  "cells": [
    {
      "cell_type": "code",
      "metadata": {
        "colab": {
          "base_uri": "https://localhost:8080/"
        },
        "id": "PWy6ft9Ns9sw",
        "outputId": "29bf1b74-91de-4b26-b72b-cb3e73efa820"
      },
      "source": [
        "!pip install textacy==0.9.1\n",
        "!python -m spacy download en_core_web_sm\n",
        "\n",
        "\n",
        "import spacy \n",
        "import textacy.ke\n",
        "from textacy import *"
      ],
      "execution_count": 1,
      "outputs": [
        {
          "output_type": "stream",
          "text": [
            "Collecting textacy==0.9.1\n",
            "\u001b[?25l  Downloading https://files.pythonhosted.org/packages/3a/5e/3b8391cf6ff39350b73f8421184cf6792002b5c2c17982b7c9fbd5ff36de/textacy-0.9.1-py3-none-any.whl (203kB)\n",
            "\u001b[K     |████████████████████████████████| 204kB 5.4MB/s \n",
            "\u001b[?25hRequirement already satisfied: spacy>=2.0.12 in /usr/local/lib/python3.7/dist-packages (from textacy==0.9.1) (2.2.4)\n",
            "Requirement already satisfied: joblib>=0.13.0 in /usr/local/lib/python3.7/dist-packages (from textacy==0.9.1) (1.0.1)\n",
            "Requirement already satisfied: requests>=2.10.0 in /usr/local/lib/python3.7/dist-packages (from textacy==0.9.1) (2.23.0)\n",
            "Requirement already satisfied: scikit-learn>=0.19.0 in /usr/local/lib/python3.7/dist-packages (from textacy==0.9.1) (0.22.2.post1)\n",
            "Requirement already satisfied: srsly>=0.0.5 in /usr/local/lib/python3.7/dist-packages (from textacy==0.9.1) (1.0.5)\n",
            "Requirement already satisfied: tqdm>=4.19.6 in /usr/local/lib/python3.7/dist-packages (from textacy==0.9.1) (4.41.1)\n",
            "Collecting jellyfish>=0.7.0\n",
            "\u001b[?25l  Downloading https://files.pythonhosted.org/packages/30/a6/4d039bc827a102f62ce7a7910713e38fdfd7c7a40aa39c72fb14938a1473/jellyfish-0.8.2-cp37-cp37m-manylinux2014_x86_64.whl (90kB)\n",
            "\u001b[K     |████████████████████████████████| 92kB 4.5MB/s \n",
            "\u001b[?25hRequirement already satisfied: scipy>=0.17.0 in /usr/local/lib/python3.7/dist-packages (from textacy==0.9.1) (1.4.1)\n",
            "Requirement already satisfied: cachetools>=2.0.1 in /usr/local/lib/python3.7/dist-packages (from textacy==0.9.1) (4.2.1)\n",
            "Collecting cytoolz>=0.8.0\n",
            "\u001b[?25l  Downloading https://files.pythonhosted.org/packages/58/67/1c60da8ba831bfefedb64c78b9f6820bdf58972797c95644ee3191daf27a/cytoolz-0.11.0.tar.gz (477kB)\n",
            "\u001b[K     |████████████████████████████████| 481kB 6.8MB/s \n",
            "\u001b[?25hRequirement already satisfied: pyemd>=0.5.0 in /usr/local/lib/python3.7/dist-packages (from textacy==0.9.1) (0.5.1)\n",
            "Collecting pyphen>=0.9.4\n",
            "\u001b[?25l  Downloading https://files.pythonhosted.org/packages/7c/5a/5bc036e01389bc6a6667a932bac3e388de6e7fa5777a6ff50e652f60ec79/Pyphen-0.10.0-py3-none-any.whl (1.9MB)\n",
            "\u001b[K     |████████████████████████████████| 1.9MB 8.8MB/s \n",
            "\u001b[?25hRequirement already satisfied: numpy>=1.17.0 in /usr/local/lib/python3.7/dist-packages (from textacy==0.9.1) (1.19.5)\n",
            "Requirement already satisfied: networkx>=2.0 in /usr/local/lib/python3.7/dist-packages (from textacy==0.9.1) (2.5)\n",
            "Requirement already satisfied: plac<1.2.0,>=0.9.6 in /usr/local/lib/python3.7/dist-packages (from spacy>=2.0.12->textacy==0.9.1) (1.1.3)\n",
            "Requirement already satisfied: cymem<2.1.0,>=2.0.2 in /usr/local/lib/python3.7/dist-packages (from spacy>=2.0.12->textacy==0.9.1) (2.0.5)\n",
            "Requirement already satisfied: thinc==7.4.0 in /usr/local/lib/python3.7/dist-packages (from spacy>=2.0.12->textacy==0.9.1) (7.4.0)\n",
            "Requirement already satisfied: setuptools in /usr/local/lib/python3.7/dist-packages (from spacy>=2.0.12->textacy==0.9.1) (54.0.0)\n",
            "Requirement already satisfied: blis<0.5.0,>=0.4.0 in /usr/local/lib/python3.7/dist-packages (from spacy>=2.0.12->textacy==0.9.1) (0.4.1)\n",
            "Requirement already satisfied: preshed<3.1.0,>=3.0.2 in /usr/local/lib/python3.7/dist-packages (from spacy>=2.0.12->textacy==0.9.1) (3.0.5)\n",
            "Requirement already satisfied: wasabi<1.1.0,>=0.4.0 in /usr/local/lib/python3.7/dist-packages (from spacy>=2.0.12->textacy==0.9.1) (0.8.2)\n",
            "Requirement already satisfied: catalogue<1.1.0,>=0.0.7 in /usr/local/lib/python3.7/dist-packages (from spacy>=2.0.12->textacy==0.9.1) (1.0.0)\n",
            "Requirement already satisfied: murmurhash<1.1.0,>=0.28.0 in /usr/local/lib/python3.7/dist-packages (from spacy>=2.0.12->textacy==0.9.1) (1.0.5)\n",
            "Requirement already satisfied: certifi>=2017.4.17 in /usr/local/lib/python3.7/dist-packages (from requests>=2.10.0->textacy==0.9.1) (2020.12.5)\n",
            "Requirement already satisfied: urllib3!=1.25.0,!=1.25.1,<1.26,>=1.21.1 in /usr/local/lib/python3.7/dist-packages (from requests>=2.10.0->textacy==0.9.1) (1.24.3)\n",
            "Requirement already satisfied: chardet<4,>=3.0.2 in /usr/local/lib/python3.7/dist-packages (from requests>=2.10.0->textacy==0.9.1) (3.0.4)\n",
            "Requirement already satisfied: idna<3,>=2.5 in /usr/local/lib/python3.7/dist-packages (from requests>=2.10.0->textacy==0.9.1) (2.10)\n",
            "Requirement already satisfied: toolz>=0.8.0 in /usr/local/lib/python3.7/dist-packages (from cytoolz>=0.8.0->textacy==0.9.1) (0.11.1)\n",
            "Requirement already satisfied: decorator>=4.3.0 in /usr/local/lib/python3.7/dist-packages (from networkx>=2.0->textacy==0.9.1) (4.4.2)\n",
            "Requirement already satisfied: importlib-metadata>=0.20; python_version < \"3.8\" in /usr/local/lib/python3.7/dist-packages (from catalogue<1.1.0,>=0.0.7->spacy>=2.0.12->textacy==0.9.1) (3.7.0)\n",
            "Requirement already satisfied: typing-extensions>=3.6.4; python_version < \"3.8\" in /usr/local/lib/python3.7/dist-packages (from importlib-metadata>=0.20; python_version < \"3.8\"->catalogue<1.1.0,>=0.0.7->spacy>=2.0.12->textacy==0.9.1) (3.7.4.3)\n",
            "Requirement already satisfied: zipp>=0.5 in /usr/local/lib/python3.7/dist-packages (from importlib-metadata>=0.20; python_version < \"3.8\"->catalogue<1.1.0,>=0.0.7->spacy>=2.0.12->textacy==0.9.1) (3.4.0)\n",
            "Building wheels for collected packages: cytoolz\n",
            "  Building wheel for cytoolz (setup.py) ... \u001b[?25l\u001b[?25hdone\n",
            "  Created wheel for cytoolz: filename=cytoolz-0.11.0-cp37-cp37m-linux_x86_64.whl size=1223276 sha256=fb02f77ef74ef8c71889350c14e40352eb04639aa0454d45a788fd32eaa560ca\n",
            "  Stored in directory: /root/.cache/pip/wheels/a1/32/3c/9c9926b510647cacdde744b2c7acdf1ccd5896fbb7f8d5df0c\n",
            "Successfully built cytoolz\n",
            "Installing collected packages: jellyfish, cytoolz, pyphen, textacy\n",
            "Successfully installed cytoolz-0.11.0 jellyfish-0.8.2 pyphen-0.10.0 textacy-0.9.1\n",
            "Requirement already satisfied: en_core_web_sm==2.2.5 from https://github.com/explosion/spacy-models/releases/download/en_core_web_sm-2.2.5/en_core_web_sm-2.2.5.tar.gz#egg=en_core_web_sm==2.2.5 in /usr/local/lib/python3.7/dist-packages (2.2.5)\n",
            "Requirement already satisfied: spacy>=2.2.2 in /usr/local/lib/python3.7/dist-packages (from en_core_web_sm==2.2.5) (2.2.4)\n",
            "Requirement already satisfied: preshed<3.1.0,>=3.0.2 in /usr/local/lib/python3.7/dist-packages (from spacy>=2.2.2->en_core_web_sm==2.2.5) (3.0.5)\n",
            "Requirement already satisfied: cymem<2.1.0,>=2.0.2 in /usr/local/lib/python3.7/dist-packages (from spacy>=2.2.2->en_core_web_sm==2.2.5) (2.0.5)\n",
            "Requirement already satisfied: numpy>=1.15.0 in /usr/local/lib/python3.7/dist-packages (from spacy>=2.2.2->en_core_web_sm==2.2.5) (1.19.5)\n",
            "Requirement already satisfied: srsly<1.1.0,>=1.0.2 in /usr/local/lib/python3.7/dist-packages (from spacy>=2.2.2->en_core_web_sm==2.2.5) (1.0.5)\n",
            "Requirement already satisfied: thinc==7.4.0 in /usr/local/lib/python3.7/dist-packages (from spacy>=2.2.2->en_core_web_sm==2.2.5) (7.4.0)\n",
            "Requirement already satisfied: wasabi<1.1.0,>=0.4.0 in /usr/local/lib/python3.7/dist-packages (from spacy>=2.2.2->en_core_web_sm==2.2.5) (0.8.2)\n",
            "Requirement already satisfied: requests<3.0.0,>=2.13.0 in /usr/local/lib/python3.7/dist-packages (from spacy>=2.2.2->en_core_web_sm==2.2.5) (2.23.0)\n",
            "Requirement already satisfied: catalogue<1.1.0,>=0.0.7 in /usr/local/lib/python3.7/dist-packages (from spacy>=2.2.2->en_core_web_sm==2.2.5) (1.0.0)\n",
            "Requirement already satisfied: murmurhash<1.1.0,>=0.28.0 in /usr/local/lib/python3.7/dist-packages (from spacy>=2.2.2->en_core_web_sm==2.2.5) (1.0.5)\n",
            "Requirement already satisfied: blis<0.5.0,>=0.4.0 in /usr/local/lib/python3.7/dist-packages (from spacy>=2.2.2->en_core_web_sm==2.2.5) (0.4.1)\n",
            "Requirement already satisfied: plac<1.2.0,>=0.9.6 in /usr/local/lib/python3.7/dist-packages (from spacy>=2.2.2->en_core_web_sm==2.2.5) (1.1.3)\n",
            "Requirement already satisfied: tqdm<5.0.0,>=4.38.0 in /usr/local/lib/python3.7/dist-packages (from spacy>=2.2.2->en_core_web_sm==2.2.5) (4.41.1)\n",
            "Requirement already satisfied: setuptools in /usr/local/lib/python3.7/dist-packages (from spacy>=2.2.2->en_core_web_sm==2.2.5) (54.0.0)\n",
            "Requirement already satisfied: certifi>=2017.4.17 in /usr/local/lib/python3.7/dist-packages (from requests<3.0.0,>=2.13.0->spacy>=2.2.2->en_core_web_sm==2.2.5) (2020.12.5)\n",
            "Requirement already satisfied: chardet<4,>=3.0.2 in /usr/local/lib/python3.7/dist-packages (from requests<3.0.0,>=2.13.0->spacy>=2.2.2->en_core_web_sm==2.2.5) (3.0.4)\n",
            "Requirement already satisfied: idna<3,>=2.5 in /usr/local/lib/python3.7/dist-packages (from requests<3.0.0,>=2.13.0->spacy>=2.2.2->en_core_web_sm==2.2.5) (2.10)\n",
            "Requirement already satisfied: urllib3!=1.25.0,!=1.25.1,<1.26,>=1.21.1 in /usr/local/lib/python3.7/dist-packages (from requests<3.0.0,>=2.13.0->spacy>=2.2.2->en_core_web_sm==2.2.5) (1.24.3)\n",
            "Requirement already satisfied: importlib-metadata>=0.20; python_version < \"3.8\" in /usr/local/lib/python3.7/dist-packages (from catalogue<1.1.0,>=0.0.7->spacy>=2.2.2->en_core_web_sm==2.2.5) (3.7.0)\n",
            "Requirement already satisfied: typing-extensions>=3.6.4; python_version < \"3.8\" in /usr/local/lib/python3.7/dist-packages (from importlib-metadata>=0.20; python_version < \"3.8\"->catalogue<1.1.0,>=0.0.7->spacy>=2.2.2->en_core_web_sm==2.2.5) (3.7.4.3)\n",
            "Requirement already satisfied: zipp>=0.5 in /usr/local/lib/python3.7/dist-packages (from importlib-metadata>=0.20; python_version < \"3.8\"->catalogue<1.1.0,>=0.0.7->spacy>=2.2.2->en_core_web_sm==2.2.5) (3.4.0)\n",
            "\u001b[38;5;2m✔ Download and installation successful\u001b[0m\n",
            "You can now load the model via spacy.load('en_core_web_sm')\n"
          ],
          "name": "stdout"
        }
      ]
    },
    {
      "cell_type": "code",
      "metadata": {
        "colab": {
          "base_uri": "https://localhost:8080/"
        },
        "id": "bWN4ZxLNvPJB",
        "outputId": "3336a9fc-0984-4946-f1fd-d5f05fe702c9"
      },
      "source": [
        "# load a spacy model, which will be used for all further processing \n",
        "\n",
        "en= textacy.load_spacy_lang(\"en_core_web_sm\")\n",
        "mytext = open('./sample1.txt').read()\n",
        "mytext = \"\"\"Avengers: Age of Ultron is a 2015 American superhero film based on the Marvel Comics superhero team the Avengers. Produced by Marvel Studios and distributed by Walt Disney Studios Motion Pictures, it is the sequel to The Avengers (2012) and the 11th film in the Marvel Cinematic Universe (MCU). Written and directed by Joss Whedon, the film features an ensemble cast including Robert Downey Jr., Chris Hemsworth, Mark Ruffalo, Chris Evans, Scarlett Johansson, Jeremy Renner, Don Cheadle, Aaron Taylor-Johnson, Elizabeth Olsen, Paul Bettany, Cobie Smulders, Anthony Mackie, Hayley Atwell, Idris Elba, Stellan Skarsgård, James Spader, and Samuel L. Jackson. In the film, the Avengers fight Ultron, an artificial intelligence obsessed with causing human extinction.\n",
        "\n",
        "The sequel was announced in May 2012 after the successful release of The Avengers, with Whedon set to return as writer and director in August. Whedon updated Ultron's origin for the film to involve the MCU's Avengers team, and introduced the characters Quicksilver and Scarlet Witch to whom Marvel shared the rights with 20th Century Fox. Casting began in June 2013 with the re-signing of Downey. Second unit filming began in February 2014 in South Africa with principal photography taking place between March and August, primarily at Shepperton Studios in Surrey, England. Additional footage was filmed in Italy, South Korea, Bangladesh, New York state, and around England. With an estimated net production budget of $365 million, the film is the second most expensive film ever made.\n",
        "\n",
        "Avengers: Age of Ultron premiered in Los Angeles on April 13, 2015, and was released in the United States on May 1, 2015, as part of Phase Two of the MCU. The film received generally positive reviews from critics and grossed over $1.4 billion worldwide, becoming the fourth-highest-grossing film of 2015 and the fifth-highest-grossing film of all time. Two sequels have been released: Avengers: Infinity War (2018) and Avengers: Endgame (2019).\n",
        "\n",
        "\n",
        "Contents\n",
        "1\tPlot\n",
        "2\tCast\n",
        "3\tProduction\n",
        "3.1\tDevelopment\n",
        "3.2\tPre-production\n",
        "3.3\tFilming\n",
        "3.4\tPost-production\n",
        "4\tMusic\n",
        "5\tMarketing\n",
        "5.1\tPromotion\n",
        "5.2\tMerchandise\n",
        "6\tRelease\n",
        "6.1\tTheatrical\n",
        "6.2\tHome media\n",
        "7\tReception\n",
        "7.1\tBox office\n",
        "7.2\tCritical response\n",
        "7.3\tAccolades\n",
        "8\tSequels\n",
        "9\tNotes\n",
        "10\tReferences\n",
        "11\tExternal links\n",
        "Plot\n",
        "In the Eastern European country of Sokovia, the Avengers—Tony Stark, Steve Rogers, Thor, Bruce Banner, Natasha Romanoff, and Clint Barton—raid a Hydra facility commanded by Baron Wolfgang von Strucker, who has experimented on humans using the scepter previously wielded by Loki. They meet two of Strucker's test subjects—twins Pietro (who has superhuman speed) and Wanda Maximoff (who has telepathic and telekinetic abilities)—and apprehend Strucker, while Stark retrieves Loki's scepter.\n",
        "\n",
        "Stark and Banner discover an artificial intelligence within the scepter's gem, and secretly decide to use it to complete Stark's \"Ultron\" global defense program. The unexpectedly sentient Ultron, believing he must eradicate humanity to save Earth, eliminates Stark's A.I. J.A.R.V.I.S. and attacks the Avengers at their headquarters. Escaping with the scepter, Ultron uses the resources in Strucker's Sokovia base to upgrade his rudimentary body and build an army of robot drones. Having killed Strucker, he recruits the Maximoffs, who hold Stark responsible for their parents' deaths by his company's weapons, and goes to the base of arms dealer Ulysses Klaue in Johannesburg to get vibranium. The Avengers attack Ultron and the Maximoffs, but Wanda subdues them with haunting visions, causing Banner to turn into the Hulk and rampage until Stark stops him with his anti-Hulk armor.[N 1]\n",
        "\n",
        "A worldwide backlash over the resulting destruction, and the fears Wanda's hallucinations incited, send the team into hiding at Barton's farmhouse. Thor departs to consult with Dr. Erik Selvig on the apocalyptic future he saw in his hallucination, while Nick Fury arrives and encourages the team to form a plan to stop Ultron. In Seoul, Ultron uses Loki's scepter to enslave the team's friend Helen Cho. They use her synthetic-tissue technology, vibranium, and the scepter's gem to craft a new body. As Ultron uploads himself into the body, Wanda is able to read his mind; discovering his plan for human extinction, the Maximoffs turn against Ultron. Rogers, Romanoff, and Barton fight Ultron and retrieve the synthetic body, but Ultron captures Romanoff.\n",
        "\n",
        "The Avengers fight among themselves when Stark and Banner secretly upload J.A.R.V.I.S.—who is still working after hiding from Ultron inside the Internet—into the synthetic body. Thor returns to help activate the body, based on his vision that the gem on its brow is the Mind Stone, one of the six Infinity Stones, the most powerful objects in existence. This \"Vision\" earns their trust by being worthy of lifting Thor's hammer, Mjölnir. Vision and the Maximoffs go with the Avengers to Sokovia, where Ultron has used the remaining vibranium to build a machine to lift a large part of the capital city skyward, intending to crash it into the ground to cause global extinction. Banner rescues Romanoff, who awakens the Hulk for the battle. The Avengers fight Ultron's army while Fury arrives in a Helicarrier with Maria Hill, James Rhodes, and S.H.I.E.L.D. agents to evacuate civilians. Pietro dies when he shields Barton from gunfire, and a vengeful Wanda abandons her post to destroy Ultron's primary body, which allows one of his drones to activate the machine. The city plummets, but Stark and Thor overload the machine and shatter the landmass. In the aftermath, the Hulk, unwilling to endanger Romanoff by being with her, departs in a Quinjet, while Vision confronts and seemingly destroys Ultron's last remaining body.\n",
        "\n",
        "Later, with the Avengers having established a new base run by Fury, Hill, Cho, and Selvig, Thor returns to Asgard to learn more about the forces he suspects have manipulated major events. As Stark leaves and Barton retires, Rogers and Romanoff prepare to train new Avengers: Rhodes, Vision, Sam Wilson, and Wanda.\n",
        "\n",
        "In a mid-credits scene, Thanos, dissatisfied by the failures of his pawns, dons a gauntlet[N 2] and vows to retrieve the Infinity Stones himself.\n",
        "\n",
        "Cast\n",
        "\n",
        "The cast of Avengers: Age of Ultron at the 2014 San Diego Comic-Con\n",
        "Robert Downey Jr. as Tony Stark / Iron Man:\n",
        "The benefactor of the Avengers[9][10][11] who is a self-described genius, billionaire, playboy, and philanthropist with electromechanical suits of armor of his own invention.[12] On how his character evolves after the events of Iron Man 3 (2013), Downey said, \"I think he realizes that tweaking and making all the suits in the world—which is what he has been doing—still didn't work for that thing of his tour of duty that left him a little PTSD. So his focus is more on how can we make it so that there's no problem to begin with. That, you know, there's a bouncer at our planet's rope. That's the big idea.\"[13]\n",
        "Chris Hemsworth as Thor:\n",
        "An Avenger and the crown prince of Asgard, based on the Norse mythological deity of the same name.[14] Regarding Thor's place in the film, Hemsworth stated that as Thor has remained on Earth since Thor: The Dark World (2013), and has begun to feel at home here, he considers Ultron's threat a personal attack.[15] Hemsworth stated that he had to work harder to bring new elements to the character to avoid repeating himself saying, \"It gave us room to kind of make him a little more grounded and human and have him in some civilian clothes and mixing it up at a party.\"[16] Hemsworth noted that Thor's motivations in this film were completely different, as it was the first MCU film where he did not play against Tom Hiddleston's character of Loki.[11]\n",
        "Mark Ruffalo as Bruce Banner / Hulk:\n",
        "An Avenger and genius scientist who, because of exposure to gamma radiation, transforms into a monster when enraged or agitated.[17] To prepare for the role, Ruffalo worked with motion capture performer Andy Serkis' The Imaginarium.[18] He stated that his character had grown since the previous film and was \"a bit more complex\".[19] Ruffalo explained that a confrontation is brewing between Banner and the Hulk saying, \"There's a very cool thing happening: Hulk is as afraid of Banner as Banner is afraid of Hulk.. and they have got to come to peace somehow with each other.\"[20] While filming in London, Ruffalo said that Whedon still had not given him any of the Hulk's lines.[21] Whedon later explained that he writes the Hulk's dialogue spontaneously, saying, \"What makes the Hulk so hard to write is that you're pretending he's a werewolf when he's a superhero. You want it vice versa... So the question is, how has he progressed? How can we bring changes on what the Hulk does? And that's not just in the screenplay, that's moment to moment.\"[22]\n",
        "Chris Evans as Steve Rogers / Captain America:\n",
        "The leader of the Avengers[9][11] and a World War II veteran who was enhanced to the peak of human physicality by an experimental serum and frozen in suspended animation before waking up in the modern world.[23][24] Evans stated that since the fall of S.H.I.E.L.D. in Captain America: The Winter Soldier (2014), Rogers has been left to depend on his Avenger teammates without the structure of military life and is now \"looking to understand where he belongs, not just as a soldier, as Captain America, but as Steve Rogers, as a person.\"[16] Evans said that he was able to maintain the strength he built up for Captain America: The Winter Soldier by working out up to an hour a day.[25] Regarding Captain America's fighting style, Evans felt he did not want to take a step back from the skills shown in The Winter Soldier, making sure Rogers' fight style advanced, showing \"a consistent display of strength\", and having Rogers utilizing his environment.[26]\n",
        "Scarlett Johansson as Natasha Romanoff / Black Widow:\n",
        "An Avenger who formerly worked for S.H.I.E.L.D. as a highly trained spy.[27] Producer Kevin Feige stated that more of the character's backstory is explored in the film.[28] Johansson elaborated, \"In Avengers 2 we go back... we definitely learn more about Widow's backstory, and we get to find out how she became the person you see. All of these characters have deep, dark pasts, and I think that the past catches up to some of us a little bit.\"[29] Regarding where the film picks up Widow's story, Johansson felt it was a continuation of what was seen for her character in The Winter Soldier, with the fact that \"'[Widow] never made an active choice. [She's] a product of other people's imposition.' That's going to catch up with her. That's bound to have a huge effect. There's got to be a result of that realization... You'll see her actively making some choices in her life, for better or worse.\"[30] A mixture of close-ups, concealing costumes, stunt doubles, and visual effects were used to help hide Johansson's pregnancy during filming.[31]\n",
        "Jeremy Renner as Clint Barton / Hawkeye:\n",
        "An Avenger and master archer who previously worked as an agent for S.H.I.E.L.D.[32] Whedon said that Hawkeye interacts more with the other characters in the film, as opposed to the first film where the character had been \"possessed pretty early by a bad guy and had to walk around all scowly.\"[33] As the character did not appear in any other of Marvel's Phase Two films, Whedon stated Age of Ultron sheds light on to what the character was doing since the end of The Avengers.[22] Renner described the character as \"kind of a loner\" and \"a team player only 'cause he sort of has to be. He's not really a company man. Captain America can be that guy. In [Age of Ultron] you'll understand why [Hawkeye] thinks the way he thinks.\"[26]\n",
        "Don Cheadle as James \"Rhodey\" Rhodes / War Machine: An officer in the U.S. Air Force and Tony Stark's close personal friend who operates the War Machine armor.[34][35]\n",
        "Aaron Taylor-Johnson as Pietro Maximoff / Quicksilver:\n",
        "The twin brother of Wanda who can move at superhuman speed.[36] Taylor-Johnson felt Pietro was defined by the fact that he and his sister were abandoned by their family, and they both had to grow up \"in Eastern Europe defending and looking out for themselves and each other,\" that they both look to the other for guidance. Taylor-Johnson also said that Quicksilver was \"very overprotective\" of Scarlet Witch and has \"real anger frustration\", which results in him being easily bored because of a short attention span.[37] Feige stated exploring Quicksilver's relationship with his sister and his backstory growing up in Eastern Europe would help differentiate the character from Evan Peters' version in X-Men: Days of Future Past (2014).[38] Taylor-Johnson stated that the running style for Quicksilver went through multiple iterations.[11] Much of Taylor-Johnson's scenes were filmed outdoors to give \"life\" to his running, as opposed to running indoors in front of a green screen.[39]\"\"\"\n",
        "# convert the text into a spacy document \n",
        "doc = textacy.make_spacy_doc(mytext, lang=en)\n",
        "print(doc)\n"
      ],
      "execution_count": 5,
      "outputs": [
        {
          "output_type": "stream",
          "text": [
            "Avengers: Age of Ultron is a 2015 American superhero film based on the Marvel Comics superhero team the Avengers. Produced by Marvel Studios and distributed by Walt Disney Studios Motion Pictures, it is the sequel to The Avengers (2012) and the 11th film in the Marvel Cinematic Universe (MCU). Written and directed by Joss Whedon, the film features an ensemble cast including Robert Downey Jr., Chris Hemsworth, Mark Ruffalo, Chris Evans, Scarlett Johansson, Jeremy Renner, Don Cheadle, Aaron Taylor-Johnson, Elizabeth Olsen, Paul Bettany, Cobie Smulders, Anthony Mackie, Hayley Atwell, Idris Elba, Stellan Skarsgård, James Spader, and Samuel L. Jackson. In the film, the Avengers fight Ultron, an artificial intelligence obsessed with causing human extinction.\n",
            "\n",
            "The sequel was announced in May 2012 after the successful release of The Avengers, with Whedon set to return as writer and director in August. Whedon updated Ultron's origin for the film to involve the MCU's Avengers team, and introduced the characters Quicksilver and Scarlet Witch to whom Marvel shared the rights with 20th Century Fox. Casting began in June 2013 with the re-signing of Downey. Second unit filming began in February 2014 in South Africa with principal photography taking place between March and August, primarily at Shepperton Studios in Surrey, England. Additional footage was filmed in Italy, South Korea, Bangladesh, New York state, and around England. With an estimated net production budget of $365 million, the film is the second most expensive film ever made.\n",
            "\n",
            "Avengers: Age of Ultron premiered in Los Angeles on April 13, 2015, and was released in the United States on May 1, 2015, as part of Phase Two of the MCU. The film received generally positive reviews from critics and grossed over $1.4 billion worldwide, becoming the fourth-highest-grossing film of 2015 and the fifth-highest-grossing film of all time. Two sequels have been released: Avengers: Infinity War (2018) and Avengers: Endgame (2019).\n",
            "\n",
            "\n",
            "Contents\n",
            "1\tPlot\n",
            "2\tCast\n",
            "3\tProduction\n",
            "3.1\tDevelopment\n",
            "3.2\tPre-production\n",
            "3.3\tFilming\n",
            "3.4\tPost-production\n",
            "4\tMusic\n",
            "5\tMarketing\n",
            "5.1\tPromotion\n",
            "5.2\tMerchandise\n",
            "6\tRelease\n",
            "6.1\tTheatrical\n",
            "6.2\tHome media\n",
            "7\tReception\n",
            "7.1\tBox office\n",
            "7.2\tCritical response\n",
            "7.3\tAccolades\n",
            "8\tSequels\n",
            "9\tNotes\n",
            "10\tReferences\n",
            "11\tExternal links\n",
            "Plot\n",
            "In the Eastern European country of Sokovia, the Avengers—Tony Stark, Steve Rogers, Thor, Bruce Banner, Natasha Romanoff, and Clint Barton—raid a Hydra facility commanded by Baron Wolfgang von Strucker, who has experimented on humans using the scepter previously wielded by Loki. They meet two of Strucker's test subjects—twins Pietro (who has superhuman speed) and Wanda Maximoff (who has telepathic and telekinetic abilities)—and apprehend Strucker, while Stark retrieves Loki's scepter.\n",
            "\n",
            "Stark and Banner discover an artificial intelligence within the scepter's gem, and secretly decide to use it to complete Stark's \"Ultron\" global defense program. The unexpectedly sentient Ultron, believing he must eradicate humanity to save Earth, eliminates Stark's A.I. J.A.R.V.I.S. and attacks the Avengers at their headquarters. Escaping with the scepter, Ultron uses the resources in Strucker's Sokovia base to upgrade his rudimentary body and build an army of robot drones. Having killed Strucker, he recruits the Maximoffs, who hold Stark responsible for their parents' deaths by his company's weapons, and goes to the base of arms dealer Ulysses Klaue in Johannesburg to get vibranium. The Avengers attack Ultron and the Maximoffs, but Wanda subdues them with haunting visions, causing Banner to turn into the Hulk and rampage until Stark stops him with his anti-Hulk armor.[N 1]\n",
            "\n",
            "A worldwide backlash over the resulting destruction, and the fears Wanda's hallucinations incited, send the team into hiding at Barton's farmhouse. Thor departs to consult with Dr. Erik Selvig on the apocalyptic future he saw in his hallucination, while Nick Fury arrives and encourages the team to form a plan to stop Ultron. In Seoul, Ultron uses Loki's scepter to enslave the team's friend Helen Cho. They use her synthetic-tissue technology, vibranium, and the scepter's gem to craft a new body. As Ultron uploads himself into the body, Wanda is able to read his mind; discovering his plan for human extinction, the Maximoffs turn against Ultron. Rogers, Romanoff, and Barton fight Ultron and retrieve the synthetic body, but Ultron captures Romanoff.\n",
            "\n",
            "The Avengers fight among themselves when Stark and Banner secretly upload J.A.R.V.I.S.—who is still working after hiding from Ultron inside the Internet—into the synthetic body. Thor returns to help activate the body, based on his vision that the gem on its brow is the Mind Stone, one of the six Infinity Stones, the most powerful objects in existence. This \"Vision\" earns their trust by being worthy of lifting Thor's hammer, Mjölnir. Vision and the Maximoffs go with the Avengers to Sokovia, where Ultron has used the remaining vibranium to build a machine to lift a large part of the capital city skyward, intending to crash it into the ground to cause global extinction. Banner rescues Romanoff, who awakens the Hulk for the battle. The Avengers fight Ultron's army while Fury arrives in a Helicarrier with Maria Hill, James Rhodes, and S.H.I.E.L.D. agents to evacuate civilians. Pietro dies when he shields Barton from gunfire, and a vengeful Wanda abandons her post to destroy Ultron's primary body, which allows one of his drones to activate the machine. The city plummets, but Stark and Thor overload the machine and shatter the landmass. In the aftermath, the Hulk, unwilling to endanger Romanoff by being with her, departs in a Quinjet, while Vision confronts and seemingly destroys Ultron's last remaining body.\n",
            "\n",
            "Later, with the Avengers having established a new base run by Fury, Hill, Cho, and Selvig, Thor returns to Asgard to learn more about the forces he suspects have manipulated major events. As Stark leaves and Barton retires, Rogers and Romanoff prepare to train new Avengers: Rhodes, Vision, Sam Wilson, and Wanda.\n",
            "\n",
            "In a mid-credits scene, Thanos, dissatisfied by the failures of his pawns, dons a gauntlet[N 2] and vows to retrieve the Infinity Stones himself.\n",
            "\n",
            "Cast\n",
            "\n",
            "The cast of Avengers: Age of Ultron at the 2014 San Diego Comic-Con\n",
            "Robert Downey Jr. as Tony Stark / Iron Man:\n",
            "The benefactor of the Avengers[9][10][11] who is a self-described genius, billionaire, playboy, and philanthropist with electromechanical suits of armor of his own invention.[12] On how his character evolves after the events of Iron Man 3 (2013), Downey said, \"I think he realizes that tweaking and making all the suits in the world—which is what he has been doing—still didn't work for that thing of his tour of duty that left him a little PTSD. So his focus is more on how can we make it so that there's no problem to begin with. That, you know, there's a bouncer at our planet's rope. That's the big idea.\"[13]\n",
            "Chris Hemsworth as Thor:\n",
            "An Avenger and the crown prince of Asgard, based on the Norse mythological deity of the same name.[14] Regarding Thor's place in the film, Hemsworth stated that as Thor has remained on Earth since Thor: The Dark World (2013), and has begun to feel at home here, he considers Ultron's threat a personal attack.[15] Hemsworth stated that he had to work harder to bring new elements to the character to avoid repeating himself saying, \"It gave us room to kind of make him a little more grounded and human and have him in some civilian clothes and mixing it up at a party.\"[16] Hemsworth noted that Thor's motivations in this film were completely different, as it was the first MCU film where he did not play against Tom Hiddleston's character of Loki.[11]\n",
            "Mark Ruffalo as Bruce Banner / Hulk:\n",
            "An Avenger and genius scientist who, because of exposure to gamma radiation, transforms into a monster when enraged or agitated.[17] To prepare for the role, Ruffalo worked with motion capture performer Andy Serkis' The Imaginarium.[18] He stated that his character had grown since the previous film and was \"a bit more complex\".[19] Ruffalo explained that a confrontation is brewing between Banner and the Hulk saying, \"There's a very cool thing happening: Hulk is as afraid of Banner as Banner is afraid of Hulk.. and they have got to come to peace somehow with each other.\"[20] While filming in London, Ruffalo said that Whedon still had not given him any of the Hulk's lines.[21] Whedon later explained that he writes the Hulk's dialogue spontaneously, saying, \"What makes the Hulk so hard to write is that you're pretending he's a werewolf when he's a superhero. You want it vice versa... So the question is, how has he progressed? How can we bring changes on what the Hulk does? And that's not just in the screenplay, that's moment to moment.\"[22]\n",
            "Chris Evans as Steve Rogers / Captain America:\n",
            "The leader of the Avengers[9][11] and a World War II veteran who was enhanced to the peak of human physicality by an experimental serum and frozen in suspended animation before waking up in the modern world.[23][24] Evans stated that since the fall of S.H.I.E.L.D. in Captain America: The Winter Soldier (2014), Rogers has been left to depend on his Avenger teammates without the structure of military life and is now \"looking to understand where he belongs, not just as a soldier, as Captain America, but as Steve Rogers, as a person.\"[16] Evans said that he was able to maintain the strength he built up for Captain America: The Winter Soldier by working out up to an hour a day.[25] Regarding Captain America's fighting style, Evans felt he did not want to take a step back from the skills shown in The Winter Soldier, making sure Rogers' fight style advanced, showing \"a consistent display of strength\", and having Rogers utilizing his environment.[26]\n",
            "Scarlett Johansson as Natasha Romanoff / Black Widow:\n",
            "An Avenger who formerly worked for S.H.I.E.L.D. as a highly trained spy.[27] Producer Kevin Feige stated that more of the character's backstory is explored in the film.[28] Johansson elaborated, \"In Avengers 2 we go back... we definitely learn more about Widow's backstory, and we get to find out how she became the person you see. All of these characters have deep, dark pasts, and I think that the past catches up to some of us a little bit.\"[29] Regarding where the film picks up Widow's story, Johansson felt it was a continuation of what was seen for her character in The Winter Soldier, with the fact that \"'[Widow] never made an active choice. [She's] a product of other people's imposition.' That's going to catch up with her. That's bound to have a huge effect. There's got to be a result of that realization... You'll see her actively making some choices in her life, for better or worse.\"[30] A mixture of close-ups, concealing costumes, stunt doubles, and visual effects were used to help hide Johansson's pregnancy during filming.[31]\n",
            "Jeremy Renner as Clint Barton / Hawkeye:\n",
            "An Avenger and master archer who previously worked as an agent for S.H.I.E.L.D.[32] Whedon said that Hawkeye interacts more with the other characters in the film, as opposed to the first film where the character had been \"possessed pretty early by a bad guy and had to walk around all scowly.\"[33] As the character did not appear in any other of Marvel's Phase Two films, Whedon stated Age of Ultron sheds light on to what the character was doing since the end of The Avengers.[22] Renner described the character as \"kind of a loner\" and \"a team player only 'cause he sort of has to be. He's not really a company man. Captain America can be that guy. In [Age of Ultron] you'll understand why [Hawkeye] thinks the way he thinks.\"[26]\n",
            "Don Cheadle as James \"Rhodey\" Rhodes / War Machine: An officer in the U.S. Air Force and Tony Stark's close personal friend who operates the War Machine armor.[34][35]\n",
            "Aaron Taylor-Johnson as Pietro Maximoff / Quicksilver:\n",
            "The twin brother of Wanda who can move at superhuman speed.[36] Taylor-Johnson felt Pietro was defined by the fact that he and his sister were abandoned by their family, and they both had to grow up \"in Eastern Europe defending and looking out for themselves and each other,\" that they both look to the other for guidance. Taylor-Johnson also said that Quicksilver was \"very overprotective\" of Scarlet Witch and has \"real anger frustration\", which results in him being easily bored because of a short attention span.[37] Feige stated exploring Quicksilver's relationship with his sister and his backstory growing up in Eastern Europe would help differentiate the character from Evan Peters' version in X-Men: Days of Future Past (2014).[38] Taylor-Johnson stated that the running style for Quicksilver went through multiple iterations.[11] Much of Taylor-Johnson's scenes were filmed outdoors to give \"life\" to his running, as opposed to running indoors in front of a green screen.[39]\n"
          ],
          "name": "stdout"
        }
      ]
    },
    {
      "cell_type": "code",
      "metadata": {
        "colab": {
          "base_uri": "https://localhost:8080/"
        },
        "id": "xN2ui5LwzU-o",
        "outputId": "5ffd2d75-bcb1-455f-9ee6-0c32f871f05b"
      },
      "source": [
        "textacy.ke.textrank(doc, topn=10)"
      ],
      "execution_count": 6,
      "outputs": [
        {
          "output_type": "execute_result",
          "data": {
            "text/plain": [
              "[('Avengers attack Ultron', 0.010346760143060588),\n",
              " ('american superhero film', 0.00765339087526885),\n",
              " ('MCU film', 0.007159769979313925),\n",
              " ('sentient Ultron', 0.006533800725707509),\n",
              " ('expensive film', 0.006258143786340167),\n",
              " ('previous film', 0.006197131077169884),\n",
              " ('11th film', 0.006197131077169884),\n",
              " ('Marvel Comics superhero team', 0.006173854090707965),\n",
              " ('Avengers team', 0.005511055373321349),\n",
              " ('new Avengers', 0.005127793870247924)]"
            ]
          },
          "metadata": {
            "tags": []
          },
          "execution_count": 6
        }
      ]
    },
    {
      "cell_type": "code",
      "metadata": {
        "colab": {
          "base_uri": "https://localhost:8080/"
        },
        "id": "8e8kfAvkz3lm",
        "outputId": "7454127b-cf03-490c-c422-ffda4a92a899"
      },
      "source": [
        "# print the keywords using textRank algorithm as implemented in textacy \n",
        "\n",
        "print(\"TextRank output: \", [kps for kps, weights in textacy.ke.textrank(doc, normalize=\"lemma\", topn=5)])\n",
        "\n",
        "print(\"SGRank output: \", [kps for kps, weights in textacy.ke.sgrank(doc, topn=5)])"
      ],
      "execution_count": 7,
      "outputs": [
        {
          "output_type": "stream",
          "text": [
            "TextRank output:  ['Avengers attack Ultron', 'american superhero film', 'MCU film', 'sentient Ultron', 'expensive film']\n",
            "SGRank output:  ['Ultron', 'film', 'Avengers', 'Steve Rogers', 'Captain America']\n"
          ],
          "name": "stdout"
        }
      ]
    },
    {
      "cell_type": "code",
      "metadata": {
        "colab": {
          "base_uri": "https://localhost:8080/"
        },
        "id": "uHPv8W-B36r5",
        "outputId": "3d3b222d-c73e-491f-e9bf-1257efb91ec3"
      },
      "source": [
        "# to address the issue of overlapping key phrases, textacy has a function : aggregate_term_variants \n",
        "# choosing one of the grouped terms per item will give us a list of non-overlapping key phrases !\n",
        "terms = set([term for term, weight in textacy.ke.sgrank(doc)])\n",
        "\n",
        "print(textacy.ke.utils.aggregate_term_variants(terms))"
      ],
      "execution_count": 8,
      "outputs": [
        {
          "output_type": "stream",
          "text": [
            "[{'Captain America'}, {'Steve Rogers'}, {'Tony Stark'}, {'character'}, {'Avengers'}, {'Ultron'}, {'Whedon'}, {'Marvel'}, {'team'}, {'film'}]\n"
          ],
          "name": "stdout"
        }
      ]
    },
    {
      "cell_type": "code",
      "metadata": {
        "colab": {
          "base_uri": "https://localhost:8080/"
        },
        "id": "9X0VP8Eo97Os",
        "outputId": "0731113c-39fa-4b54-a679-022e291375dc"
      },
      "source": [
        "# A way to look at key phrases is just consider all noun chunks \n",
        "# as potential ones\n",
        "# however, keep in mind this will result in a lot of phrases, and no way to rank them!\n",
        "\n",
        "l = [chunk for chunk in textacy.extract.noun_chunks(doc)]\n",
        "import pandas as pd\n",
        "\n",
        "print(pd.DataFrame({'NOUN CHUNKS':l}))\n",
        "print(l)"
      ],
      "execution_count": 12,
      "outputs": [
        {
          "output_type": "stream",
          "text": [
            "                           NOUN CHUNKS\n",
            "0                           (Avengers)\n",
            "1                                (Age)\n",
            "2                             (Ultron)\n",
            "3    (2015, American, superhero, film)\n",
            "4    (Marvel, Comics, superhero, team)\n",
            "..                                 ...\n",
            "616                          (\", life)\n",
            "617                          (running)\n",
            "618                          (indoors)\n",
            "619                            (front)\n",
            "620                (green, screen.[39)\n",
            "\n",
            "[621 rows x 1 columns]\n",
            "[Avengers, Age, Ultron, 2015 American superhero film, Marvel Comics superhero team, Avengers, Marvel Studios, Walt Disney Studios Motion Pictures, it, sequel, Avengers, 11th film, Marvel Cinematic Universe, (MCU, Joss Whedon, film, ensemble cast, Robert Downey Jr., Chris Hemsworth, Mark Ruffalo, Chris Evans, Scarlett Johansson, Jeremy Renner, Don Cheadle, Aaron Taylor-Johnson, Elizabeth Olsen, Paul Bettany, Cobie Smulders, Anthony Mackie, Hayley Atwell, Idris Elba, Stellan Skarsgård, James Spader, Samuel L. Jackson, film, Avengers, Ultron, artificial intelligence, human extinction, sequel, May, successful release, Avengers, Whedon, writer, director, August, Whedon, Ultron's origin, film, MCU's Avengers team, characters, Quicksilver, Scarlet Witch, whom, Marvel, rights, 20th Century Fox, June, re-signing, Downey, Second unit filming, February, South Africa, principal photography, place, March, August, Shepperton Studios, Surrey, England, Additional footage, Italy, South Korea, Bangladesh, New York state, England, estimated net production budget, film, second most expensive film, Avengers, Age, Ultron, Los Angeles, April, United States, May, part, Phase, MCU, film, generally positive reviews, critics, fourth-highest-grossing film, fifth-highest-grossing film, time, Two sequels, Avengers, Infinity War, Avengers, Endgame, Contents, Plot, Cast\n",
            "3\tProduction, 3.1\tDevelopment, 4\tMusic, Marketing\n",
            "5.1\tPromotion\n",
            "5.2\tMerchandise, Release, Theatrical, 6.2\tHome media, Box office, 7.2\tCritical response, Accolades, Sequels, Notes, References, 11\tExternal links, Plot, Eastern European country, Sokovia, Avengers, —Tony Stark, Steve Rogers, Thor, Bruce Banner, Natasha Romanoff, Clint Barton, Hydra facility, Baron Wolfgang von Strucker, who, humans, scepter, Loki, They, Strucker's test subjects, twins Pietro, who, superhuman speed, Wanda Maximoff, who, telepathic and telekinetic abilities)—and apprehend Strucker, Stark, Loki's scepter, Stark, Banner, artificial intelligence, scepter's gem, it, Stark's \"Ultron\" global defense program, unexpectedly sentient Ultron, he, humanity, Earth, Stark's A.I. J.A.R.V.I.S., Avengers, headquarters, scepter, Ultron, resources, Strucker's Sokovia base, rudimentary body, army, robot drones, Strucker, he, Maximoffs, who, Stark, parents' deaths, company's weapons, base, arms dealer Ulysses Klaue, Johannesburg, vibranium, Avengers, Ultron, Maximoffs, Wanda, them, haunting visions, Banner, Hulk, rampage, Stark, him, anti-Hulk armor.[N, worldwide backlash, resulting destruction, fears, Wanda's hallucinations, team, hiding, Barton's farmhouse, Thor departs, Dr. Erik Selvig, apocalyptic future, he, hallucination, Nick Fury, team, plan, Ultron, Seoul, Ultron, Loki's scepter, team's friend, Helen Cho, They, synthetic-tissue technology, vibranium, scepter's gem, new body, himself, body, Wanda, mind, plan, human extinction, Maximoffs, Ultron, Rogers, Romanoff, Barton, Ultron, synthetic body, Ultron, Romanoff, Avengers, themselves, Stark, Banner, J.A.R.V.I.S.—who, Ultron, Internet, synthetic body, Thor, body, vision, gem, brow, Mind Stone, six Infinity Stones, most powerful objects, existence, \"Vision, trust, Thor's hammer, Mjölnir, Vision, Maximoffs, Avengers, Sokovia, Ultron, remaining vibranium, machine, large part, capital city skyward, it, ground, global extinction, Banner, Romanoff, who, Hulk, battle, Avengers, Ultron's army, Fury, Helicarrier, Maria Hill, James Rhodes, S.H.I.E.L.D. agents, civilians, Pietro, he, Barton, gunfire, vengeful Wanda, post, Ultron's primary body, drones, machine, city plummets, Stark, Thor, machine, landmass, aftermath, Hulk, Romanoff, her, Quinjet, Vision confronts, Ultron's last remaining body, Avengers, new base, Fury, Hill, Cho, Selvig, Asgard, forces, he, major events, Stark leaves, Rogers, Romanoff, new Avengers, mid-credits scene, Thanos, failures, pawns, gauntlet[N, himself, cast, Avengers, Age, Ultron, 2014 San Diego Comic-Con\n",
            "Robert Downey Jr., Tony Stark / Iron Man, benefactor, Avengers[9][10][11, who, self-described genius, billionaire, playboy, philanthropist, electromechanical suits, armor, own invention.[12, character, events, Iron Man, Downey, I, he, the suits, world, what, he, thing, tour, duty, him, focus, we, it, problem, you, bouncer, planet's rope, big idea, Chris Hemsworth, Thor, Avenger, crown prince, Asgard, Norse mythological deity, same name.[14, Thor's place, film, Hemsworth, Thor, Earth, Thor, home, he, Ultron's threat, Hemsworth, he, new elements, character, himself, It, us, room, him, him, civilian clothes, it, party, Hemsworth, Thor's motivations, film, it, first MCU film, he, Tom Hiddleston's character, Loki.[11, Mark Ruffalo, Bruce Banner / Hulk, Avenger, genius scientist, who, exposure, gamma radiation, monster, role, Ruffalo, motion capture performer Andy Serkis, ' The Imaginarium.[18, He, character, previous film, Ruffalo, confrontation, Banner, Hulk, very cool thing, Hulk, Banner, Banner, Hulk, they, peace, London, Ruffalo, Whedon, him, Hulk's lines.[21, Whedon, he, Hulk's dialogue, What, Hulk, you, he, werewolf, he, superhero, You, it, question, he, we, changes, what, Hulk, screenplay, moment, Chris Evans, Steve Rogers / Captain America, leader, Avengers[9][11, World War II veteran, who, peak, human physicality, experimental serum, animation, modern world.[23][24, Evans, fall, S.H.I.E.L.D., Captain America, Winter Soldier, Rogers, Avenger teammates, structure, military life, he, soldier, Captain America, Steve Rogers, person, Evans, he, strength, he, Captain America, Winter Soldier, hour, day.[25, Captain America's fighting style, Evans, he, step, skills, Winter Soldier, Rogers' fight style, consistent display, strength, Rogers, environment.[26, Scarlett Johansson, Natasha Romanoff / Black Widow, Avenger, who, S.H.I.E.L.D., highly trained spy.[27, Producer Kevin Feige, character's backstory, film.[28, Johansson, Avengers, we, we, Widow's backstory, we, she, person, you, characters, deep, dark pasts, I, us, film, Widow's story, Johansson, it, continuation, what, character, Winter Soldier, fact, [Widow, active choice, She, product, other people's imposition, her, huge effect, result, realization, You, her, choices, life, mixture, close-ups, costumes, stunt doubles, visual effects, Johansson's pregnancy, filming.[31, Jeremy Renner, Clint Barton / Hawkeye, Avenger, master archer, who, agent, S.H.I.E.L.D.[32, Whedon, Hawkeye, other characters, film, first film, character, bad guy, scowly, character, Marvel's Phase Two films, Whedon, Age, Ultron, light, what, character, end, Avengers.[22, Renner, character, loner, he, He, company man, Captain America, guy, [Age, Ultron, you, [Hawkeye, way, he, James \"Rhodey\" Rhodes / War Machine, officer, U.S. Air Force, Tony Stark's close personal friend, who, War Machine armor.[34][35, Aaron Taylor-Johnson, Pietro Maximoff / Quicksilver, twin brother, Wanda, who, superhuman speed.[36, Taylor-Johnson, Pietro, fact, he, sister, family, they, Eastern Europe, themselves, they, guidance, Taylor-Johnson, Quicksilver, Scarlet Witch, \"real anger frustration, him, Feige, Quicksilver's relationship, sister, backstory, Eastern Europe, character, Evan Peters' version, X-Men, Days, 2014).[38] Taylor-Johnson, running style, Quicksilver, multiple iterations.[11, Taylor-Johnson's scenes, \"life, running, indoors, front, green screen.[39]\n"
          ],
          "name": "stdout"
        }
      ]
    },
    {
      "cell_type": "code",
      "metadata": {
        "id": "hKTtZNYU-r0I"
      },
      "source": [
        ""
      ],
      "execution_count": null,
      "outputs": []
    }
  ]
}