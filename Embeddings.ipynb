{
  "nbformat": 4,
  "nbformat_minor": 0,
  "metadata": {
    "colab": {
      "name": "Embeddings.ipynb",
      "provenance": [],
      "authorship_tag": "ABX9TyOfOG+U1X5CKAVlCh99B3Ae",
      "include_colab_link": true
    },
    "kernelspec": {
      "name": "python3",
      "display_name": "Python 3"
    },
    "language_info": {
      "name": "python"
    }
  },
  "cells": [
    {
      "cell_type": "markdown",
      "metadata": {
        "id": "view-in-github",
        "colab_type": "text"
      },
      "source": [
        "<a href=\"https://colab.research.google.com/github/rushikeshnaik779/PracticeForNLP/blob/main/Embeddings.ipynb\" target=\"_parent\"><img src=\"https://colab.research.google.com/assets/colab-badge.svg\" alt=\"Open In Colab\"/></a>"
      ]
    },
    {
      "cell_type": "code",
      "metadata": {
        "colab": {
          "base_uri": "https://localhost:8080/"
        },
        "id": "ahBbNN729gBC",
        "outputId": "db81d34a-f21b-4f84-ce93-3e18edb46bd5"
      },
      "source": [
        "! pip install pymagnitude pytorch_pretrained_bert tensorboardcolab -q"
      ],
      "execution_count": 1,
      "outputs": [
        {
          "output_type": "stream",
          "text": [
            "\u001b[K     |████████████████████████████████| 5.4MB 5.3MB/s \n",
            "\u001b[K     |████████████████████████████████| 133kB 38.7MB/s \n",
            "\u001b[K     |████████████████████████████████| 133kB 33.9MB/s \n",
            "\u001b[K     |████████████████████████████████| 7.3MB 34.3MB/s \n",
            "\u001b[K     |████████████████████████████████| 81kB 6.9MB/s \n",
            "\u001b[?25h  Building wheel for pymagnitude (setup.py) ... \u001b[?25l\u001b[?25hdone\n",
            "  Building wheel for tensorboardcolab (setup.py) ... \u001b[?25l\u001b[?25hdone\n",
            "\u001b[31mERROR: botocore 1.20.34 has requirement urllib3<1.27,>=1.25.4, but you'll have urllib3 1.24.3 which is incompatible.\u001b[0m\n"
          ],
          "name": "stdout"
        }
      ]
    },
    {
      "cell_type": "code",
      "metadata": {
        "id": "BYDRihy79ubi"
      },
      "source": [
        "import matplotlib.pyplot as plt \n",
        "import numpy as np \n",
        "import torch \n",
        "import torch.nn as nn\n",
        "from pymagnitude import Magnitude \n",
        "from pytorch_pretrained_bert import BertTokenizer, BertModel, BertForMaskedLM\n",
        "from scipy import spatial \n",
        "from sklearn.manifold import TSNE \n",
        "from tensorboardcolab import TensorBoardColab \n",
        "from torch.utils.tensorboard import SummaryWriter\n",
        "from tqdm import tqdm_notebook as tqdm"
      ],
      "execution_count": 2,
      "outputs": []
    },
    {
      "cell_type": "code",
      "metadata": {
        "id": "LP1EdK4m-o51"
      },
      "source": [
        "%config InlineBackend.figure_format = 'svg'\n",
        "%matplotlib inline \n",
        "\n",
        "RED, BLUE = '#FF4136', '#0074D9'"
      ],
      "execution_count": 3,
      "outputs": []
    },
    {
      "cell_type": "code",
      "metadata": {
        "colab": {
          "base_uri": "https://localhost:8080/"
        },
        "id": "4CARp-Yl_Oys",
        "outputId": "920b3f5a-5f7c-429e-99e9-d8520f4f9042"
      },
      "source": [
        "sentence = ' the quick brown fox jumps over the lazy dog'\n",
        "\n",
        "words = sentence.split()\n",
        "words"
      ],
      "execution_count": 5,
      "outputs": [
        {
          "output_type": "execute_result",
          "data": {
            "text/plain": [
              "['the', 'quick', 'brown', 'fox', 'jumps', 'over', 'the', 'lazy', 'dog']"
            ]
          },
          "metadata": {
            "tags": []
          },
          "execution_count": 5
        }
      ]
    },
    {
      "cell_type": "code",
      "metadata": {
        "colab": {
          "base_uri": "https://localhost:8080/"
        },
        "id": "ZfRr2JvH_d-f",
        "outputId": "3e418051-d636-4270-ad4b-1e1248535fc0"
      },
      "source": [
        "word2idx = {word: idx for idx, word in enumerate(sorted(set(words)))}\n",
        "word2idx"
      ],
      "execution_count": 6,
      "outputs": [
        {
          "output_type": "execute_result",
          "data": {
            "text/plain": [
              "{'brown': 0,\n",
              " 'dog': 1,\n",
              " 'fox': 2,\n",
              " 'jumps': 3,\n",
              " 'lazy': 4,\n",
              " 'over': 5,\n",
              " 'quick': 6,\n",
              " 'the': 7}"
            ]
          },
          "metadata": {
            "tags": []
          },
          "execution_count": 6
        }
      ]
    },
    {
      "cell_type": "code",
      "metadata": {
        "colab": {
          "base_uri": "https://localhost:8080/"
        },
        "id": "tyD3sVcL_r0J",
        "outputId": "786f998b-1aeb-4c22-97d7-8e23e7a6a163"
      },
      "source": [
        "idxs = torch.LongTensor([word2idx[word] for word in sentence.split()])\n",
        "idxs"
      ],
      "execution_count": 7,
      "outputs": [
        {
          "output_type": "execute_result",
          "data": {
            "text/plain": [
              "tensor([7, 6, 0, 2, 3, 5, 7, 4, 1])"
            ]
          },
          "metadata": {
            "tags": []
          },
          "execution_count": 7
        }
      ]
    },
    {
      "cell_type": "code",
      "metadata": {
        "colab": {
          "base_uri": "https://localhost:8080/"
        },
        "id": "HYJi6Zv3AHEF",
        "outputId": "90bb02fb-46d8-44be-d8ae-39c3dcdad4a0"
      },
      "source": [
        "embedding_layer = nn.Embedding(num_embeddings=len(word2idx), embedding_dim=3)\n",
        "embeddings = embedding_layer(idxs)\n",
        "embeddings, embeddings.shape"
      ],
      "execution_count": 8,
      "outputs": [
        {
          "output_type": "execute_result",
          "data": {
            "text/plain": [
              "(tensor([[ 0.7241,  1.0410, -0.9327],\n",
              "         [ 0.0498,  1.1423,  2.4231],\n",
              "         [-1.8443,  0.9118,  1.3230],\n",
              "         [ 0.9656, -1.2072, -1.1414],\n",
              "         [-2.1206, -1.1748,  0.0709],\n",
              "         [-1.4047, -1.3654,  2.4456],\n",
              "         [ 0.7241,  1.0410, -0.9327],\n",
              "         [-0.4759, -1.7738,  1.0039],\n",
              "         [ 0.2819,  1.1859,  0.9239]], grad_fn=<EmbeddingBackward>),\n",
              " torch.Size([9, 3]))"
            ]
          },
          "metadata": {
            "tags": []
          },
          "execution_count": 8
        }
      ]
    },
    {
      "cell_type": "code",
      "metadata": {
        "colab": {
          "base_uri": "https://localhost:8080/"
        },
        "id": "I6vfC6wSBVOS",
        "outputId": "59bd0dfd-e010-4c0f-f706-8e1db418a12f"
      },
      "source": [
        "# GLOVE Embeddings \n",
        "\n",
        "!wget http://magnitude.plasticity.ai/glove/light/glove.6B.50d.magnitude glove/"
      ],
      "execution_count": 9,
      "outputs": [
        {
          "output_type": "stream",
          "text": [
            "--2021-03-23 07:40:55--  http://magnitude.plasticity.ai/glove/light/glove.6B.50d.magnitude\n",
            "Resolving magnitude.plasticity.ai (magnitude.plasticity.ai)... 52.216.112.66\n",
            "Connecting to magnitude.plasticity.ai (magnitude.plasticity.ai)|52.216.112.66|:80... connected.\n",
            "HTTP request sent, awaiting response... 200 OK\n",
            "Length: 102670336 (98M) [binary/octet-stream]\n",
            "Saving to: ‘glove.6B.50d.magnitude’\n",
            "\n",
            "glove.6B.50d.magnit 100%[===================>]  97.91M  15.0MB/s    in 22s     \n",
            "\n",
            "2021-03-23 07:41:20 (4.49 MB/s) - ‘glove.6B.50d.magnitude’ saved [102670336/102670336]\n",
            "\n",
            "--2021-03-23 07:41:20--  http://glove/\n",
            "Resolving glove (glove)... failed: Name or service not known.\n",
            "wget: unable to resolve host address ‘glove’\n",
            "FINISHED --2021-03-23 07:41:20--\n",
            "Total wall clock time: 25s\n",
            "Downloaded: 1 files, 98M in 22s (4.49 MB/s)\n"
          ],
          "name": "stdout"
        }
      ]
    },
    {
      "cell_type": "code",
      "metadata": {
        "id": "pnXA-C8UB4iW"
      },
      "source": [
        "# load magnitude glove vectors\n",
        "\n",
        "glove_vectors = Magnitude('glove/glove.6B.50d.magnitude')\n",
        "glove_embeddings = glove_vectors.query(words)"
      ],
      "execution_count": 10,
      "outputs": []
    },
    {
      "cell_type": "code",
      "metadata": {
        "id": "pxjHIjMGCRJq"
      },
      "source": [
        "# Similarity operation on embeddings \n",
        "def cosine_similarity(word1, word2):\n",
        "    vector1, vector2 = glove_vectors.query(word1), glove_vectors.query(word2)\n",
        "    return 1 - spatial.distance.cosine(vector1, vector2)"
      ],
      "execution_count": 11,
      "outputs": []
    },
    {
      "cell_type": "code",
      "metadata": {
        "colab": {
          "base_uri": "https://localhost:8080/"
        },
        "id": "MYE5KYehC-Ci",
        "outputId": "6cb7bd4c-8724-424b-83ef-947529cf8452"
      },
      "source": [
        "word_pairs = [\n",
        "              ('dog', 'cat'),\n",
        "              ('tree', 'cat'),\n",
        "              ('tree', 'leaf'),\n",
        "              ('king', 'queen')\n",
        "]\n",
        "\n",
        "\n",
        "for word1, word2 in word_pairs: \n",
        "    print(f'similarity between \"{word1}\" and \"{word2}\" :\\t{cosine_similarity(word1, word2):.2f}')"
      ],
      "execution_count": 12,
      "outputs": [
        {
          "output_type": "stream",
          "text": [
            "similarity between \"dog\" and \"cat\" :\t0.92\n",
            "similarity between \"tree\" and \"cat\" :\t0.57\n",
            "similarity between \"tree\" and \"leaf\" :\t0.74\n",
            "similarity between \"king\" and \"queen\" :\t0.78\n"
          ],
          "name": "stdout"
        }
      ]
    },
    {
      "cell_type": "code",
      "metadata": {
        "id": "BHu1hc9uE30I"
      },
      "source": [
        "ANIMALS = [\n",
        "    'whale',\n",
        "    'fish',\n",
        "    'horse',\n",
        "    'rabbit',\n",
        "    'sheep',\n",
        "    'lion',\n",
        "    'dog',\n",
        "    'cat',\n",
        "    'tiger',\n",
        "    'hamster',\n",
        "    'pig',\n",
        "    'goat',\n",
        "    'lizard',\n",
        "    'elephant',\n",
        "    'giraffe',\n",
        "    'hippo',\n",
        "    'zebra',\n",
        "]\n",
        "\n",
        "HOUSEHOLD_OBJECTS = [\n",
        "    'stapler',\n",
        "    'screw',\n",
        "    'nail',\n",
        "    'tv',\n",
        "    'dresser',\n",
        "    'keyboard',\n",
        "    'hairdryer',\n",
        "    'couch',\n",
        "    'sofa',\n",
        "    'lamp',\n",
        "    'chair',\n",
        "    'desk',\n",
        "    'pen',\n",
        "    'pencil',\n",
        "    'table',\n",
        "    'sock',\n",
        "    'floor',\n",
        "    'wall',\n",
        "]"
      ],
      "execution_count": 13,
      "outputs": []
    },
    {
      "cell_type": "code",
      "metadata": {
        "colab": {
          "base_uri": "https://localhost:8080/"
        },
        "id": "0cjtkJnLFvZ1",
        "outputId": "0f700126-31b4-4691-da5f-a24997ed151f"
      },
      "source": [
        "tsne_words_embedded = TSNE(n_components=2).fit_transform(glove_vectors.query(ANIMALS + HOUSEHOLD_OBJECTS))\n",
        "tsne_words_embedded.shape"
      ],
      "execution_count": 14,
      "outputs": [
        {
          "output_type": "execute_result",
          "data": {
            "text/plain": [
              "(35, 2)"
            ]
          },
          "metadata": {
            "tags": []
          },
          "execution_count": 14
        }
      ]
    },
    {
      "cell_type": "code",
      "metadata": {
        "colab": {
          "base_uri": "https://localhost:8080/",
          "height": 620
        },
        "id": "Az9fRRNpFyId",
        "outputId": "9431e6d7-f6c5-46af-d46a-f85a2eb78af8"
      },
      "source": [
        "x, y = zip(*tsne_words_embedded)\n",
        "\n",
        "fig, ax = plt.subplots(figsize=(10, 8))\n",
        "\n",
        "for i, label in enumerate(ANIMALS + HOUSEHOLD_OBJECTS):\n",
        "    if label in ANIMALS:\n",
        "        color = BLUE\n",
        "    elif label in HOUSEHOLD_OBJECTS:\n",
        "        color = RED\n",
        "        \n",
        "    ax.scatter(x[i], y[i], c=color)\n",
        "    ax.annotate(label, (x[i], y[i]))\n",
        "\n",
        "ax.axis('off')\n",
        "\n",
        "plt.show()"
      ],
      "execution_count": 15,
      "outputs": [
        {
          "output_type": "display_data",
          "data": {
            "text/plain": [
              "<Figure size 720x576 with 1 Axes>"
            ],
            "image/svg+xml": "<?xml version=\"1.0\" encoding=\"utf-8\" standalone=\"no\"?>\n<!DOCTYPE svg PUBLIC \"-//W3C//DTD SVG 1.1//EN\"\n  \"http://www.w3.org/Graphics/SVG/1.1/DTD/svg11.dtd\">\n<!-- Created with matplotlib (https://matplotlib.org/) -->\n<svg height=\"449.28pt\" version=\"1.1\" viewBox=\"0 0 572.4 449.28\" width=\"572.4pt\" xmlns=\"http://www.w3.org/2000/svg\" xmlns:xlink=\"http://www.w3.org/1999/xlink\">\n <defs>\n  <style type=\"text/css\">\n*{stroke-linecap:butt;stroke-linejoin:round;}\n  </style>\n </defs>\n <g id=\"figure_1\">\n  <g id=\"patch_1\">\n   <path d=\"M 0 449.28 \nL 572.4 449.28 \nL 572.4 0 \nL 0 0 \nz\n\" style=\"fill:none;\"/>\n  </g>\n  <g id=\"axes_1\">\n   <g id=\"PathCollection_1\">\n    <defs>\n     <path d=\"M 0 3 \nC 0.795609 3 1.55874 2.683901 2.12132 2.12132 \nC 2.683901 1.55874 3 0.795609 3 0 \nC 3 -0.795609 2.683901 -1.55874 2.12132 -2.12132 \nC 1.55874 -2.683901 0.795609 -3 0 -3 \nC -0.795609 -3 -1.55874 -2.683901 -2.12132 -2.12132 \nC -2.683901 -1.55874 -3 -0.795609 -3 0 \nC -3 0.795609 -2.683901 1.55874 -2.12132 2.12132 \nC -1.55874 2.683901 -0.795609 3 0 3 \nz\n\" id=\"m593ca3f6e1\" style=\"stroke:#0074d9;\"/>\n    </defs>\n    <g clip-path=\"url(#pc7d650b678)\">\n     <use style=\"fill:#0074d9;stroke:#0074d9;\" x=\"44.143285\" xlink:href=\"#m593ca3f6e1\" y=\"160.461938\"/>\n    </g>\n   </g>\n   <g id=\"PathCollection_2\">\n    <g clip-path=\"url(#pc7d650b678)\">\n     <use style=\"fill:#0074d9;stroke:#0074d9;\" x=\"101.914756\" xlink:href=\"#m593ca3f6e1\" y=\"271.786171\"/>\n    </g>\n   </g>\n   <g id=\"PathCollection_3\">\n    <g clip-path=\"url(#pc7d650b678)\">\n     <use style=\"fill:#0074d9;stroke:#0074d9;\" x=\"244.241066\" xlink:href=\"#m593ca3f6e1\" y=\"314.769843\"/>\n    </g>\n   </g>\n   <g id=\"PathCollection_4\">\n    <g clip-path=\"url(#pc7d650b678)\">\n     <use style=\"fill:#0074d9;stroke:#0074d9;\" x=\"116.782591\" xlink:href=\"#m593ca3f6e1\" y=\"200.398615\"/>\n    </g>\n   </g>\n   <g id=\"PathCollection_5\">\n    <g clip-path=\"url(#pc7d650b678)\">\n     <use style=\"fill:#0074d9;stroke:#0074d9;\" x=\"32.563636\" xlink:href=\"#m593ca3f6e1\" y=\"236.011187\"/>\n    </g>\n   </g>\n   <g id=\"PathCollection_6\">\n    <g clip-path=\"url(#pc7d650b678)\">\n     <use style=\"fill:#0074d9;stroke:#0074d9;\" x=\"134.335724\" xlink:href=\"#m593ca3f6e1\" y=\"358.631138\"/>\n    </g>\n   </g>\n   <g id=\"PathCollection_7\">\n    <g clip-path=\"url(#pc7d650b678)\">\n     <use style=\"fill:#0074d9;stroke:#0074d9;\" x=\"176.255628\" xlink:href=\"#m593ca3f6e1\" y=\"297.780172\"/>\n    </g>\n   </g>\n   <g id=\"PathCollection_8\">\n    <g clip-path=\"url(#pc7d650b678)\">\n     <use style=\"fill:#0074d9;stroke:#0074d9;\" x=\"196.845818\" xlink:href=\"#m593ca3f6e1\" y=\"177.163878\"/>\n    </g>\n   </g>\n   <g id=\"PathCollection_9\">\n    <g clip-path=\"url(#pc7d650b678)\">\n     <use style=\"fill:#0074d9;stroke:#0074d9;\" x=\"49.709824\" xlink:href=\"#m593ca3f6e1\" y=\"329.528643\"/>\n    </g>\n   </g>\n   <g id=\"PathCollection_10\">\n    <g clip-path=\"url(#pc7d650b678)\">\n     <use style=\"fill:#0074d9;stroke:#0074d9;\" x=\"256.86103\" xlink:href=\"#m593ca3f6e1\" y=\"122.744797\"/>\n    </g>\n   </g>\n   <g id=\"PathCollection_11\">\n    <g clip-path=\"url(#pc7d650b678)\">\n     <use style=\"fill:#0074d9;stroke:#0074d9;\" x=\"239.247499\" xlink:href=\"#m593ca3f6e1\" y=\"247.172817\"/>\n    </g>\n   </g>\n   <g id=\"PathCollection_12\">\n    <g clip-path=\"url(#pc7d650b678)\">\n     <use style=\"fill:#0074d9;stroke:#0074d9;\" x=\"269.669459\" xlink:href=\"#m593ca3f6e1\" y=\"192.982967\"/>\n    </g>\n   </g>\n   <g id=\"PathCollection_13\">\n    <g clip-path=\"url(#pc7d650b678)\">\n     <use style=\"fill:#0074d9;stroke:#0074d9;\" x=\"129.915914\" xlink:href=\"#m593ca3f6e1\" y=\"134.794641\"/>\n    </g>\n   </g>\n   <g id=\"PathCollection_14\">\n    <g clip-path=\"url(#pc7d650b678)\">\n     <use style=\"fill:#0074d9;stroke:#0074d9;\" x=\"169.780221\" xlink:href=\"#m593ca3f6e1\" y=\"235.639181\"/>\n    </g>\n   </g>\n   <g id=\"PathCollection_15\">\n    <g clip-path=\"url(#pc7d650b678)\">\n     <use style=\"fill:#0074d9;stroke:#0074d9;\" x=\"184.18842\" xlink:href=\"#m593ca3f6e1\" y=\"89.536738\"/>\n    </g>\n   </g>\n   <g id=\"PathCollection_16\">\n    <g clip-path=\"url(#pc7d650b678)\">\n     <use style=\"fill:#0074d9;stroke:#0074d9;\" x=\"93.543273\" xlink:href=\"#m593ca3f6e1\" y=\"66.596815\"/>\n    </g>\n   </g>\n   <g id=\"PathCollection_17\">\n    <g clip-path=\"url(#pc7d650b678)\">\n     <use style=\"fill:#0074d9;stroke:#0074d9;\" x=\"207.250716\" xlink:href=\"#m593ca3f6e1\" y=\"26.967273\"/>\n    </g>\n   </g>\n   <g id=\"PathCollection_18\">\n    <defs>\n     <path d=\"M 0 3 \nC 0.795609 3 1.55874 2.683901 2.12132 2.12132 \nC 2.683901 1.55874 3 0.795609 3 0 \nC 3 -0.795609 2.683901 -1.55874 2.12132 -2.12132 \nC 1.55874 -2.683901 0.795609 -3 0 -3 \nC -0.795609 -3 -1.55874 -2.683901 -2.12132 -2.12132 \nC -2.683901 -1.55874 -3 -0.795609 -3 0 \nC -3 0.795609 -2.683901 1.55874 -2.12132 2.12132 \nC -1.55874 2.683901 -0.795609 3 0 3 \nz\n\" id=\"m788f8aaec8\" style=\"stroke:#ff4136;\"/>\n    </defs>\n    <g clip-path=\"url(#pc7d650b678)\">\n     <use style=\"fill:#ff4136;stroke:#ff4136;\" x=\"440.499973\" xlink:href=\"#m788f8aaec8\" y=\"89.886472\"/>\n    </g>\n   </g>\n   <g id=\"PathCollection_19\">\n    <g clip-path=\"url(#pc7d650b678)\">\n     <use style=\"fill:#ff4136;stroke:#ff4136;\" x=\"402.798267\" xlink:href=\"#m788f8aaec8\" y=\"410.343865\"/>\n    </g>\n   </g>\n   <g id=\"PathCollection_20\">\n    <g clip-path=\"url(#pc7d650b678)\">\n     <use style=\"fill:#ff4136;stroke:#ff4136;\" x=\"385.24211\" xlink:href=\"#m788f8aaec8\" y=\"280.869427\"/>\n    </g>\n   </g>\n   <g id=\"PathCollection_21\">\n    <g clip-path=\"url(#pc7d650b678)\">\n     <use style=\"fill:#ff4136;stroke:#ff4136;\" x=\"331.752788\" xlink:href=\"#m788f8aaec8\" y=\"66.424599\"/>\n    </g>\n   </g>\n   <g id=\"PathCollection_22\">\n    <g clip-path=\"url(#pc7d650b678)\">\n     <use style=\"fill:#ff4136;stroke:#ff4136;\" x=\"514.166112\" xlink:href=\"#m788f8aaec8\" y=\"168.88257\"/>\n    </g>\n   </g>\n   <g id=\"PathCollection_23\">\n    <g clip-path=\"url(#pc7d650b678)\">\n     <use style=\"fill:#ff4136;stroke:#ff4136;\" x=\"461.35954\" xlink:href=\"#m788f8aaec8\" y=\"226.652641\"/>\n    </g>\n   </g>\n   <g id=\"PathCollection_24\">\n    <g clip-path=\"url(#pc7d650b678)\">\n     <use style=\"fill:#ff4136;stroke:#ff4136;\" x=\"497.89445\" xlink:href=\"#m788f8aaec8\" y=\"44.23318\"/>\n    </g>\n   </g>\n   <g id=\"PathCollection_25\">\n    <g clip-path=\"url(#pc7d650b678)\">\n     <use style=\"fill:#ff4136;stroke:#ff4136;\" x=\"347.651979\" xlink:href=\"#m788f8aaec8\" y=\"152.485391\"/>\n    </g>\n   </g>\n   <g id=\"PathCollection_26\">\n    <g clip-path=\"url(#pc7d650b678)\">\n     <use style=\"fill:#ff4136;stroke:#ff4136;\" x=\"421.209012\" xlink:href=\"#m788f8aaec8\" y=\"164.582046\"/>\n    </g>\n   </g>\n   <g id=\"PathCollection_27\">\n    <g clip-path=\"url(#pc7d650b678)\">\n     <use style=\"fill:#ff4136;stroke:#ff4136;\" x=\"496.768382\" xlink:href=\"#m788f8aaec8\" y=\"363.125513\"/>\n    </g>\n   </g>\n   <g id=\"PathCollection_28\">\n    <g clip-path=\"url(#pc7d650b678)\">\n     <use style=\"fill:#ff4136;stroke:#ff4136;\" x=\"366.736071\" xlink:href=\"#m788f8aaec8\" y=\"218.929695\"/>\n    </g>\n   </g>\n   <g id=\"PathCollection_29\">\n    <g clip-path=\"url(#pc7d650b678)\">\n     <use style=\"fill:#ff4136;stroke:#ff4136;\" x=\"539.836364\" xlink:href=\"#m788f8aaec8\" y=\"260.549196\"/>\n    </g>\n   </g>\n   <g id=\"PathCollection_30\">\n    <g clip-path=\"url(#pc7d650b678)\">\n     <use style=\"fill:#ff4136;stroke:#ff4136;\" x=\"300.740766\" xlink:href=\"#m788f8aaec8\" y=\"422.312727\"/>\n    </g>\n   </g>\n   <g id=\"PathCollection_31\">\n    <g clip-path=\"url(#pc7d650b678)\">\n     <use style=\"fill:#ff4136;stroke:#ff4136;\" x=\"325.219493\" xlink:href=\"#m788f8aaec8\" y=\"357.120298\"/>\n    </g>\n   </g>\n   <g id=\"PathCollection_32\">\n    <g clip-path=\"url(#pc7d650b678)\">\n     <use style=\"fill:#ff4136;stroke:#ff4136;\" x=\"404.23796\" xlink:href=\"#m788f8aaec8\" y=\"339.31192\"/>\n    </g>\n   </g>\n   <g id=\"PathCollection_33\">\n    <g clip-path=\"url(#pc7d650b678)\">\n     <use style=\"fill:#ff4136;stroke:#ff4136;\" x=\"225.291563\" xlink:href=\"#m788f8aaec8\" y=\"382.958644\"/>\n    </g>\n   </g>\n   <g id=\"PathCollection_34\">\n    <g clip-path=\"url(#pc7d650b678)\">\n     <use style=\"fill:#ff4136;stroke:#ff4136;\" x=\"461.97516\" xlink:href=\"#m788f8aaec8\" y=\"294.593657\"/>\n    </g>\n   </g>\n   <g id=\"PathCollection_35\">\n    <g clip-path=\"url(#pc7d650b678)\">\n     <use style=\"fill:#ff4136;stroke:#ff4136;\" x=\"318.049781\" xlink:href=\"#m788f8aaec8\" y=\"283.029065\"/>\n    </g>\n   </g>\n   <g id=\"text_1\">\n    <!-- whale -->\n    <defs>\n     <path d=\"M 4.203125 54.6875 \nL 13.1875 54.6875 \nL 24.421875 12.015625 \nL 35.59375 54.6875 \nL 46.1875 54.6875 \nL 57.421875 12.015625 \nL 68.609375 54.6875 \nL 77.59375 54.6875 \nL 63.28125 0 \nL 52.6875 0 \nL 40.921875 44.828125 \nL 29.109375 0 \nL 18.5 0 \nz\n\" id=\"DejaVuSans-119\"/>\n     <path d=\"M 54.890625 33.015625 \nL 54.890625 0 \nL 45.90625 0 \nL 45.90625 32.71875 \nQ 45.90625 40.484375 42.875 44.328125 \nQ 39.84375 48.1875 33.796875 48.1875 \nQ 26.515625 48.1875 22.3125 43.546875 \nQ 18.109375 38.921875 18.109375 30.90625 \nL 18.109375 0 \nL 9.078125 0 \nL 9.078125 75.984375 \nL 18.109375 75.984375 \nL 18.109375 46.1875 \nQ 21.34375 51.125 25.703125 53.5625 \nQ 30.078125 56 35.796875 56 \nQ 45.21875 56 50.046875 50.171875 \nQ 54.890625 44.34375 54.890625 33.015625 \nz\n\" id=\"DejaVuSans-104\"/>\n     <path d=\"M 34.28125 27.484375 \nQ 23.390625 27.484375 19.1875 25 \nQ 14.984375 22.515625 14.984375 16.5 \nQ 14.984375 11.71875 18.140625 8.90625 \nQ 21.296875 6.109375 26.703125 6.109375 \nQ 34.1875 6.109375 38.703125 11.40625 \nQ 43.21875 16.703125 43.21875 25.484375 \nL 43.21875 27.484375 \nz\nM 52.203125 31.203125 \nL 52.203125 0 \nL 43.21875 0 \nL 43.21875 8.296875 \nQ 40.140625 3.328125 35.546875 0.953125 \nQ 30.953125 -1.421875 24.3125 -1.421875 \nQ 15.921875 -1.421875 10.953125 3.296875 \nQ 6 8.015625 6 15.921875 \nQ 6 25.140625 12.171875 29.828125 \nQ 18.359375 34.515625 30.609375 34.515625 \nL 43.21875 34.515625 \nL 43.21875 35.40625 \nQ 43.21875 41.609375 39.140625 45 \nQ 35.0625 48.390625 27.6875 48.390625 \nQ 23 48.390625 18.546875 47.265625 \nQ 14.109375 46.140625 10.015625 43.890625 \nL 10.015625 52.203125 \nQ 14.9375 54.109375 19.578125 55.046875 \nQ 24.21875 56 28.609375 56 \nQ 40.484375 56 46.34375 49.84375 \nQ 52.203125 43.703125 52.203125 31.203125 \nz\n\" id=\"DejaVuSans-97\"/>\n     <path d=\"M 9.421875 75.984375 \nL 18.40625 75.984375 \nL 18.40625 0 \nL 9.421875 0 \nz\n\" id=\"DejaVuSans-108\"/>\n     <path d=\"M 56.203125 29.59375 \nL 56.203125 25.203125 \nL 14.890625 25.203125 \nQ 15.484375 15.921875 20.484375 11.0625 \nQ 25.484375 6.203125 34.421875 6.203125 \nQ 39.59375 6.203125 44.453125 7.46875 \nQ 49.3125 8.734375 54.109375 11.28125 \nL 54.109375 2.78125 \nQ 49.265625 0.734375 44.1875 -0.34375 \nQ 39.109375 -1.421875 33.890625 -1.421875 \nQ 20.796875 -1.421875 13.15625 6.1875 \nQ 5.515625 13.8125 5.515625 26.8125 \nQ 5.515625 40.234375 12.765625 48.109375 \nQ 20.015625 56 32.328125 56 \nQ 43.359375 56 49.78125 48.890625 \nQ 56.203125 41.796875 56.203125 29.59375 \nz\nM 47.21875 32.234375 \nQ 47.125 39.59375 43.09375 43.984375 \nQ 39.0625 48.390625 32.421875 48.390625 \nQ 24.90625 48.390625 20.390625 44.140625 \nQ 15.875 39.890625 15.1875 32.171875 \nz\n\" id=\"DejaVuSans-101\"/>\n    </defs>\n    <g transform=\"translate(44.143285 160.461938)scale(0.1 -0.1)\">\n     <use xlink:href=\"#DejaVuSans-119\"/>\n     <use x=\"81.787109\" xlink:href=\"#DejaVuSans-104\"/>\n     <use x=\"145.166016\" xlink:href=\"#DejaVuSans-97\"/>\n     <use x=\"206.445312\" xlink:href=\"#DejaVuSans-108\"/>\n     <use x=\"234.228516\" xlink:href=\"#DejaVuSans-101\"/>\n    </g>\n   </g>\n   <g id=\"text_2\">\n    <!-- fish -->\n    <defs>\n     <path d=\"M 37.109375 75.984375 \nL 37.109375 68.5 \nL 28.515625 68.5 \nQ 23.6875 68.5 21.796875 66.546875 \nQ 19.921875 64.59375 19.921875 59.515625 \nL 19.921875 54.6875 \nL 34.71875 54.6875 \nL 34.71875 47.703125 \nL 19.921875 47.703125 \nL 19.921875 0 \nL 10.890625 0 \nL 10.890625 47.703125 \nL 2.296875 47.703125 \nL 2.296875 54.6875 \nL 10.890625 54.6875 \nL 10.890625 58.5 \nQ 10.890625 67.625 15.140625 71.796875 \nQ 19.390625 75.984375 28.609375 75.984375 \nz\n\" id=\"DejaVuSans-102\"/>\n     <path d=\"M 9.421875 54.6875 \nL 18.40625 54.6875 \nL 18.40625 0 \nL 9.421875 0 \nz\nM 9.421875 75.984375 \nL 18.40625 75.984375 \nL 18.40625 64.59375 \nL 9.421875 64.59375 \nz\n\" id=\"DejaVuSans-105\"/>\n     <path d=\"M 44.28125 53.078125 \nL 44.28125 44.578125 \nQ 40.484375 46.53125 36.375 47.5 \nQ 32.28125 48.484375 27.875 48.484375 \nQ 21.1875 48.484375 17.84375 46.4375 \nQ 14.5 44.390625 14.5 40.28125 \nQ 14.5 37.15625 16.890625 35.375 \nQ 19.28125 33.59375 26.515625 31.984375 \nL 29.59375 31.296875 \nQ 39.15625 29.25 43.1875 25.515625 \nQ 47.21875 21.78125 47.21875 15.09375 \nQ 47.21875 7.46875 41.1875 3.015625 \nQ 35.15625 -1.421875 24.609375 -1.421875 \nQ 20.21875 -1.421875 15.453125 -0.5625 \nQ 10.6875 0.296875 5.421875 2 \nL 5.421875 11.28125 \nQ 10.40625 8.6875 15.234375 7.390625 \nQ 20.0625 6.109375 24.8125 6.109375 \nQ 31.15625 6.109375 34.5625 8.28125 \nQ 37.984375 10.453125 37.984375 14.40625 \nQ 37.984375 18.0625 35.515625 20.015625 \nQ 33.0625 21.96875 24.703125 23.78125 \nL 21.578125 24.515625 \nQ 13.234375 26.265625 9.515625 29.90625 \nQ 5.8125 33.546875 5.8125 39.890625 \nQ 5.8125 47.609375 11.28125 51.796875 \nQ 16.75 56 26.8125 56 \nQ 31.78125 56 36.171875 55.265625 \nQ 40.578125 54.546875 44.28125 53.078125 \nz\n\" id=\"DejaVuSans-115\"/>\n    </defs>\n    <g transform=\"translate(101.914756 271.786171)scale(0.1 -0.1)\">\n     <use xlink:href=\"#DejaVuSans-102\"/>\n     <use x=\"35.205078\" xlink:href=\"#DejaVuSans-105\"/>\n     <use x=\"62.988281\" xlink:href=\"#DejaVuSans-115\"/>\n     <use x=\"115.087891\" xlink:href=\"#DejaVuSans-104\"/>\n    </g>\n   </g>\n   <g id=\"text_3\">\n    <!-- horse -->\n    <defs>\n     <path d=\"M 30.609375 48.390625 \nQ 23.390625 48.390625 19.1875 42.75 \nQ 14.984375 37.109375 14.984375 27.296875 \nQ 14.984375 17.484375 19.15625 11.84375 \nQ 23.34375 6.203125 30.609375 6.203125 \nQ 37.796875 6.203125 41.984375 11.859375 \nQ 46.1875 17.53125 46.1875 27.296875 \nQ 46.1875 37.015625 41.984375 42.703125 \nQ 37.796875 48.390625 30.609375 48.390625 \nz\nM 30.609375 56 \nQ 42.328125 56 49.015625 48.375 \nQ 55.71875 40.765625 55.71875 27.296875 \nQ 55.71875 13.875 49.015625 6.21875 \nQ 42.328125 -1.421875 30.609375 -1.421875 \nQ 18.84375 -1.421875 12.171875 6.21875 \nQ 5.515625 13.875 5.515625 27.296875 \nQ 5.515625 40.765625 12.171875 48.375 \nQ 18.84375 56 30.609375 56 \nz\n\" id=\"DejaVuSans-111\"/>\n     <path d=\"M 41.109375 46.296875 \nQ 39.59375 47.171875 37.8125 47.578125 \nQ 36.03125 48 33.890625 48 \nQ 26.265625 48 22.1875 43.046875 \nQ 18.109375 38.09375 18.109375 28.8125 \nL 18.109375 0 \nL 9.078125 0 \nL 9.078125 54.6875 \nL 18.109375 54.6875 \nL 18.109375 46.1875 \nQ 20.953125 51.171875 25.484375 53.578125 \nQ 30.03125 56 36.53125 56 \nQ 37.453125 56 38.578125 55.875 \nQ 39.703125 55.765625 41.0625 55.515625 \nz\n\" id=\"DejaVuSans-114\"/>\n    </defs>\n    <g transform=\"translate(244.241066 314.769843)scale(0.1 -0.1)\">\n     <use xlink:href=\"#DejaVuSans-104\"/>\n     <use x=\"63.378906\" xlink:href=\"#DejaVuSans-111\"/>\n     <use x=\"124.560547\" xlink:href=\"#DejaVuSans-114\"/>\n     <use x=\"165.673828\" xlink:href=\"#DejaVuSans-115\"/>\n     <use x=\"217.773438\" xlink:href=\"#DejaVuSans-101\"/>\n    </g>\n   </g>\n   <g id=\"text_4\">\n    <!-- rabbit -->\n    <defs>\n     <path d=\"M 48.6875 27.296875 \nQ 48.6875 37.203125 44.609375 42.84375 \nQ 40.53125 48.484375 33.40625 48.484375 \nQ 26.265625 48.484375 22.1875 42.84375 \nQ 18.109375 37.203125 18.109375 27.296875 \nQ 18.109375 17.390625 22.1875 11.75 \nQ 26.265625 6.109375 33.40625 6.109375 \nQ 40.53125 6.109375 44.609375 11.75 \nQ 48.6875 17.390625 48.6875 27.296875 \nz\nM 18.109375 46.390625 \nQ 20.953125 51.265625 25.265625 53.625 \nQ 29.59375 56 35.59375 56 \nQ 45.5625 56 51.78125 48.09375 \nQ 58.015625 40.1875 58.015625 27.296875 \nQ 58.015625 14.40625 51.78125 6.484375 \nQ 45.5625 -1.421875 35.59375 -1.421875 \nQ 29.59375 -1.421875 25.265625 0.953125 \nQ 20.953125 3.328125 18.109375 8.203125 \nL 18.109375 0 \nL 9.078125 0 \nL 9.078125 75.984375 \nL 18.109375 75.984375 \nz\n\" id=\"DejaVuSans-98\"/>\n     <path d=\"M 18.3125 70.21875 \nL 18.3125 54.6875 \nL 36.8125 54.6875 \nL 36.8125 47.703125 \nL 18.3125 47.703125 \nL 18.3125 18.015625 \nQ 18.3125 11.328125 20.140625 9.421875 \nQ 21.96875 7.515625 27.59375 7.515625 \nL 36.8125 7.515625 \nL 36.8125 0 \nL 27.59375 0 \nQ 17.1875 0 13.234375 3.875 \nQ 9.28125 7.765625 9.28125 18.015625 \nL 9.28125 47.703125 \nL 2.6875 47.703125 \nL 2.6875 54.6875 \nL 9.28125 54.6875 \nL 9.28125 70.21875 \nz\n\" id=\"DejaVuSans-116\"/>\n    </defs>\n    <g transform=\"translate(116.782591 200.398615)scale(0.1 -0.1)\">\n     <use xlink:href=\"#DejaVuSans-114\"/>\n     <use x=\"41.113281\" xlink:href=\"#DejaVuSans-97\"/>\n     <use x=\"102.392578\" xlink:href=\"#DejaVuSans-98\"/>\n     <use x=\"165.869141\" xlink:href=\"#DejaVuSans-98\"/>\n     <use x=\"229.345703\" xlink:href=\"#DejaVuSans-105\"/>\n     <use x=\"257.128906\" xlink:href=\"#DejaVuSans-116\"/>\n    </g>\n   </g>\n   <g id=\"text_5\">\n    <!-- sheep -->\n    <defs>\n     <path d=\"M 18.109375 8.203125 \nL 18.109375 -20.796875 \nL 9.078125 -20.796875 \nL 9.078125 54.6875 \nL 18.109375 54.6875 \nL 18.109375 46.390625 \nQ 20.953125 51.265625 25.265625 53.625 \nQ 29.59375 56 35.59375 56 \nQ 45.5625 56 51.78125 48.09375 \nQ 58.015625 40.1875 58.015625 27.296875 \nQ 58.015625 14.40625 51.78125 6.484375 \nQ 45.5625 -1.421875 35.59375 -1.421875 \nQ 29.59375 -1.421875 25.265625 0.953125 \nQ 20.953125 3.328125 18.109375 8.203125 \nz\nM 48.6875 27.296875 \nQ 48.6875 37.203125 44.609375 42.84375 \nQ 40.53125 48.484375 33.40625 48.484375 \nQ 26.265625 48.484375 22.1875 42.84375 \nQ 18.109375 37.203125 18.109375 27.296875 \nQ 18.109375 17.390625 22.1875 11.75 \nQ 26.265625 6.109375 33.40625 6.109375 \nQ 40.53125 6.109375 44.609375 11.75 \nQ 48.6875 17.390625 48.6875 27.296875 \nz\n\" id=\"DejaVuSans-112\"/>\n    </defs>\n    <g transform=\"translate(32.563636 236.011187)scale(0.1 -0.1)\">\n     <use xlink:href=\"#DejaVuSans-115\"/>\n     <use x=\"52.099609\" xlink:href=\"#DejaVuSans-104\"/>\n     <use x=\"115.478516\" xlink:href=\"#DejaVuSans-101\"/>\n     <use x=\"177.001953\" xlink:href=\"#DejaVuSans-101\"/>\n     <use x=\"238.525391\" xlink:href=\"#DejaVuSans-112\"/>\n    </g>\n   </g>\n   <g id=\"text_6\">\n    <!-- lion -->\n    <defs>\n     <path d=\"M 54.890625 33.015625 \nL 54.890625 0 \nL 45.90625 0 \nL 45.90625 32.71875 \nQ 45.90625 40.484375 42.875 44.328125 \nQ 39.84375 48.1875 33.796875 48.1875 \nQ 26.515625 48.1875 22.3125 43.546875 \nQ 18.109375 38.921875 18.109375 30.90625 \nL 18.109375 0 \nL 9.078125 0 \nL 9.078125 54.6875 \nL 18.109375 54.6875 \nL 18.109375 46.1875 \nQ 21.34375 51.125 25.703125 53.5625 \nQ 30.078125 56 35.796875 56 \nQ 45.21875 56 50.046875 50.171875 \nQ 54.890625 44.34375 54.890625 33.015625 \nz\n\" id=\"DejaVuSans-110\"/>\n    </defs>\n    <g transform=\"translate(134.335724 358.631138)scale(0.1 -0.1)\">\n     <use xlink:href=\"#DejaVuSans-108\"/>\n     <use x=\"27.783203\" xlink:href=\"#DejaVuSans-105\"/>\n     <use x=\"55.566406\" xlink:href=\"#DejaVuSans-111\"/>\n     <use x=\"116.748047\" xlink:href=\"#DejaVuSans-110\"/>\n    </g>\n   </g>\n   <g id=\"text_7\">\n    <!-- dog -->\n    <defs>\n     <path d=\"M 45.40625 46.390625 \nL 45.40625 75.984375 \nL 54.390625 75.984375 \nL 54.390625 0 \nL 45.40625 0 \nL 45.40625 8.203125 \nQ 42.578125 3.328125 38.25 0.953125 \nQ 33.9375 -1.421875 27.875 -1.421875 \nQ 17.96875 -1.421875 11.734375 6.484375 \nQ 5.515625 14.40625 5.515625 27.296875 \nQ 5.515625 40.1875 11.734375 48.09375 \nQ 17.96875 56 27.875 56 \nQ 33.9375 56 38.25 53.625 \nQ 42.578125 51.265625 45.40625 46.390625 \nz\nM 14.796875 27.296875 \nQ 14.796875 17.390625 18.875 11.75 \nQ 22.953125 6.109375 30.078125 6.109375 \nQ 37.203125 6.109375 41.296875 11.75 \nQ 45.40625 17.390625 45.40625 27.296875 \nQ 45.40625 37.203125 41.296875 42.84375 \nQ 37.203125 48.484375 30.078125 48.484375 \nQ 22.953125 48.484375 18.875 42.84375 \nQ 14.796875 37.203125 14.796875 27.296875 \nz\n\" id=\"DejaVuSans-100\"/>\n     <path d=\"M 45.40625 27.984375 \nQ 45.40625 37.75 41.375 43.109375 \nQ 37.359375 48.484375 30.078125 48.484375 \nQ 22.859375 48.484375 18.828125 43.109375 \nQ 14.796875 37.75 14.796875 27.984375 \nQ 14.796875 18.265625 18.828125 12.890625 \nQ 22.859375 7.515625 30.078125 7.515625 \nQ 37.359375 7.515625 41.375 12.890625 \nQ 45.40625 18.265625 45.40625 27.984375 \nz\nM 54.390625 6.78125 \nQ 54.390625 -7.171875 48.1875 -13.984375 \nQ 42 -20.796875 29.203125 -20.796875 \nQ 24.46875 -20.796875 20.265625 -20.09375 \nQ 16.0625 -19.390625 12.109375 -17.921875 \nL 12.109375 -9.1875 \nQ 16.0625 -11.328125 19.921875 -12.34375 \nQ 23.78125 -13.375 27.78125 -13.375 \nQ 36.625 -13.375 41.015625 -8.765625 \nQ 45.40625 -4.15625 45.40625 5.171875 \nL 45.40625 9.625 \nQ 42.625 4.78125 38.28125 2.390625 \nQ 33.9375 0 27.875 0 \nQ 17.828125 0 11.671875 7.65625 \nQ 5.515625 15.328125 5.515625 27.984375 \nQ 5.515625 40.671875 11.671875 48.328125 \nQ 17.828125 56 27.875 56 \nQ 33.9375 56 38.28125 53.609375 \nQ 42.625 51.21875 45.40625 46.390625 \nL 45.40625 54.6875 \nL 54.390625 54.6875 \nz\n\" id=\"DejaVuSans-103\"/>\n    </defs>\n    <g transform=\"translate(176.255628 297.780172)scale(0.1 -0.1)\">\n     <use xlink:href=\"#DejaVuSans-100\"/>\n     <use x=\"63.476562\" xlink:href=\"#DejaVuSans-111\"/>\n     <use x=\"124.658203\" xlink:href=\"#DejaVuSans-103\"/>\n    </g>\n   </g>\n   <g id=\"text_8\">\n    <!-- cat -->\n    <defs>\n     <path d=\"M 48.78125 52.59375 \nL 48.78125 44.1875 \nQ 44.96875 46.296875 41.140625 47.34375 \nQ 37.3125 48.390625 33.40625 48.390625 \nQ 24.65625 48.390625 19.8125 42.84375 \nQ 14.984375 37.3125 14.984375 27.296875 \nQ 14.984375 17.28125 19.8125 11.734375 \nQ 24.65625 6.203125 33.40625 6.203125 \nQ 37.3125 6.203125 41.140625 7.25 \nQ 44.96875 8.296875 48.78125 10.40625 \nL 48.78125 2.09375 \nQ 45.015625 0.34375 40.984375 -0.53125 \nQ 36.96875 -1.421875 32.421875 -1.421875 \nQ 20.0625 -1.421875 12.78125 6.34375 \nQ 5.515625 14.109375 5.515625 27.296875 \nQ 5.515625 40.671875 12.859375 48.328125 \nQ 20.21875 56 33.015625 56 \nQ 37.15625 56 41.109375 55.140625 \nQ 45.0625 54.296875 48.78125 52.59375 \nz\n\" id=\"DejaVuSans-99\"/>\n    </defs>\n    <g transform=\"translate(196.845818 177.163878)scale(0.1 -0.1)\">\n     <use xlink:href=\"#DejaVuSans-99\"/>\n     <use x=\"54.980469\" xlink:href=\"#DejaVuSans-97\"/>\n     <use x=\"116.259766\" xlink:href=\"#DejaVuSans-116\"/>\n    </g>\n   </g>\n   <g id=\"text_9\">\n    <!-- tiger -->\n    <g transform=\"translate(49.709824 329.528643)scale(0.1 -0.1)\">\n     <use xlink:href=\"#DejaVuSans-116\"/>\n     <use x=\"39.208984\" xlink:href=\"#DejaVuSans-105\"/>\n     <use x=\"66.992188\" xlink:href=\"#DejaVuSans-103\"/>\n     <use x=\"130.46875\" xlink:href=\"#DejaVuSans-101\"/>\n     <use x=\"191.992188\" xlink:href=\"#DejaVuSans-114\"/>\n    </g>\n   </g>\n   <g id=\"text_10\">\n    <!-- hamster -->\n    <defs>\n     <path d=\"M 52 44.1875 \nQ 55.375 50.25 60.0625 53.125 \nQ 64.75 56 71.09375 56 \nQ 79.640625 56 84.28125 50.015625 \nQ 88.921875 44.046875 88.921875 33.015625 \nL 88.921875 0 \nL 79.890625 0 \nL 79.890625 32.71875 \nQ 79.890625 40.578125 77.09375 44.375 \nQ 74.3125 48.1875 68.609375 48.1875 \nQ 61.625 48.1875 57.5625 43.546875 \nQ 53.515625 38.921875 53.515625 30.90625 \nL 53.515625 0 \nL 44.484375 0 \nL 44.484375 32.71875 \nQ 44.484375 40.625 41.703125 44.40625 \nQ 38.921875 48.1875 33.109375 48.1875 \nQ 26.21875 48.1875 22.15625 43.53125 \nQ 18.109375 38.875 18.109375 30.90625 \nL 18.109375 0 \nL 9.078125 0 \nL 9.078125 54.6875 \nL 18.109375 54.6875 \nL 18.109375 46.1875 \nQ 21.1875 51.21875 25.484375 53.609375 \nQ 29.78125 56 35.6875 56 \nQ 41.65625 56 45.828125 52.96875 \nQ 50 49.953125 52 44.1875 \nz\n\" id=\"DejaVuSans-109\"/>\n    </defs>\n    <g transform=\"translate(256.86103 122.744797)scale(0.1 -0.1)\">\n     <use xlink:href=\"#DejaVuSans-104\"/>\n     <use x=\"63.378906\" xlink:href=\"#DejaVuSans-97\"/>\n     <use x=\"124.658203\" xlink:href=\"#DejaVuSans-109\"/>\n     <use x=\"222.070312\" xlink:href=\"#DejaVuSans-115\"/>\n     <use x=\"274.169922\" xlink:href=\"#DejaVuSans-116\"/>\n     <use x=\"313.378906\" xlink:href=\"#DejaVuSans-101\"/>\n     <use x=\"374.902344\" xlink:href=\"#DejaVuSans-114\"/>\n    </g>\n   </g>\n   <g id=\"text_11\">\n    <!-- pig -->\n    <g transform=\"translate(239.247499 247.172817)scale(0.1 -0.1)\">\n     <use xlink:href=\"#DejaVuSans-112\"/>\n     <use x=\"63.476562\" xlink:href=\"#DejaVuSans-105\"/>\n     <use x=\"91.259766\" xlink:href=\"#DejaVuSans-103\"/>\n    </g>\n   </g>\n   <g id=\"text_12\">\n    <!-- goat -->\n    <g transform=\"translate(269.669459 192.982967)scale(0.1 -0.1)\">\n     <use xlink:href=\"#DejaVuSans-103\"/>\n     <use x=\"63.476562\" xlink:href=\"#DejaVuSans-111\"/>\n     <use x=\"124.658203\" xlink:href=\"#DejaVuSans-97\"/>\n     <use x=\"185.9375\" xlink:href=\"#DejaVuSans-116\"/>\n    </g>\n   </g>\n   <g id=\"text_13\">\n    <!-- lizard -->\n    <defs>\n     <path d=\"M 5.515625 54.6875 \nL 48.1875 54.6875 \nL 48.1875 46.484375 \nL 14.40625 7.171875 \nL 48.1875 7.171875 \nL 48.1875 0 \nL 4.296875 0 \nL 4.296875 8.203125 \nL 38.09375 47.515625 \nL 5.515625 47.515625 \nz\n\" id=\"DejaVuSans-122\"/>\n    </defs>\n    <g transform=\"translate(129.915914 134.794641)scale(0.1 -0.1)\">\n     <use xlink:href=\"#DejaVuSans-108\"/>\n     <use x=\"27.783203\" xlink:href=\"#DejaVuSans-105\"/>\n     <use x=\"55.566406\" xlink:href=\"#DejaVuSans-122\"/>\n     <use x=\"108.056641\" xlink:href=\"#DejaVuSans-97\"/>\n     <use x=\"169.335938\" xlink:href=\"#DejaVuSans-114\"/>\n     <use x=\"208.699219\" xlink:href=\"#DejaVuSans-100\"/>\n    </g>\n   </g>\n   <g id=\"text_14\">\n    <!-- elephant -->\n    <g transform=\"translate(169.780221 235.639181)scale(0.1 -0.1)\">\n     <use xlink:href=\"#DejaVuSans-101\"/>\n     <use x=\"61.523438\" xlink:href=\"#DejaVuSans-108\"/>\n     <use x=\"89.306641\" xlink:href=\"#DejaVuSans-101\"/>\n     <use x=\"150.830078\" xlink:href=\"#DejaVuSans-112\"/>\n     <use x=\"214.306641\" xlink:href=\"#DejaVuSans-104\"/>\n     <use x=\"277.685547\" xlink:href=\"#DejaVuSans-97\"/>\n     <use x=\"338.964844\" xlink:href=\"#DejaVuSans-110\"/>\n     <use x=\"402.34375\" xlink:href=\"#DejaVuSans-116\"/>\n    </g>\n   </g>\n   <g id=\"text_15\">\n    <!-- giraffe -->\n    <g transform=\"translate(184.18842 89.536738)scale(0.1 -0.1)\">\n     <use xlink:href=\"#DejaVuSans-103\"/>\n     <use x=\"63.476562\" xlink:href=\"#DejaVuSans-105\"/>\n     <use x=\"91.259766\" xlink:href=\"#DejaVuSans-114\"/>\n     <use x=\"132.373047\" xlink:href=\"#DejaVuSans-97\"/>\n     <use x=\"193.652344\" xlink:href=\"#DejaVuSans-102\"/>\n     <use x=\"228.857422\" xlink:href=\"#DejaVuSans-102\"/>\n     <use x=\"264.0625\" xlink:href=\"#DejaVuSans-101\"/>\n    </g>\n   </g>\n   <g id=\"text_16\">\n    <!-- hippo -->\n    <g transform=\"translate(93.543273 66.596815)scale(0.1 -0.1)\">\n     <use xlink:href=\"#DejaVuSans-104\"/>\n     <use x=\"63.378906\" xlink:href=\"#DejaVuSans-105\"/>\n     <use x=\"91.162109\" xlink:href=\"#DejaVuSans-112\"/>\n     <use x=\"154.638672\" xlink:href=\"#DejaVuSans-112\"/>\n     <use x=\"218.115234\" xlink:href=\"#DejaVuSans-111\"/>\n    </g>\n   </g>\n   <g id=\"text_17\">\n    <!-- zebra -->\n    <g transform=\"translate(207.250716 26.967273)scale(0.1 -0.1)\">\n     <use xlink:href=\"#DejaVuSans-122\"/>\n     <use x=\"52.490234\" xlink:href=\"#DejaVuSans-101\"/>\n     <use x=\"114.013672\" xlink:href=\"#DejaVuSans-98\"/>\n     <use x=\"177.490234\" xlink:href=\"#DejaVuSans-114\"/>\n     <use x=\"218.603516\" xlink:href=\"#DejaVuSans-97\"/>\n    </g>\n   </g>\n   <g id=\"text_18\">\n    <!-- stapler -->\n    <g transform=\"translate(440.499973 89.886472)scale(0.1 -0.1)\">\n     <use xlink:href=\"#DejaVuSans-115\"/>\n     <use x=\"52.099609\" xlink:href=\"#DejaVuSans-116\"/>\n     <use x=\"91.308594\" xlink:href=\"#DejaVuSans-97\"/>\n     <use x=\"152.587891\" xlink:href=\"#DejaVuSans-112\"/>\n     <use x=\"216.064453\" xlink:href=\"#DejaVuSans-108\"/>\n     <use x=\"243.847656\" xlink:href=\"#DejaVuSans-101\"/>\n     <use x=\"305.371094\" xlink:href=\"#DejaVuSans-114\"/>\n    </g>\n   </g>\n   <g id=\"text_19\">\n    <!-- screw -->\n    <g transform=\"translate(402.798267 410.343865)scale(0.1 -0.1)\">\n     <use xlink:href=\"#DejaVuSans-115\"/>\n     <use x=\"52.099609\" xlink:href=\"#DejaVuSans-99\"/>\n     <use x=\"107.080078\" xlink:href=\"#DejaVuSans-114\"/>\n     <use x=\"145.943359\" xlink:href=\"#DejaVuSans-101\"/>\n     <use x=\"207.466797\" xlink:href=\"#DejaVuSans-119\"/>\n    </g>\n   </g>\n   <g id=\"text_20\">\n    <!-- nail -->\n    <g transform=\"translate(385.24211 280.869427)scale(0.1 -0.1)\">\n     <use xlink:href=\"#DejaVuSans-110\"/>\n     <use x=\"63.378906\" xlink:href=\"#DejaVuSans-97\"/>\n     <use x=\"124.658203\" xlink:href=\"#DejaVuSans-105\"/>\n     <use x=\"152.441406\" xlink:href=\"#DejaVuSans-108\"/>\n    </g>\n   </g>\n   <g id=\"text_21\">\n    <!-- tv -->\n    <defs>\n     <path d=\"M 2.984375 54.6875 \nL 12.5 54.6875 \nL 29.59375 8.796875 \nL 46.6875 54.6875 \nL 56.203125 54.6875 \nL 35.6875 0 \nL 23.484375 0 \nz\n\" id=\"DejaVuSans-118\"/>\n    </defs>\n    <g transform=\"translate(331.752788 66.424599)scale(0.1 -0.1)\">\n     <use xlink:href=\"#DejaVuSans-116\"/>\n     <use x=\"39.208984\" xlink:href=\"#DejaVuSans-118\"/>\n    </g>\n   </g>\n   <g id=\"text_22\">\n    <!-- dresser -->\n    <g transform=\"translate(514.166112 168.88257)scale(0.1 -0.1)\">\n     <use xlink:href=\"#DejaVuSans-100\"/>\n     <use x=\"63.476562\" xlink:href=\"#DejaVuSans-114\"/>\n     <use x=\"102.339844\" xlink:href=\"#DejaVuSans-101\"/>\n     <use x=\"163.863281\" xlink:href=\"#DejaVuSans-115\"/>\n     <use x=\"215.962891\" xlink:href=\"#DejaVuSans-115\"/>\n     <use x=\"268.0625\" xlink:href=\"#DejaVuSans-101\"/>\n     <use x=\"329.585938\" xlink:href=\"#DejaVuSans-114\"/>\n    </g>\n   </g>\n   <g id=\"text_23\">\n    <!-- keyboard -->\n    <defs>\n     <path d=\"M 9.078125 75.984375 \nL 18.109375 75.984375 \nL 18.109375 31.109375 \nL 44.921875 54.6875 \nL 56.390625 54.6875 \nL 27.390625 29.109375 \nL 57.625 0 \nL 45.90625 0 \nL 18.109375 26.703125 \nL 18.109375 0 \nL 9.078125 0 \nz\n\" id=\"DejaVuSans-107\"/>\n     <path d=\"M 32.171875 -5.078125 \nQ 28.375 -14.84375 24.75 -17.8125 \nQ 21.140625 -20.796875 15.09375 -20.796875 \nL 7.90625 -20.796875 \nL 7.90625 -13.28125 \nL 13.1875 -13.28125 \nQ 16.890625 -13.28125 18.9375 -11.515625 \nQ 21 -9.765625 23.484375 -3.21875 \nL 25.09375 0.875 \nL 2.984375 54.6875 \nL 12.5 54.6875 \nL 29.59375 11.921875 \nL 46.6875 54.6875 \nL 56.203125 54.6875 \nz\n\" id=\"DejaVuSans-121\"/>\n    </defs>\n    <g transform=\"translate(461.35954 226.652641)scale(0.1 -0.1)\">\n     <use xlink:href=\"#DejaVuSans-107\"/>\n     <use x=\"54.285156\" xlink:href=\"#DejaVuSans-101\"/>\n     <use x=\"115.808594\" xlink:href=\"#DejaVuSans-121\"/>\n     <use x=\"174.988281\" xlink:href=\"#DejaVuSans-98\"/>\n     <use x=\"238.464844\" xlink:href=\"#DejaVuSans-111\"/>\n     <use x=\"299.646484\" xlink:href=\"#DejaVuSans-97\"/>\n     <use x=\"360.925781\" xlink:href=\"#DejaVuSans-114\"/>\n     <use x=\"400.289062\" xlink:href=\"#DejaVuSans-100\"/>\n    </g>\n   </g>\n   <g id=\"text_24\">\n    <!-- hairdryer -->\n    <g transform=\"translate(497.89445 44.23318)scale(0.1 -0.1)\">\n     <use xlink:href=\"#DejaVuSans-104\"/>\n     <use x=\"63.378906\" xlink:href=\"#DejaVuSans-97\"/>\n     <use x=\"124.658203\" xlink:href=\"#DejaVuSans-105\"/>\n     <use x=\"152.441406\" xlink:href=\"#DejaVuSans-114\"/>\n     <use x=\"191.804688\" xlink:href=\"#DejaVuSans-100\"/>\n     <use x=\"255.28125\" xlink:href=\"#DejaVuSans-114\"/>\n     <use x=\"296.394531\" xlink:href=\"#DejaVuSans-121\"/>\n     <use x=\"355.574219\" xlink:href=\"#DejaVuSans-101\"/>\n     <use x=\"417.097656\" xlink:href=\"#DejaVuSans-114\"/>\n    </g>\n   </g>\n   <g id=\"text_25\">\n    <!-- couch -->\n    <defs>\n     <path d=\"M 8.5 21.578125 \nL 8.5 54.6875 \nL 17.484375 54.6875 \nL 17.484375 21.921875 \nQ 17.484375 14.15625 20.5 10.265625 \nQ 23.53125 6.390625 29.59375 6.390625 \nQ 36.859375 6.390625 41.078125 11.03125 \nQ 45.3125 15.671875 45.3125 23.6875 \nL 45.3125 54.6875 \nL 54.296875 54.6875 \nL 54.296875 0 \nL 45.3125 0 \nL 45.3125 8.40625 \nQ 42.046875 3.421875 37.71875 1 \nQ 33.40625 -1.421875 27.6875 -1.421875 \nQ 18.265625 -1.421875 13.375 4.4375 \nQ 8.5 10.296875 8.5 21.578125 \nz\nM 31.109375 56 \nz\n\" id=\"DejaVuSans-117\"/>\n    </defs>\n    <g transform=\"translate(347.651979 152.485391)scale(0.1 -0.1)\">\n     <use xlink:href=\"#DejaVuSans-99\"/>\n     <use x=\"54.980469\" xlink:href=\"#DejaVuSans-111\"/>\n     <use x=\"116.162109\" xlink:href=\"#DejaVuSans-117\"/>\n     <use x=\"179.541016\" xlink:href=\"#DejaVuSans-99\"/>\n     <use x=\"234.521484\" xlink:href=\"#DejaVuSans-104\"/>\n    </g>\n   </g>\n   <g id=\"text_26\">\n    <!-- sofa -->\n    <g transform=\"translate(421.209012 164.582046)scale(0.1 -0.1)\">\n     <use xlink:href=\"#DejaVuSans-115\"/>\n     <use x=\"52.099609\" xlink:href=\"#DejaVuSans-111\"/>\n     <use x=\"113.28125\" xlink:href=\"#DejaVuSans-102\"/>\n     <use x=\"148.486328\" xlink:href=\"#DejaVuSans-97\"/>\n    </g>\n   </g>\n   <g id=\"text_27\">\n    <!-- lamp -->\n    <g transform=\"translate(496.768382 363.125513)scale(0.1 -0.1)\">\n     <use xlink:href=\"#DejaVuSans-108\"/>\n     <use x=\"27.783203\" xlink:href=\"#DejaVuSans-97\"/>\n     <use x=\"89.0625\" xlink:href=\"#DejaVuSans-109\"/>\n     <use x=\"186.474609\" xlink:href=\"#DejaVuSans-112\"/>\n    </g>\n   </g>\n   <g id=\"text_28\">\n    <!-- chair -->\n    <g transform=\"translate(366.736071 218.929695)scale(0.1 -0.1)\">\n     <use xlink:href=\"#DejaVuSans-99\"/>\n     <use x=\"54.980469\" xlink:href=\"#DejaVuSans-104\"/>\n     <use x=\"118.359375\" xlink:href=\"#DejaVuSans-97\"/>\n     <use x=\"179.638672\" xlink:href=\"#DejaVuSans-105\"/>\n     <use x=\"207.421875\" xlink:href=\"#DejaVuSans-114\"/>\n    </g>\n   </g>\n   <g id=\"text_29\">\n    <!-- desk -->\n    <g transform=\"translate(539.836364 260.549196)scale(0.1 -0.1)\">\n     <use xlink:href=\"#DejaVuSans-100\"/>\n     <use x=\"63.476562\" xlink:href=\"#DejaVuSans-101\"/>\n     <use x=\"125\" xlink:href=\"#DejaVuSans-115\"/>\n     <use x=\"177.099609\" xlink:href=\"#DejaVuSans-107\"/>\n    </g>\n   </g>\n   <g id=\"text_30\">\n    <!-- pen -->\n    <g transform=\"translate(300.740766 422.312727)scale(0.1 -0.1)\">\n     <use xlink:href=\"#DejaVuSans-112\"/>\n     <use x=\"63.476562\" xlink:href=\"#DejaVuSans-101\"/>\n     <use x=\"125\" xlink:href=\"#DejaVuSans-110\"/>\n    </g>\n   </g>\n   <g id=\"text_31\">\n    <!-- pencil -->\n    <g transform=\"translate(325.219493 357.120298)scale(0.1 -0.1)\">\n     <use xlink:href=\"#DejaVuSans-112\"/>\n     <use x=\"63.476562\" xlink:href=\"#DejaVuSans-101\"/>\n     <use x=\"125\" xlink:href=\"#DejaVuSans-110\"/>\n     <use x=\"188.378906\" xlink:href=\"#DejaVuSans-99\"/>\n     <use x=\"243.359375\" xlink:href=\"#DejaVuSans-105\"/>\n     <use x=\"271.142578\" xlink:href=\"#DejaVuSans-108\"/>\n    </g>\n   </g>\n   <g id=\"text_32\">\n    <!-- table -->\n    <g transform=\"translate(404.23796 339.31192)scale(0.1 -0.1)\">\n     <use xlink:href=\"#DejaVuSans-116\"/>\n     <use x=\"39.208984\" xlink:href=\"#DejaVuSans-97\"/>\n     <use x=\"100.488281\" xlink:href=\"#DejaVuSans-98\"/>\n     <use x=\"163.964844\" xlink:href=\"#DejaVuSans-108\"/>\n     <use x=\"191.748047\" xlink:href=\"#DejaVuSans-101\"/>\n    </g>\n   </g>\n   <g id=\"text_33\">\n    <!-- sock -->\n    <g transform=\"translate(225.291563 382.958644)scale(0.1 -0.1)\">\n     <use xlink:href=\"#DejaVuSans-115\"/>\n     <use x=\"52.099609\" xlink:href=\"#DejaVuSans-111\"/>\n     <use x=\"113.28125\" xlink:href=\"#DejaVuSans-99\"/>\n     <use x=\"168.261719\" xlink:href=\"#DejaVuSans-107\"/>\n    </g>\n   </g>\n   <g id=\"text_34\">\n    <!-- floor -->\n    <g transform=\"translate(461.97516 294.593657)scale(0.1 -0.1)\">\n     <use xlink:href=\"#DejaVuSans-102\"/>\n     <use x=\"35.205078\" xlink:href=\"#DejaVuSans-108\"/>\n     <use x=\"62.988281\" xlink:href=\"#DejaVuSans-111\"/>\n     <use x=\"124.169922\" xlink:href=\"#DejaVuSans-111\"/>\n     <use x=\"185.351562\" xlink:href=\"#DejaVuSans-114\"/>\n    </g>\n   </g>\n   <g id=\"text_35\">\n    <!-- wall -->\n    <g transform=\"translate(318.049781 283.029065)scale(0.1 -0.1)\">\n     <use xlink:href=\"#DejaVuSans-119\"/>\n     <use x=\"81.787109\" xlink:href=\"#DejaVuSans-97\"/>\n     <use x=\"143.066406\" xlink:href=\"#DejaVuSans-108\"/>\n     <use x=\"170.849609\" xlink:href=\"#DejaVuSans-108\"/>\n    </g>\n   </g>\n  </g>\n </g>\n <defs>\n  <clipPath id=\"pc7d650b678\">\n   <rect height=\"434.88\" width=\"558\" x=\"7.2\" y=\"7.2\"/>\n  </clipPath>\n </defs>\n</svg>\n"
          },
          "metadata": {
            "tags": [],
            "needs_background": "light"
          }
        }
      ]
    },
    {
      "cell_type": "code",
      "metadata": {
        "colab": {
          "base_uri": "https://localhost:8080/",
          "height": 402
        },
        "id": "xoGOLheNF8JS",
        "outputId": "96df5682-a8f2-4173-87c2-118e4c5350b8"
      },
      "source": [
        "tbc=TensorBoardColab()\n",
        "\n",
        "vectors = glove_vectors.query(ANIMALS + HOUSEHOLD_OBJECTS)\n",
        "with SummaryWriter(log_dir=\"./\") as writer:\n",
        "    writer.add_embedding(mat=vectors, metadata=ANIMALS+HOUSEHOLD_OBJECTS)"
      ],
      "execution_count": 17,
      "outputs": [
        {
          "output_type": "stream",
          "text": [
            "Wait for 8 seconds...\n",
            "TensorBoard link:\n",
            "http://fb050a82f459.ngrok.io\n"
          ],
          "name": "stdout"
        },
        {
          "output_type": "error",
          "ename": "AttributeError",
          "evalue": "ignored",
          "traceback": [
            "\u001b[0;31m---------------------------------------------------------------------------\u001b[0m",
            "\u001b[0;31mAttributeError\u001b[0m                            Traceback (most recent call last)",
            "\u001b[0;32m<ipython-input-17-e4343b7771b9>\u001b[0m in \u001b[0;36m<module>\u001b[0;34m()\u001b[0m\n\u001b[1;32m      2\u001b[0m \u001b[0;34m\u001b[0m\u001b[0m\n\u001b[1;32m      3\u001b[0m \u001b[0mvectors\u001b[0m \u001b[0;34m=\u001b[0m \u001b[0mglove_vectors\u001b[0m\u001b[0;34m.\u001b[0m\u001b[0mquery\u001b[0m\u001b[0;34m(\u001b[0m\u001b[0mANIMALS\u001b[0m \u001b[0;34m+\u001b[0m \u001b[0mHOUSEHOLD_OBJECTS\u001b[0m\u001b[0;34m)\u001b[0m\u001b[0;34m\u001b[0m\u001b[0;34m\u001b[0m\u001b[0m\n\u001b[0;32m----> 4\u001b[0;31m \u001b[0;32mwith\u001b[0m \u001b[0mSummaryWriter\u001b[0m\u001b[0;34m(\u001b[0m\u001b[0mlog_dir\u001b[0m\u001b[0;34m=\u001b[0m\u001b[0;34m\"./\"\u001b[0m\u001b[0;34m)\u001b[0m \u001b[0;32mas\u001b[0m \u001b[0mwriter\u001b[0m\u001b[0;34m:\u001b[0m\u001b[0;34m\u001b[0m\u001b[0;34m\u001b[0m\u001b[0m\n\u001b[0m\u001b[1;32m      5\u001b[0m     \u001b[0mwriter\u001b[0m\u001b[0;34m.\u001b[0m\u001b[0madd_embedding\u001b[0m\u001b[0;34m(\u001b[0m\u001b[0mmat\u001b[0m\u001b[0;34m=\u001b[0m\u001b[0mvectors\u001b[0m\u001b[0;34m,\u001b[0m \u001b[0mmetadata\u001b[0m\u001b[0;34m=\u001b[0m\u001b[0mANIMALS\u001b[0m\u001b[0;34m+\u001b[0m\u001b[0mHOUSEHOLD_OBJECTS\u001b[0m\u001b[0;34m)\u001b[0m\u001b[0;34m\u001b[0m\u001b[0;34m\u001b[0m\u001b[0m\n",
            "\u001b[0;32m/usr/local/lib/python3.7/dist-packages/torch/utils/tensorboard/writer.py\u001b[0m in \u001b[0;36m__init__\u001b[0;34m(self, log_dir, comment, purge_step, max_queue, flush_secs, filename_suffix)\u001b[0m\n\u001b[1;32m    202\u001b[0m \u001b[0;34m\u001b[0m\u001b[0m\n\u001b[1;32m    203\u001b[0m         \"\"\"\n\u001b[0;32m--> 204\u001b[0;31m         \u001b[0mtorch\u001b[0m\u001b[0;34m.\u001b[0m\u001b[0m_C\u001b[0m\u001b[0;34m.\u001b[0m\u001b[0m_log_api_usage_once\u001b[0m\u001b[0;34m(\u001b[0m\u001b[0;34m\"tensorboard.create.summarywriter\"\u001b[0m\u001b[0;34m)\u001b[0m\u001b[0;34m\u001b[0m\u001b[0;34m\u001b[0m\u001b[0m\n\u001b[0m\u001b[1;32m    205\u001b[0m         \u001b[0;32mif\u001b[0m \u001b[0;32mnot\u001b[0m \u001b[0mlog_dir\u001b[0m\u001b[0;34m:\u001b[0m\u001b[0;34m\u001b[0m\u001b[0;34m\u001b[0m\u001b[0m\n\u001b[1;32m    206\u001b[0m             \u001b[0;32mimport\u001b[0m \u001b[0msocket\u001b[0m\u001b[0;34m\u001b[0m\u001b[0;34m\u001b[0m\u001b[0m\n",
            "\u001b[0;31mAttributeError\u001b[0m: module 'torch._C' has no attribute '_log_api_usage_once'"
          ]
        }
      ]
    },
    {
      "cell_type": "code",
      "metadata": {
        "colab": {
          "base_uri": "https://localhost:8080/"
        },
        "id": "lOKPPmhnHxFT",
        "outputId": "71a57692-2189-4c1d-def3-4696025e7390"
      },
      "source": [
        "tokenizer = BertTokenizer.from_pretrained('bert-base-uncased')\n",
        "model = BertModel.from_pretrained('bert-base-uncased')\n",
        "model.eval()\n",
        "\n",
        "def to_bert_embeddings(text, return_tokens=False):\n",
        "    if isinstance(text, list):\n",
        "        # Already tokenized\n",
        "        tokens = tokenizer.tokenize(' '.join(text))\n",
        "    else:\n",
        "        # Need to tokenize\n",
        "        tokens = tokenizer.tokenize(text)\n",
        "        \n",
        "    tokens_with_tags = ['[CLS]'] + tokens + ['[SEP]']\n",
        "    indices = tokenizer.convert_tokens_to_ids(tokens_with_tags)\n",
        "\n",
        "    out = model(torch.LongTensor(indices).unsqueeze(0))\n",
        "    \n",
        "    # Concatenate the last four layers and use that as the embedding\n",
        "    # source: https://jalammar.github.io/illustrated-bert/\n",
        "    embeddings_matrix = torch.stack(out[0]).squeeze(1)[-4:]  # use last 4 layers\n",
        "    embeddings = []\n",
        "    for j in range(embeddings_matrix.shape[1]):\n",
        "        embeddings.append(embeddings_matrix[:, j, :].flatten().detach().numpy())\n",
        "        \n",
        "    # Ignore [CLS] and [SEP]\n",
        "    embeddings = embeddings[1:-1]\n",
        "        \n",
        "    if return_tokens:\n",
        "        assert len(embeddings) == len(tokens)\n",
        "        return embeddings, tokens\n",
        "    \n",
        "    return embeddings"
      ],
      "execution_count": 18,
      "outputs": [
        {
          "output_type": "stream",
          "text": [
            "100%|██████████| 231508/231508 [00:00<00:00, 321554.53B/s]\n",
            "100%|██████████| 407873900/407873900 [00:34<00:00, 11973924.95B/s]\n"
          ],
          "name": "stderr"
        }
      ]
    },
    {
      "cell_type": "code",
      "metadata": {
        "id": "wzeVrSEhH1fR"
      },
      "source": [
        "words_sentences = [\n",
        "    ('mouse', 'I saw a mouse run off with some cheese.'),\n",
        "    ('mouse', 'I bought a new computer mouse yesterday.'),\n",
        "    ('cat', 'My cat jumped on the bed.'),\n",
        "    ('keyboard', 'My computer keyboard broke when I spilled juice on it.'),\n",
        "    ('dessert', 'I had a banana fudge sunday for dessert.'),\n",
        "    ('dinner', 'What did you eat for dinner?'),\n",
        "    ('lunch', 'Yesterday I had a bacon lettuce tomato sandwich for lunch. It was tasty!'),\n",
        "    ('computer', 'My computer broke after the motherdrive was overloaded.'),\n",
        "    ('program', 'I like to program in Java and Python.'),\n",
        "    ('pasta', 'I like to put tomatoes and cheese in my pasta.'),\n",
        "]\n",
        "words = [words_sentence[0] for words_sentence in words_sentences]\n",
        "sentences = [words_sentence[1] for words_sentence in words_sentences]"
      ],
      "execution_count": 19,
      "outputs": []
    },
    {
      "cell_type": "code",
      "metadata": {
        "colab": {
          "base_uri": "https://localhost:8080/",
          "height": 409
        },
        "id": "w-F3dgioIH0R",
        "outputId": "21769e92-e87d-492c-a7ec-6d0c0f97bd41"
      },
      "source": [
        "! pip install numpy \n",
        "embeddings_lst, tokens_lst = zip(*[to_bert_embeddings(sentence, return_tokens=True) for sentence in sentences])\n",
        "words, tokens_lst, embeddings_lst = zip(*[(word, tokens, embeddings) for word, tokens, embeddings in zip(words, tokens_lst, embeddings_lst) if word in tokens])\n",
        "\n",
        "# Convert tuples to lists\n",
        "words, tokens_lst, tokens_lst = map(list, [words, tokens_lst, tokens_lst])"
      ],
      "execution_count": 22,
      "outputs": [
        {
          "output_type": "stream",
          "text": [
            "Requirement already satisfied: numpy in /usr/local/lib/python3.7/dist-packages (1.20.1)\n"
          ],
          "name": "stdout"
        },
        {
          "output_type": "error",
          "ename": "RuntimeError",
          "evalue": "ignored",
          "traceback": [
            "\u001b[0;31m---------------------------------------------------------------------------\u001b[0m",
            "\u001b[0;31mRuntimeError\u001b[0m                              Traceback (most recent call last)",
            "\u001b[0;32m<ipython-input-22-70ee692ee380>\u001b[0m in \u001b[0;36m<module>\u001b[0;34m()\u001b[0m\n\u001b[1;32m      1\u001b[0m \u001b[0mget_ipython\u001b[0m\u001b[0;34m(\u001b[0m\u001b[0;34m)\u001b[0m\u001b[0;34m.\u001b[0m\u001b[0msystem\u001b[0m\u001b[0;34m(\u001b[0m\u001b[0;34m' pip install numpy '\u001b[0m\u001b[0;34m)\u001b[0m\u001b[0;34m\u001b[0m\u001b[0;34m\u001b[0m\u001b[0m\n\u001b[0;32m----> 2\u001b[0;31m \u001b[0membeddings_lst\u001b[0m\u001b[0;34m,\u001b[0m \u001b[0mtokens_lst\u001b[0m \u001b[0;34m=\u001b[0m \u001b[0mzip\u001b[0m\u001b[0;34m(\u001b[0m\u001b[0;34m*\u001b[0m\u001b[0;34m[\u001b[0m\u001b[0mto_bert_embeddings\u001b[0m\u001b[0;34m(\u001b[0m\u001b[0msentence\u001b[0m\u001b[0;34m,\u001b[0m \u001b[0mreturn_tokens\u001b[0m\u001b[0;34m=\u001b[0m\u001b[0;32mTrue\u001b[0m\u001b[0;34m)\u001b[0m \u001b[0;32mfor\u001b[0m \u001b[0msentence\u001b[0m \u001b[0;32min\u001b[0m \u001b[0msentences\u001b[0m\u001b[0;34m]\u001b[0m\u001b[0;34m)\u001b[0m\u001b[0;34m\u001b[0m\u001b[0;34m\u001b[0m\u001b[0m\n\u001b[0m\u001b[1;32m      3\u001b[0m \u001b[0mwords\u001b[0m\u001b[0;34m,\u001b[0m \u001b[0mtokens_lst\u001b[0m\u001b[0;34m,\u001b[0m \u001b[0membeddings_lst\u001b[0m \u001b[0;34m=\u001b[0m \u001b[0mzip\u001b[0m\u001b[0;34m(\u001b[0m\u001b[0;34m*\u001b[0m\u001b[0;34m[\u001b[0m\u001b[0;34m(\u001b[0m\u001b[0mword\u001b[0m\u001b[0;34m,\u001b[0m \u001b[0mtokens\u001b[0m\u001b[0;34m,\u001b[0m \u001b[0membeddings\u001b[0m\u001b[0;34m)\u001b[0m \u001b[0;32mfor\u001b[0m \u001b[0mword\u001b[0m\u001b[0;34m,\u001b[0m \u001b[0mtokens\u001b[0m\u001b[0;34m,\u001b[0m \u001b[0membeddings\u001b[0m \u001b[0;32min\u001b[0m \u001b[0mzip\u001b[0m\u001b[0;34m(\u001b[0m\u001b[0mwords\u001b[0m\u001b[0;34m,\u001b[0m \u001b[0mtokens_lst\u001b[0m\u001b[0;34m,\u001b[0m \u001b[0membeddings_lst\u001b[0m\u001b[0;34m)\u001b[0m \u001b[0;32mif\u001b[0m \u001b[0mword\u001b[0m \u001b[0;32min\u001b[0m \u001b[0mtokens\u001b[0m\u001b[0;34m]\u001b[0m\u001b[0;34m)\u001b[0m\u001b[0;34m\u001b[0m\u001b[0;34m\u001b[0m\u001b[0m\n\u001b[1;32m      4\u001b[0m \u001b[0;34m\u001b[0m\u001b[0m\n\u001b[1;32m      5\u001b[0m \u001b[0;31m# Convert tuples to lists\u001b[0m\u001b[0;34m\u001b[0m\u001b[0;34m\u001b[0m\u001b[0;34m\u001b[0m\u001b[0m\n",
            "\u001b[0;32m<ipython-input-22-70ee692ee380>\u001b[0m in \u001b[0;36m<listcomp>\u001b[0;34m(.0)\u001b[0m\n\u001b[1;32m      1\u001b[0m \u001b[0mget_ipython\u001b[0m\u001b[0;34m(\u001b[0m\u001b[0;34m)\u001b[0m\u001b[0;34m.\u001b[0m\u001b[0msystem\u001b[0m\u001b[0;34m(\u001b[0m\u001b[0;34m' pip install numpy '\u001b[0m\u001b[0;34m)\u001b[0m\u001b[0;34m\u001b[0m\u001b[0;34m\u001b[0m\u001b[0m\n\u001b[0;32m----> 2\u001b[0;31m \u001b[0membeddings_lst\u001b[0m\u001b[0;34m,\u001b[0m \u001b[0mtokens_lst\u001b[0m \u001b[0;34m=\u001b[0m \u001b[0mzip\u001b[0m\u001b[0;34m(\u001b[0m\u001b[0;34m*\u001b[0m\u001b[0;34m[\u001b[0m\u001b[0mto_bert_embeddings\u001b[0m\u001b[0;34m(\u001b[0m\u001b[0msentence\u001b[0m\u001b[0;34m,\u001b[0m \u001b[0mreturn_tokens\u001b[0m\u001b[0;34m=\u001b[0m\u001b[0;32mTrue\u001b[0m\u001b[0;34m)\u001b[0m \u001b[0;32mfor\u001b[0m \u001b[0msentence\u001b[0m \u001b[0;32min\u001b[0m \u001b[0msentences\u001b[0m\u001b[0;34m]\u001b[0m\u001b[0;34m)\u001b[0m\u001b[0;34m\u001b[0m\u001b[0;34m\u001b[0m\u001b[0m\n\u001b[0m\u001b[1;32m      3\u001b[0m \u001b[0mwords\u001b[0m\u001b[0;34m,\u001b[0m \u001b[0mtokens_lst\u001b[0m\u001b[0;34m,\u001b[0m \u001b[0membeddings_lst\u001b[0m \u001b[0;34m=\u001b[0m \u001b[0mzip\u001b[0m\u001b[0;34m(\u001b[0m\u001b[0;34m*\u001b[0m\u001b[0;34m[\u001b[0m\u001b[0;34m(\u001b[0m\u001b[0mword\u001b[0m\u001b[0;34m,\u001b[0m \u001b[0mtokens\u001b[0m\u001b[0;34m,\u001b[0m \u001b[0membeddings\u001b[0m\u001b[0;34m)\u001b[0m \u001b[0;32mfor\u001b[0m \u001b[0mword\u001b[0m\u001b[0;34m,\u001b[0m \u001b[0mtokens\u001b[0m\u001b[0;34m,\u001b[0m \u001b[0membeddings\u001b[0m \u001b[0;32min\u001b[0m \u001b[0mzip\u001b[0m\u001b[0;34m(\u001b[0m\u001b[0mwords\u001b[0m\u001b[0;34m,\u001b[0m \u001b[0mtokens_lst\u001b[0m\u001b[0;34m,\u001b[0m \u001b[0membeddings_lst\u001b[0m\u001b[0;34m)\u001b[0m \u001b[0;32mif\u001b[0m \u001b[0mword\u001b[0m \u001b[0;32min\u001b[0m \u001b[0mtokens\u001b[0m\u001b[0;34m]\u001b[0m\u001b[0;34m)\u001b[0m\u001b[0;34m\u001b[0m\u001b[0;34m\u001b[0m\u001b[0m\n\u001b[1;32m      4\u001b[0m \u001b[0;34m\u001b[0m\u001b[0m\n\u001b[1;32m      5\u001b[0m \u001b[0;31m# Convert tuples to lists\u001b[0m\u001b[0;34m\u001b[0m\u001b[0;34m\u001b[0m\u001b[0;34m\u001b[0m\u001b[0m\n",
            "\u001b[0;32m<ipython-input-18-452221c44c87>\u001b[0m in \u001b[0;36mto_bert_embeddings\u001b[0;34m(text, return_tokens)\u001b[0m\n\u001b[1;32m     21\u001b[0m     \u001b[0membeddings\u001b[0m \u001b[0;34m=\u001b[0m \u001b[0;34m[\u001b[0m\u001b[0;34m]\u001b[0m\u001b[0;34m\u001b[0m\u001b[0;34m\u001b[0m\u001b[0m\n\u001b[1;32m     22\u001b[0m     \u001b[0;32mfor\u001b[0m \u001b[0mj\u001b[0m \u001b[0;32min\u001b[0m \u001b[0mrange\u001b[0m\u001b[0;34m(\u001b[0m\u001b[0membeddings_matrix\u001b[0m\u001b[0;34m.\u001b[0m\u001b[0mshape\u001b[0m\u001b[0;34m[\u001b[0m\u001b[0;36m1\u001b[0m\u001b[0;34m]\u001b[0m\u001b[0;34m)\u001b[0m\u001b[0;34m:\u001b[0m\u001b[0;34m\u001b[0m\u001b[0;34m\u001b[0m\u001b[0m\n\u001b[0;32m---> 23\u001b[0;31m         \u001b[0membeddings\u001b[0m\u001b[0;34m.\u001b[0m\u001b[0mappend\u001b[0m\u001b[0;34m(\u001b[0m\u001b[0membeddings_matrix\u001b[0m\u001b[0;34m[\u001b[0m\u001b[0;34m:\u001b[0m\u001b[0;34m,\u001b[0m \u001b[0mj\u001b[0m\u001b[0;34m,\u001b[0m \u001b[0;34m:\u001b[0m\u001b[0;34m]\u001b[0m\u001b[0;34m.\u001b[0m\u001b[0mflatten\u001b[0m\u001b[0;34m(\u001b[0m\u001b[0;34m)\u001b[0m\u001b[0;34m.\u001b[0m\u001b[0mdetach\u001b[0m\u001b[0;34m(\u001b[0m\u001b[0;34m)\u001b[0m\u001b[0;34m.\u001b[0m\u001b[0mnumpy\u001b[0m\u001b[0;34m(\u001b[0m\u001b[0;34m)\u001b[0m\u001b[0;34m)\u001b[0m\u001b[0;34m\u001b[0m\u001b[0;34m\u001b[0m\u001b[0m\n\u001b[0m\u001b[1;32m     24\u001b[0m \u001b[0;34m\u001b[0m\u001b[0m\n\u001b[1;32m     25\u001b[0m     \u001b[0;31m# Ignore [CLS] and [SEP]\u001b[0m\u001b[0;34m\u001b[0m\u001b[0;34m\u001b[0m\u001b[0;34m\u001b[0m\u001b[0m\n",
            "\u001b[0;31mRuntimeError\u001b[0m: PyTorch was compiled without NumPy support"
          ]
        }
      ]
    },
    {
      "cell_type": "code",
      "metadata": {
        "colab": {
          "base_uri": "https://localhost:8080/",
          "height": 181
        },
        "id": "-zP4GBvcILUy",
        "outputId": "15a331e7-ec71-4d82-85c8-17c9c58fce53"
      },
      "source": [
        "target_indices = [tokens.index(word) for word, tokens in zip(words, tokens_lst)]\n",
        "target_embeddings = [embeddings[idx] for idx, embeddings in zip(target_indices, embeddings_lst)]\n"
      ],
      "execution_count": 21,
      "outputs": [
        {
          "output_type": "error",
          "ename": "NameError",
          "evalue": "ignored",
          "traceback": [
            "\u001b[0;31m---------------------------------------------------------------------------\u001b[0m",
            "\u001b[0;31mNameError\u001b[0m                                 Traceback (most recent call last)",
            "\u001b[0;32m<ipython-input-21-47fa621da9e8>\u001b[0m in \u001b[0;36m<module>\u001b[0;34m()\u001b[0m\n\u001b[0;32m----> 1\u001b[0;31m \u001b[0mtarget_indices\u001b[0m \u001b[0;34m=\u001b[0m \u001b[0;34m[\u001b[0m\u001b[0mtokens\u001b[0m\u001b[0;34m.\u001b[0m\u001b[0mindex\u001b[0m\u001b[0;34m(\u001b[0m\u001b[0mword\u001b[0m\u001b[0;34m)\u001b[0m \u001b[0;32mfor\u001b[0m \u001b[0mword\u001b[0m\u001b[0;34m,\u001b[0m \u001b[0mtokens\u001b[0m \u001b[0;32min\u001b[0m \u001b[0mzip\u001b[0m\u001b[0;34m(\u001b[0m\u001b[0mwords\u001b[0m\u001b[0;34m,\u001b[0m \u001b[0mtokens_lst\u001b[0m\u001b[0;34m)\u001b[0m\u001b[0;34m]\u001b[0m\u001b[0;34m\u001b[0m\u001b[0;34m\u001b[0m\u001b[0m\n\u001b[0m\u001b[1;32m      2\u001b[0m \u001b[0mtarget_embeddings\u001b[0m \u001b[0;34m=\u001b[0m \u001b[0;34m[\u001b[0m\u001b[0membeddings\u001b[0m\u001b[0;34m[\u001b[0m\u001b[0midx\u001b[0m\u001b[0;34m]\u001b[0m \u001b[0;32mfor\u001b[0m \u001b[0midx\u001b[0m\u001b[0;34m,\u001b[0m \u001b[0membeddings\u001b[0m \u001b[0;32min\u001b[0m \u001b[0mzip\u001b[0m\u001b[0;34m(\u001b[0m\u001b[0mtarget_indices\u001b[0m\u001b[0;34m,\u001b[0m \u001b[0membeddings_lst\u001b[0m\u001b[0;34m)\u001b[0m\u001b[0;34m]\u001b[0m\u001b[0;34m\u001b[0m\u001b[0;34m\u001b[0m\u001b[0m\n",
            "\u001b[0;31mNameError\u001b[0m: name 'tokens_lst' is not defined"
          ]
        }
      ]
    },
    {
      "cell_type": "code",
      "metadata": {
        "id": "REqIcEvrINY-"
      },
      "source": [
        "tsne_words_embedded = TSNE(n_components=2).fit_transform(target_embeddings)\n",
        "x, y = zip(*tsne_words_embedded)\n",
        "\n",
        "fig, ax = plt.subplots(figsize=(5, 10))\n",
        "\n",
        "for word, tokens, x_i, y_i in zip(words, tokens_lst, x, y):\n",
        "    ax.scatter(x_i, y_i, c=RED)\n",
        "    ax.annotate(' '.join([f'$\\\\bf{x}$' if x == word else x for x in tokens]), (x_i, y_i))\n",
        "\n",
        "ax.axis('off')\n",
        "plt.show()"
      ],
      "execution_count": null,
      "outputs": []
    }
  ]
}