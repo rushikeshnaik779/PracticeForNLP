{
 "cells": [
  {
   "cell_type": "code",
   "execution_count": 1,
   "metadata": {
    "ExecuteTime": {
     "end_time": "2020-11-16T08:13:26.253105Z",
     "start_time": "2020-11-16T08:13:25.821176Z"
    }
   },
   "outputs": [],
   "source": [
    "from bs4 import BeautifulSoup"
   ]
  },
  {
   "cell_type": "code",
   "execution_count": 2,
   "metadata": {
    "ExecuteTime": {
     "end_time": "2020-11-16T08:13:26.270210Z",
     "start_time": "2020-11-16T08:13:26.257553Z"
    }
   },
   "outputs": [],
   "source": [
    "from urllib.request import urlopen"
   ]
  },
  {
   "cell_type": "code",
   "execution_count": 3,
   "metadata": {
    "ExecuteTime": {
     "end_time": "2020-11-16T08:14:43.175416Z",
     "start_time": "2020-11-16T08:14:39.208143Z"
    }
   },
   "outputs": [],
   "source": [
    "myurl = \"https://stackoverflow.com/questions/415511/how-to-get-the-current-time-in-python\"\n",
    "html = urlopen(myurl).read()"
   ]
  },
  {
   "cell_type": "code",
   "execution_count": 5,
   "metadata": {
    "ExecuteTime": {
     "end_time": "2020-11-16T08:16:01.118663Z",
     "start_time": "2020-11-16T08:16:00.787316Z"
    }
   },
   "outputs": [],
   "source": [
    "soupified = BeautifulSoup(html, \"html.parser\")\n",
    "question = soupified.find(\"div\", {\"class\": \"question\"})"
   ]
  },
  {
   "cell_type": "code",
   "execution_count": 12,
   "metadata": {
    "ExecuteTime": {
     "end_time": "2020-11-16T08:22:51.595941Z",
     "start_time": "2020-11-16T08:22:51.588275Z"
    }
   },
   "outputs": [
    {
     "name": "stdout",
     "output_type": "stream",
     "text": [
      "What is the module/method used to get the current time?\n"
     ]
    }
   ],
   "source": [
    "questiontext = question.find(\"p\")\n",
    "print(questiontext.get_text().strip())"
   ]
  },
  {
   "cell_type": "code",
   "execution_count": 13,
   "metadata": {
    "ExecuteTime": {
     "end_time": "2020-11-16T08:23:31.577051Z",
     "start_time": "2020-11-16T08:23:31.566566Z"
    }
   },
   "outputs": [],
   "source": [
    "answer = soupified.find(\"div\", {\"class\":\"answer\"})"
   ]
  },
  {
   "cell_type": "code",
   "execution_count": 21,
   "metadata": {
    "ExecuteTime": {
     "end_time": "2020-11-16T08:25:32.991691Z",
     "start_time": "2020-11-16T08:25:32.985398Z"
    }
   },
   "outputs": [],
   "source": [
    "answertext = answer.find(\"div\", {\"class\": \"answercell\"})"
   ]
  },
  {
   "cell_type": "code",
   "execution_count": 24,
   "metadata": {
    "ExecuteTime": {
     "end_time": "2020-11-16T08:25:52.411177Z",
     "start_time": "2020-11-16T08:25:52.403166Z"
    }
   },
   "outputs": [
    {
     "name": "stdout",
     "output_type": "stream",
     "text": [
      "Use:\n",
      ">>> import datetime\n",
      ">>> datetime.datetime.now()\n",
      "datetime.datetime(2009, 1, 6, 15, 8, 24, 78915)\n",
      "\n",
      ">>> print(datetime.datetime.now())\n",
      "2009-01-06 15:08:24.789150\n",
      "\n",
      "And just the time:\n",
      ">>> datetime.datetime.now().time()\n",
      "datetime.time(15, 8, 24, 78915)\n",
      "\n",
      ">>> print(datetime.datetime.now().time())\n",
      "15:08:24.789150\n",
      "\n",
      "See the documentation for more information.\n",
      "To save typing, you can import the datetime object from the datetime module:\n",
      ">>> from datetime import datetime\n",
      "\n",
      "Then remove the leading datetime. from all of the above.\n",
      "\n",
      "\n",
      "\n",
      "\n",
      "\n",
      "\n",
      "share\n",
      "|\n",
      "improve this answer\n",
      "|\n",
      "\r\n",
      "        follow\r\n",
      "    \n",
      "|\n",
      "\n",
      "\n",
      "\n",
      "\n",
      "\n",
      "edited Oct 29 '19 at 17:00\n",
      "\n",
      "\n",
      "\n",
      "\n",
      "\n",
      "RTHarston\n",
      "\n",
      "36922 silver badges1212 bronze badges\n",
      "\n",
      "\n",
      " \n",
      "\n",
      "\n",
      "\r\n",
      "        answered Jan 6 '09 at 4:57\n",
      "\n",
      "\n",
      "\n",
      "\n",
      "\n",
      "Harley HolcombeHarley Holcombe\n",
      "\n",
      "147k1515 gold badges6666 silver badges6262 bronze badges\n"
     ]
    }
   ],
   "source": [
    "print(answertext.get_text().strip())"
   ]
  },
  {
   "cell_type": "code",
   "execution_count": null,
   "metadata": {},
   "outputs": [],
   "source": []
  }
 ],
 "metadata": {
  "kernelspec": {
   "display_name": "Python 3",
   "language": "python",
   "name": "python3"
  },
  "language_info": {
   "codemirror_mode": {
    "name": "ipython",
    "version": 3
   },
   "file_extension": ".py",
   "mimetype": "text/x-python",
   "name": "python",
   "nbconvert_exporter": "python",
   "pygments_lexer": "ipython3",
   "version": "3.7.7"
  }
 },
 "nbformat": 4,
 "nbformat_minor": 2
}
