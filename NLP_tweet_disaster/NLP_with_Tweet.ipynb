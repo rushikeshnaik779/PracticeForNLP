{
  "nbformat": 4,
  "nbformat_minor": 0,
  "metadata": {
    "colab": {
      "name": "NLP with Tweet.ipynb",
      "provenance": [],
      "collapsed_sections": []
    },
    "kernelspec": {
      "name": "python3",
      "display_name": "Python 3"
    }
  },
  "cells": [
    {
      "cell_type": "code",
      "metadata": {
        "colab": {
          "base_uri": "https://localhost:8080/"
        },
        "id": "m9axT7uUlger",
        "outputId": "32b501d1-dac1-442d-9ac6-9d80d5918839"
      },
      "source": [
        "import pandas as pd \n",
        "import matplotlib.pyplot as plt \n",
        "import seaborn as sns\n",
        "from nltk.corpus import stopwords\n",
        "from nltk.util import ngrams \n",
        "from sklearn.feature_extraction.text import CountVectorizer\n",
        "from collections import defaultdict\n",
        "from collections import Counter \n",
        "plt.style.use('ggplot')\n",
        "import nltk\n",
        "nltk.download('stopwords')\n",
        "stop = set(stopwords.words('english'))\n",
        "import re \n",
        "from nltk.tokenize import word_tokenize\n",
        "import gensim \n",
        "import string \n",
        "from keras.preprocessing.text import Tokenizer\n",
        "from keras.preprocessing.sequence import pad_sequences\n",
        "from tqdm import tqdm\n",
        "from keras.models import Sequential\n",
        "from keras.layers import Embedding, LSTM, Dense, SpatialDropout1D\n",
        "from keras.initializers import Constant \n",
        "from sklearn.model_selection import train_test_split\n",
        "from keras.optimizers import Adam"
      ],
      "execution_count": 2,
      "outputs": [
        {
          "output_type": "stream",
          "text": [
            "[nltk_data] Downloading package stopwords to /root/nltk_data...\n",
            "[nltk_data]   Unzipping corpora/stopwords.zip.\n"
          ],
          "name": "stdout"
        }
      ]
    },
    {
      "cell_type": "code",
      "metadata": {
        "colab": {
          "base_uri": "https://localhost:8080/"
        },
        "id": "6HhLmDNPo1iP",
        "outputId": "09b7e8d2-7f6f-4c7d-d5f0-c0fd94ab04ad"
      },
      "source": [
        "!wget http://nlp.stanford.edu/data/glove.6B.zip\n",
        "!unzip glove*.zip"
      ],
      "execution_count": 3,
      "outputs": [
        {
          "output_type": "stream",
          "text": [
            "--2021-02-10 15:53:23--  http://nlp.stanford.edu/data/glove.6B.zip\n",
            "Resolving nlp.stanford.edu (nlp.stanford.edu)... 171.64.67.140\n",
            "Connecting to nlp.stanford.edu (nlp.stanford.edu)|171.64.67.140|:80... connected.\n",
            "HTTP request sent, awaiting response... 302 Found\n",
            "Location: https://nlp.stanford.edu/data/glove.6B.zip [following]\n",
            "--2021-02-10 15:53:23--  https://nlp.stanford.edu/data/glove.6B.zip\n",
            "Connecting to nlp.stanford.edu (nlp.stanford.edu)|171.64.67.140|:443... connected.\n",
            "HTTP request sent, awaiting response... 301 Moved Permanently\n",
            "Location: http://downloads.cs.stanford.edu/nlp/data/glove.6B.zip [following]\n",
            "--2021-02-10 15:53:23--  http://downloads.cs.stanford.edu/nlp/data/glove.6B.zip\n",
            "Resolving downloads.cs.stanford.edu (downloads.cs.stanford.edu)... 171.64.64.22\n",
            "Connecting to downloads.cs.stanford.edu (downloads.cs.stanford.edu)|171.64.64.22|:80... connected.\n",
            "HTTP request sent, awaiting response... 200 OK\n",
            "Length: 862182613 (822M) [application/zip]\n",
            "Saving to: ‘glove.6B.zip’\n",
            "\n",
            "glove.6B.zip        100%[===================>] 822.24M  2.01MB/s    in 6m 51s  \n",
            "\n",
            "2021-02-10 16:00:15 (2.00 MB/s) - ‘glove.6B.zip’ saved [862182613/862182613]\n",
            "\n",
            "Archive:  glove.6B.zip\n",
            "  inflating: glove.6B.50d.txt        \n",
            "  inflating: glove.6B.100d.txt       \n",
            "  inflating: glove.6B.200d.txt       \n",
            "  inflating: glove.6B.300d.txt       \n"
          ],
          "name": "stdout"
        }
      ]
    },
    {
      "cell_type": "code",
      "metadata": {
        "colab": {
          "base_uri": "https://localhost:8080/",
          "height": 204
        },
        "id": "DdQp5wvypanu",
        "outputId": "f49b23fb-98d2-48f2-8194-01daeb824b5e"
      },
      "source": [
        "tweet = pd.read_csv('train.csv')\n",
        "test = pd.read_csv('test.csv')\n",
        "tweet.head()"
      ],
      "execution_count": 4,
      "outputs": [
        {
          "output_type": "execute_result",
          "data": {
            "text/html": [
              "<div>\n",
              "<style scoped>\n",
              "    .dataframe tbody tr th:only-of-type {\n",
              "        vertical-align: middle;\n",
              "    }\n",
              "\n",
              "    .dataframe tbody tr th {\n",
              "        vertical-align: top;\n",
              "    }\n",
              "\n",
              "    .dataframe thead th {\n",
              "        text-align: right;\n",
              "    }\n",
              "</style>\n",
              "<table border=\"1\" class=\"dataframe\">\n",
              "  <thead>\n",
              "    <tr style=\"text-align: right;\">\n",
              "      <th></th>\n",
              "      <th>id</th>\n",
              "      <th>keyword</th>\n",
              "      <th>location</th>\n",
              "      <th>text</th>\n",
              "      <th>target</th>\n",
              "    </tr>\n",
              "  </thead>\n",
              "  <tbody>\n",
              "    <tr>\n",
              "      <th>0</th>\n",
              "      <td>1</td>\n",
              "      <td>NaN</td>\n",
              "      <td>NaN</td>\n",
              "      <td>Our Deeds are the Reason of this #earthquake M...</td>\n",
              "      <td>1</td>\n",
              "    </tr>\n",
              "    <tr>\n",
              "      <th>1</th>\n",
              "      <td>4</td>\n",
              "      <td>NaN</td>\n",
              "      <td>NaN</td>\n",
              "      <td>Forest fire near La Ronge Sask. Canada</td>\n",
              "      <td>1</td>\n",
              "    </tr>\n",
              "    <tr>\n",
              "      <th>2</th>\n",
              "      <td>5</td>\n",
              "      <td>NaN</td>\n",
              "      <td>NaN</td>\n",
              "      <td>All residents asked to 'shelter in place' are ...</td>\n",
              "      <td>1</td>\n",
              "    </tr>\n",
              "    <tr>\n",
              "      <th>3</th>\n",
              "      <td>6</td>\n",
              "      <td>NaN</td>\n",
              "      <td>NaN</td>\n",
              "      <td>13,000 people receive #wildfires evacuation or...</td>\n",
              "      <td>1</td>\n",
              "    </tr>\n",
              "    <tr>\n",
              "      <th>4</th>\n",
              "      <td>7</td>\n",
              "      <td>NaN</td>\n",
              "      <td>NaN</td>\n",
              "      <td>Just got sent this photo from Ruby #Alaska as ...</td>\n",
              "      <td>1</td>\n",
              "    </tr>\n",
              "  </tbody>\n",
              "</table>\n",
              "</div>"
            ],
            "text/plain": [
              "   id keyword  ...                                               text target\n",
              "0   1     NaN  ...  Our Deeds are the Reason of this #earthquake M...      1\n",
              "1   4     NaN  ...             Forest fire near La Ronge Sask. Canada      1\n",
              "2   5     NaN  ...  All residents asked to 'shelter in place' are ...      1\n",
              "3   6     NaN  ...  13,000 people receive #wildfires evacuation or...      1\n",
              "4   7     NaN  ...  Just got sent this photo from Ruby #Alaska as ...      1\n",
              "\n",
              "[5 rows x 5 columns]"
            ]
          },
          "metadata": {
            "tags": []
          },
          "execution_count": 4
        }
      ]
    },
    {
      "cell_type": "code",
      "metadata": {
        "colab": {
          "base_uri": "https://localhost:8080/"
        },
        "id": "gu7oOiUerGJ_",
        "outputId": "0aa566fd-bba7-4174-efad-59be011802d5"
      },
      "source": [
        "print('There are {} rows and {} columns in train'.format(tweet.shape[0],\n",
        "                                                         tweet.shape[1]))\n",
        "print('There are {} rows and {} columns in train'.format(test.shape[0],\n",
        "                                                         test.shape[1]))"
      ],
      "execution_count": 5,
      "outputs": [
        {
          "output_type": "stream",
          "text": [
            "There are 7613 rows and 5 columns in train\n",
            "There are 3263 rows and 4 columns in train\n"
          ],
          "name": "stdout"
        }
      ]
    },
    {
      "cell_type": "code",
      "metadata": {
        "id": "-wwOcTD9rYhg"
      },
      "source": [
        ""
      ],
      "execution_count": null,
      "outputs": []
    },
    {
      "cell_type": "markdown",
      "metadata": {
        "id": "WQ26VwjrrbME"
      },
      "source": [
        "# Class Distribution \n",
        "Before we begin with anything else, let's check the class distribution. There are only two classes 0 & 1."
      ]
    },
    {
      "cell_type": "code",
      "metadata": {
        "colab": {
          "base_uri": "https://localhost:8080/",
          "height": 319
        },
        "id": "GZ6W0Vlgrm7q",
        "outputId": "e573239f-368e-4cf5-e0e3-5d4f7dfcb7fd"
      },
      "source": [
        "x = tweet.target.value_counts()\n",
        "sns.barplot(x.index, x)\n",
        "plt.gca().set_ylabel('samples')\n",
        "plt.show()"
      ],
      "execution_count": 7,
      "outputs": [
        {
          "output_type": "stream",
          "text": [
            "/usr/local/lib/python3.6/dist-packages/seaborn/_decorators.py:43: FutureWarning: Pass the following variables as keyword args: x, y. From version 0.12, the only valid positional argument will be `data`, and passing other arguments without an explicit keyword will result in an error or misinterpretation.\n",
            "  FutureWarning\n"
          ],
          "name": "stderr"
        },
        {
          "output_type": "display_data",
          "data": {
            "image/png": "[encoded data removed]",
            "text/plain": [
              "<Figure size 432x288 with 1 Axes>"
            ]
          },
          "metadata": {
            "tags": []
          }
        }
      ]
    },
    {
      "cell_type": "markdown",
      "metadata": {
        "id": "FIQp-M48r_X1"
      },
      "source": [
        "- There is a class distribution. THere are more tweets with class 0(No Disaster) than class 1 (Disaster tweet)"
      ]
    },
    {
      "cell_type": "code",
      "metadata": {
        "id": "sbAmLzQwrxJa"
      },
      "source": [
        ""
      ],
      "execution_count": null,
      "outputs": []
    },
    {
      "cell_type": "markdown",
      "metadata": {
        "id": "pH7Zj5LWsQYJ"
      },
      "source": [
        "BASIC EDA \n",
        "- character level \n",
        "- word level \n",
        "- sentence level analysis "
      ]
    },
    {
      "cell_type": "markdown",
      "metadata": {
        "id": "VbnKeJRwseZY"
      },
      "source": [
        "## Number of characters in tweets"
      ]
    },
    {
      "cell_type": "code",
      "metadata": {
        "colab": {
          "base_uri": "https://localhost:8080/",
          "height": 356
        },
        "id": "e9BbEyWysW0G",
        "outputId": "f195e151-b7d6-4446-d99a-eea31459f006"
      },
      "source": [
        "fig, (ax1, ax2) = plt.subplots(1, 2, figsize=(10, 5))\n",
        "tweet_len = tweet[tweet['target']==1]['text'].str.len()\n",
        "ax1.hist(tweet_len, color='red')\n",
        "ax1.set_title('Disaster Tweets')\n",
        "tweet_len = tweet[tweet['target']==0]['text'].str.len()\n",
        "ax2.hist(tweet_len, color='green')\n",
        "ax2.set_title('Not a disaster Tweets')\n",
        "fig.suptitle('Characters in tweets')\n",
        "plt.show()"
      ],
      "execution_count": 11,
      "outputs": [
        {
          "output_type": "display_data",
          "data": {
            "image/png": "[encoded data removed]",
            "text/plain": [
              "<Figure size 720x360 with 2 Axes>"
            ]
          },
          "metadata": {
            "tags": []
          }
        }
      ]
    },
    {
      "cell_type": "code",
      "metadata": {
        "id": "WS1IJ53ltPb5"
      },
      "source": [
        ""
      ],
      "execution_count": 11,
      "outputs": []
    },
    {
      "cell_type": "markdown",
      "metadata": {
        "id": "2lxZAcmFtoSI"
      },
      "source": [
        "## Number of words in a tweet "
      ]
    },
    {
      "cell_type": "code",
      "metadata": {
        "colab": {
          "base_uri": "https://localhost:8080/",
          "height": 356
        },
        "id": "LIEDDUhKtcpb",
        "outputId": "6bab2cb8-8dfe-4803-fb3e-ccb82d6ba35f"
      },
      "source": [
        "fig, (ax1, ax2) = plt.subplots(1, 2, figsize=(10, 5))\n",
        "tweet_len = tweet[tweet['target']==1]['text'].str.split().map(lambda x: len(x))\n",
        "ax1.hist(tweet_len, color='red')\n",
        "ax1.set_title('Disaster Tweets')\n",
        "tweet_len = tweet[tweet['target']==0]['text'].str.split().map(lambda x: len(x))\n",
        "ax2.hist(tweet_len, color='green')\n",
        "ax2.set_title('Not a disaster Tweets')\n",
        "fig.suptitle('Words in tweets')\n",
        "plt.show()"
      ],
      "execution_count": 12,
      "outputs": [
        {
          "output_type": "display_data",
          "data": {
            "image/png": "[encoded data removed]",
            "text/plain": [
              "<Figure size 720x360 with 2 Axes>"
            ]
          },
          "metadata": {
            "tags": []
          }
        }
      ]
    },
    {
      "cell_type": "markdown",
      "metadata": {
        "id": "-REmqlK2u59o"
      },
      "source": [
        "## Average Word Length in a tweet"
      ]
    },
    {
      "cell_type": "code",
      "metadata": {
        "colab": {
          "base_uri": "https://localhost:8080/",
          "height": 461
        },
        "id": "AU5u40uDuFG-",
        "outputId": "96c7a1f9-0020-4b19-f53b-f42732810983"
      },
      "source": [
        "import numpy as np\n",
        "fig, (ax1, ax2) = plt.subplots(1, 2, figsize=(10, 5))\n",
        "word = tweet[tweet['target'] == 1]['text'].str.split().apply(lambda x : [len(i) for i in x])\n",
        "sns.distplot(word.map(lambda x : np.mean(x)), ax=ax1, color='red')\n",
        "ax1.set_title(\"Disaster\")\n",
        "word = tweet[tweet['target'] ==0]['text'].str.split().apply(lambda x: [len(i) for i in x])\n",
        "sns.distplot(word.map(lambda x:np.mean(x)), ax=ax2, color='green')\n",
        "ax2.set_title(\"Not a Disaster\")\n",
        "fig.suptitle('Average Word length in each tweet')\n",
        "plt.show()"
      ],
      "execution_count": 17,
      "outputs": [
        {
          "output_type": "stream",
          "text": [
            "/usr/local/lib/python3.6/dist-packages/seaborn/distributions.py:2557: FutureWarning: `distplot` is a deprecated function and will be removed in a future version. Please adapt your code to use either `displot` (a figure-level function with similar flexibility) or `histplot` (an axes-level function for histograms).\n",
            "  warnings.warn(msg, FutureWarning)\n",
            "/usr/local/lib/python3.6/dist-packages/seaborn/distributions.py:2557: FutureWarning: `distplot` is a deprecated function and will be removed in a future version. Please adapt your code to use either `displot` (a figure-level function with similar flexibility) or `histplot` (an axes-level function for histograms).\n",
            "  warnings.warn(msg, FutureWarning)\n"
          ],
          "name": "stderr"
        },
        {
          "output_type": "display_data",
          "data": {
            "image/png": "[encoded data removed]",
            "text/plain": [
              "<Figure size 720x360 with 2 Axes>"
            ]
          },
          "metadata": {
            "tags": []
          }
        }
      ]
    },
    {
      "cell_type": "code",
      "metadata": {
        "id": "RVSpIKIdvbcI"
      },
      "source": [
        "# Creating Corpus\n",
        "\n",
        "def create_corpus(target):\n",
        "    corpus = []\n",
        "\n",
        "    for x in tweet[tweet['target'] == target]['text'].str.split():\n",
        "        for i in x: \n",
        "            corpus.append(i)\n",
        "    return corpus"
      ],
      "execution_count": 19,
      "outputs": []
    },
    {
      "cell_type": "code",
      "metadata": {
        "id": "BBTiMQgFxKcK"
      },
      "source": [
        "# COMMON STOPWORDS IN TWEETS\n",
        "\n",
        "\n",
        "# First we will analyze tweets with class 0 \n",
        "\n",
        "corpus = create_corpus(0)\n",
        "\n",
        "dic = defaultdict(int)\n",
        "for word in corpus: \n",
        "    if word in stop: \n",
        "        dic[word]+=1\n",
        "\n",
        "\n",
        "top = sorted(dic.items(), key = lambda x : x[1], reverse=True)[:10]"
      ],
      "execution_count": 25,
      "outputs": []
    },
    {
      "cell_type": "code",
      "metadata": {
        "colab": {
          "base_uri": "https://localhost:8080/",
          "height": 265
        },
        "id": "-77U55wKx_vB",
        "outputId": "803ce278-e856-4d86-e20f-6b0a4c904ba5"
      },
      "source": [
        "x, y = zip(*top)\n",
        "plt.barh(x, y)\n",
        "plt.show()"
      ],
      "execution_count": 26,
      "outputs": [
        {
          "output_type": "display_data",
          "data": {
            "image/png": "[encoded data removed]",
            "text/plain": [
              "<Figure size 432x288 with 1 Axes>"
            ]
          },
          "metadata": {
            "tags": []
          }
        }
      ]
    },
    {
      "cell_type": "code",
      "metadata": {
        "colab": {
          "base_uri": "https://localhost:8080/",
          "height": 265
        },
        "id": "jxGURlfSyGqA",
        "outputId": "38933f21-a0a8-4424-867d-49f5e19f7e4a"
      },
      "source": [
        "corpus = create_corpus(1)\n",
        "\n",
        "dic = defaultdict(int)\n",
        "for word in corpus: \n",
        "    if word in stop: \n",
        "        dic[word]+=1\n",
        "\n",
        "\n",
        "top = sorted(dic.items(), key = lambda x : x[1], reverse=True)[:10]\n",
        "\n",
        "x, y = zip(*top)\n",
        "plt.barh(x, y)\n",
        "plt.show()"
      ],
      "execution_count": 27,
      "outputs": [
        {
          "output_type": "display_data",
          "data": {
            "image/png": "[encoded data removed]",
            "text/plain": [
              "<Figure size 432x288 with 1 Axes>"
            ]
          },
          "metadata": {
            "tags": []
          }
        }
      ]
    },
    {
      "cell_type": "code",
      "metadata": {
        "colab": {
          "base_uri": "https://localhost:8080/",
          "height": 449
        },
        "id": "O48dvmbFymiX",
        "outputId": "6e3115fa-e4fa-4610-f090-f80d3d7efaa4"
      },
      "source": [
        "# Analyzing Punctuations \n",
        "\n",
        "# first let's check tweets indicating real disaster\n",
        "\n",
        "plt.figure(figsize=(19, 8))\n",
        "corpus = create_corpus(1)\n",
        "\n",
        "dic = defaultdict(int)\n",
        "\n",
        "import string \n",
        "special = string.punctuation\n",
        "\n",
        "for i in (corpus):\n",
        "    if i in special:\n",
        "        dic[i] +=1\n",
        "\n",
        "\n",
        "x, y = zip(*dic.items())\n",
        "plt.barh(x, y)\n",
        "plt.show()"
      ],
      "execution_count": 29,
      "outputs": [
        {
          "output_type": "display_data",
          "data": {
            "image/png": "[encoded data removed]",
            "text/plain": [
              "<Figure size 1368x576 with 1 Axes>"
            ]
          },
          "metadata": {
            "tags": []
          }
        }
      ]
    },
    {
      "cell_type": "code",
      "metadata": {
        "colab": {
          "base_uri": "https://localhost:8080/",
          "height": 451
        },
        "id": "t0u13NY6zshe",
        "outputId": "ba7f8c20-667c-4562-f7f2-405473a4b56e"
      },
      "source": [
        "# with class 0 \n",
        "\n",
        "plt.figure(figsize=(19, 8))\n",
        "corpus = create_corpus(0)\n",
        "\n",
        "dic = defaultdict(int)\n",
        "\n",
        "import string \n",
        "special = string.punctuation\n",
        "\n",
        "for i in (corpus):\n",
        "    if i in special:\n",
        "        dic[i] +=1\n",
        "\n",
        "\n",
        "x, y = zip(*dic.items())\n",
        "plt.barh(x, y)\n",
        "plt.show()"
      ],
      "execution_count": 30,
      "outputs": [
        {
          "output_type": "display_data",
          "data": {
            "image/png": "[encoded data removed]",
            "text/plain": [
              "<Figure size 1368x576 with 1 Axes>"
            ]
          },
          "metadata": {
            "tags": []
          }
        }
      ]
    },
    {
      "cell_type": "code",
      "metadata": {
        "colab": {
          "base_uri": "https://localhost:8080/",
          "height": 282
        },
        "id": "niTcLvchz7hd",
        "outputId": "ba930539-b908-49c6-fab2-652f033bbc1c"
      },
      "source": [
        "# COmmon words investigation which are also not part of stop words \n",
        "# DAYA DARWAJAA TODO !!!!!!!\n",
        "\n",
        "counter = Counter(corpus)\n",
        "most = counter.most_common()\n",
        "\n",
        "x = []\n",
        "y = []\n",
        "\n",
        "for word, count in most[:40]:\n",
        "    if (word not in stop):\n",
        "        x.append(word)\n",
        "        y.append(count)\n",
        "\n",
        "sns.barplot(x=y, y=x)\n",
        "plt.title('MOST COMMON WORDS')\n",
        "plt.show()"
      ],
      "execution_count": 32,
      "outputs": [
        {
          "output_type": "display_data",
          "data": {
            "image/png": "[encoded data removed]",
            "text/plain": [
              "<Figure size 432x288 with 1 Axes>"
            ]
          },
          "metadata": {
            "tags": []
          }
        }
      ]
    },
    {
      "cell_type": "code",
      "metadata": {
        "id": "TTeQezjV1XQ7"
      },
      "source": [
        "# Ngram analysis \n",
        "\n",
        "\n",
        "# we will do a bigram (n=2) analysis over the tweets. Let's check the most common bigrams in tweets\n",
        "\n",
        "\n",
        "def get_top_tweet_bigram(corpus, n=None):\n",
        "    vec = CountVectorizer(ngram_range=(2, 2)).fit(corpus)\n",
        "    bag_of_words = vec.transform(corpus)\n",
        "    sum_words = bag_of_words.sum(axis=0)\n",
        "    words_freq = [(word, sum_words[0, idx]) for word, idx in vec.vocabulary_.items()]\n",
        "\n",
        "    words_freq = sorted(words_freq, key = lambda x : x[1], reverse=True)\n",
        "\n",
        "    return words_freq[:n]"
      ],
      "execution_count": 35,
      "outputs": []
    },
    {
      "cell_type": "code",
      "metadata": {
        "colab": {
          "base_uri": "https://localhost:8080/",
          "height": 320
        },
        "id": "B3Jnipdk4ymy",
        "outputId": "61aae7f8-7274-458a-a194-f8ab0e868573"
      },
      "source": [
        "plt.figure(figsize=(10, 5))\n",
        "top_tweet_bigrams = get_top_tweet_bigram(tweet['text'])[:10]\n",
        "x, y = map(list, zip(*top_tweet_bigrams))\n",
        "sns.barplot(x=y, y=x)\n",
        "plt.show()"
      ],
      "execution_count": 36,
      "outputs": [
        {
          "output_type": "display_data",
          "data": {
            "image/png": "[encoded data removed]",
            "text/plain": [
              "<Figure size 720x360 with 1 Axes>"
            ]
          },
          "metadata": {
            "tags": []
          }
        }
      ]
    },
    {
      "cell_type": "code",
      "metadata": {
        "colab": {
          "base_uri": "https://localhost:8080/"
        },
        "id": "ualLZVst5KzK",
        "outputId": "0b2775ae-8db0-4d00-935c-4b1492345052"
      },
      "source": [
        "# DATA CLEANING\n",
        "\n",
        "# we know twitter  tweets always need to be cleaned before we go onto modeling \n",
        "# so we will do some basic cleaning such as \n",
        "# 1 Spell correction \n",
        "# 2 Removing punctuations \n",
        "# 3 Removing html tags \n",
        "# 4 emojis \n",
        "# etc so let's start \n",
        "\n",
        "\n",
        "df = pd.concat([tweet, test])\n",
        "\n",
        "df.shape"
      ],
      "execution_count": 37,
      "outputs": [
        {
          "output_type": "execute_result",
          "data": {
            "text/plain": [
              "(10876, 5)"
            ]
          },
          "metadata": {
            "tags": []
          },
          "execution_count": 37
        }
      ]
    },
    {
      "cell_type": "code",
      "metadata": {
        "id": "9Xa9p4Db6zXP"
      },
      "source": [
        "def remove_url(text):\n",
        "    url = re.compile(r'https?://\\S+|www\\.\\S+')\n",
        "    return url.sub(r'', text)"
      ],
      "execution_count": 38,
      "outputs": []
    },
    {
      "cell_type": "code",
      "metadata": {
        "colab": {
          "base_uri": "https://localhost:8080/",
          "height": 35
        },
        "id": "prgmx39E7Zk1",
        "outputId": "c54ff9d8-063a-408e-d203-65cbc085f579"
      },
      "source": [
        "ex = \"# we know twitter  tweets always need to be cleaned before we go onto modeling https://colab.research.google.com/drive\"\n",
        "remove_url(ex)"
      ],
      "execution_count": 40,
      "outputs": [
        {
          "output_type": "execute_result",
          "data": {
            "application/vnd.google.colaboratory.intrinsic+json": {
              "type": "string"
            },
            "text/plain": [
              "'# we know twitter  tweets always need to be cleaned before we go onto modeling '"
            ]
          },
          "metadata": {
            "tags": []
          },
          "execution_count": 40
        }
      ]
    },
    {
      "cell_type": "code",
      "metadata": {
        "id": "-s1nEZpb7jfF"
      },
      "source": [
        "df['text'] = df['text'].apply(lambda x : remove_url(x))"
      ],
      "execution_count": 41,
      "outputs": []
    },
    {
      "cell_type": "code",
      "metadata": {
        "colab": {
          "base_uri": "https://localhost:8080/"
        },
        "id": "03IFVOnw8Csc",
        "outputId": "af407fd6-a256-43bf-b1d8-5aceeacfe35b"
      },
      "source": [
        "# Removing HTML tags \n",
        "\n",
        "example = \"\"\"\n",
        "<div>\n",
        "<h1>hey this is the fake html</h1>\n",
        "</div>\n",
        "\"\"\"\n",
        "\n",
        "def remove_html(text):\n",
        "    html = re.compile(r'<.*?>')\n",
        "    return html.sub(r'', text)\n",
        "\n",
        "print(remove_html(example))"
      ],
      "execution_count": 44,
      "outputs": [
        {
          "output_type": "stream",
          "text": [
            "\n",
            "\n",
            "hey this is the fake html\n",
            "\n",
            "\n"
          ],
          "name": "stdout"
        }
      ]
    },
    {
      "cell_type": "code",
      "metadata": {
        "id": "uBAPkML08z6w"
      },
      "source": [
        "df['text'] = df['text'].apply(lambda x : remove_html(x))"
      ],
      "execution_count": 45,
      "outputs": []
    },
    {
      "cell_type": "code",
      "metadata": {
        "colab": {
          "base_uri": "https://localhost:8080/",
          "height": 35
        },
        "id": "mQRZ8bhg9NL0",
        "outputId": "00914d22-ab56-439e-dc29-c15421b37c0f"
      },
      "source": [
        "#Removing Emojis \n",
        "\n",
        "def remove_emoji(text):\n",
        "    emoji_pattern = re.compile(\"[\"\n",
        "                           u\"\\U0001F600-\\U0001F64F\"  # emoticons\n",
        "                           u\"\\U0001F300-\\U0001F5FF\"  # symbols & pictographs\n",
        "                           u\"\\U0001F680-\\U0001F6FF\"  # transport & map symbols\n",
        "                           u\"\\U0001F1E0-\\U0001F1FF\"  # flags (iOS)\n",
        "                           u\"\\U00002702-\\U000027B0\"\n",
        "                           u\"\\U000024C2-\\U0001F251\"\n",
        "                           \"]+\", flags=re.UNICODE)\n",
        "    return emoji_pattern.sub(r'', text)\n",
        "\n",
        "remove_emoji(\"Shit not a great batting from Indian side, England won the first test in chennai 😔😔\")"
      ],
      "execution_count": 48,
      "outputs": [
        {
          "output_type": "execute_result",
          "data": {
            "application/vnd.google.colaboratory.intrinsic+json": {
              "type": "string"
            },
            "text/plain": [
              "'Shit not a great batting from Indian side, England won the first test in chennai '"
            ]
          },
          "metadata": {
            "tags": []
          },
          "execution_count": 48
        }
      ]
    },
    {
      "cell_type": "code",
      "metadata": {
        "id": "2BavXeDs-70K"
      },
      "source": [
        "df['text'] = df['text'].apply(lambda x : remove_emoji(x))"
      ],
      "execution_count": 49,
      "outputs": []
    },
    {
      "cell_type": "code",
      "metadata": {
        "colab": {
          "base_uri": "https://localhost:8080/"
        },
        "id": "pgvpJ1xc_NuA",
        "outputId": "44be02d9-0ae1-44a9-df52-2c6bd98b1c6f"
      },
      "source": [
        "# Removing Punctuations \n",
        "\n",
        "def remove_punctuate(text):\n",
        "    table = str.maketrans('', '', string.punctuation)\n",
        "    return text.translate(table)\n",
        "\n",
        "print(remove_punctuate('Wow!! thats really great. but what is the time?'))"
      ],
      "execution_count": 50,
      "outputs": [
        {
          "output_type": "stream",
          "text": [
            "Wow thats really great but what is the time\n"
          ],
          "name": "stdout"
        }
      ]
    },
    {
      "cell_type": "code",
      "metadata": {
        "id": "YiEI4pVDAZeO"
      },
      "source": [
        "df['text'] = df['text'].apply(lambda x : remove_punctuate(x))"
      ],
      "execution_count": 51,
      "outputs": []
    },
    {
      "cell_type": "code",
      "metadata": {
        "colab": {
          "base_uri": "https://localhost:8080/"
        },
        "id": "K1dFPM1rApO9",
        "outputId": "97a21105-8dc5-4876-9618-4a2026e0fc7e"
      },
      "source": [
        "# spell correction \n",
        "\n",
        "!pip install pyspellchecker"
      ],
      "execution_count": 52,
      "outputs": [
        {
          "output_type": "stream",
          "text": [
            "Collecting pyspellchecker\n",
            "\u001b[?25l  Downloading https://files.pythonhosted.org/packages/6f/9d/5bb403decde661abc6c5467319a0729d7c238e04d8217d9fef885510ec9d/pyspellchecker-0.5.6-py2.py3-none-any.whl (2.5MB)\n",
            "\u001b[K     |████████████████████████████████| 2.5MB 7.5MB/s \n",
            "\u001b[?25hInstalling collected packages: pyspellchecker\n",
            "Successfully installed pyspellchecker-0.5.6\n"
          ],
          "name": "stdout"
        }
      ]
    },
    {
      "cell_type": "code",
      "metadata": {
        "colab": {
          "base_uri": "https://localhost:8080/",
          "height": 35
        },
        "id": "RaGWvCZ3AuL-",
        "outputId": "d431bee6-d3a4-4583-85dc-8bd89ea74b73"
      },
      "source": [
        "from spellchecker import SpellChecker\n",
        "\n",
        "spell = SpellChecker()\n",
        "\n",
        "def correct_spellings(text):\n",
        "    corrected_text = []\n",
        "    misspelled_words = spell.unknown(text.split())\n",
        "    for word in text.split():\n",
        "        if word in misspelled_words : \n",
        "            corrected_text.append(spell.correction(word))\n",
        "        else : \n",
        "            corrected_text.append(word)\n",
        "        \n",
        "    return \" \".join(corrected_text)\n",
        "text = \"gooud jub\"\n",
        "correct_spellings(text)"
      ],
      "execution_count": 54,
      "outputs": [
        {
          "output_type": "execute_result",
          "data": {
            "application/vnd.google.colaboratory.intrinsic+json": {
              "type": "string"
            },
            "text/plain": [
              "'good job'"
            ]
          },
          "metadata": {
            "tags": []
          },
          "execution_count": 54
        }
      ]
    },
    {
      "cell_type": "code",
      "metadata": {
        "id": "-x6J9nKPBhtl"
      },
      "source": [
        ""
      ],
      "execution_count": null,
      "outputs": []
    }
  ]
}