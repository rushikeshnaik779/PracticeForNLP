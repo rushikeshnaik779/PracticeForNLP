{
  "nbformat": 4,
  "nbformat_minor": 0,
  "metadata": {
    "colab": {
      "name": "Creating Ngrams.ipynb",
      "provenance": []
    },
    "kernelspec": {
      "name": "python3",
      "display_name": "Python 3"
    }
  },
  "cells": [
    {
      "cell_type": "code",
      "metadata": {
        "colab": {
          "base_uri": "https://localhost:8080/"
        },
        "id": "FtkpF8DO_zNx",
        "outputId": "170e689d-f538-454b-d156-0561d069e13b"
      },
      "source": [
        "from nltk import ngrams \n",
        "\n",
        "sentence = \"this is my first time with n-grams\"\n",
        "print(sentence)"
      ],
      "execution_count": 10,
      "outputs": [
        {
          "output_type": "stream",
          "text": [
            "this is my first time with n-grams\n"
          ],
          "name": "stdout"
        }
      ]
    },
    {
      "cell_type": "code",
      "metadata": {
        "colab": {
          "base_uri": "https://localhost:8080/"
        },
        "id": "YxEjd7Ik__Si",
        "outputId": "5880e5b6-838d-49b4-e2f3-ec1d3d1345f7"
      },
      "source": [
        "n = 2\n",
        "\n",
        "sixgrams = ngrams(sentence.split(), n)\n",
        "\n",
        "for grams in sixgrams:\n",
        "    print(grams)"
      ],
      "execution_count": 11,
      "outputs": [
        {
          "output_type": "stream",
          "text": [
            "('this', 'is')\n",
            "('is', 'my')\n",
            "('my', 'first')\n",
            "('first', 'time')\n",
            "('time', 'with')\n",
            "('with', 'n-grams')\n"
          ],
          "name": "stdout"
        }
      ]
    },
    {
      "cell_type": "code",
      "metadata": {
        "id": "Vdmml5_HAtFg"
      },
      "source": [
        "sen = \"\"\"\n",
        "Due to the development of Big Data during the last decade. organizations are now faced with analysing large amounts of data coming from a wide variety of sources on a daily basis.\n",
        "Natural Language Processing (NLP) is the area of research in Artificial Intelligence focused on processing and using Text and Speech data to create smart machines and create insights.\n",
        "One of nowadays most interesting NLP application is creating machines able to discuss with humans about complex topics. IBM Project Debater represents so far one of the most successful approaches in this area.\n",
        "\"\"\"\n"
      ],
      "execution_count": 2,
      "outputs": []
    },
    {
      "cell_type": "code",
      "metadata": {
        "id": "8DxzX58uBiXZ"
      },
      "source": [
        "import re \n",
        "\n",
        "def generate_ngrams(sentence, n):\n",
        "\n",
        "    # convert to lowercases \n",
        "    sentence = sentence.lower()\n",
        "\n",
        "    # Replace all none alphanumeric characters with spaces \n",
        "\n",
        "\n",
        "    sentence = re.sub(r'[^a-zA-Z0-9]', ' ', sentence)\n",
        "\n",
        "    # break sentence in tokens, remove empty tokens \n",
        "    tokens = [token for token in sentence.split(\" \") if token != \"\"]\n",
        "\n",
        "    # use the zip function to help us generate n-grams\n",
        "    # Concatenate the tokens into ngrams and return \n",
        "\n",
        "    ngrams = zip(*[tokens[i:] for i in range(n)])\n",
        "    return [\" \".join(ngram) for ngram in ngrams]\n",
        "\n"
      ],
      "execution_count": 5,
      "outputs": []
    },
    {
      "cell_type": "code",
      "metadata": {
        "colab": {
          "base_uri": "https://localhost:8080/"
        },
        "id": "Bmb9ZP7vjl5u",
        "outputId": "ecf64064-7b1a-4d50-844f-90a97b28d2ff"
      },
      "source": [
        "for i in range(10):\n",
        "    print(len(generate_ngrams(sen, i)))\n"
      ],
      "execution_count": 9,
      "outputs": [
        {
          "output_type": "stream",
          "text": [
            "0\n",
            "93\n",
            "92\n",
            "91\n",
            "90\n",
            "89\n",
            "88\n",
            "87\n",
            "86\n",
            "85\n"
          ],
          "name": "stdout"
        }
      ]
    },
    {
      "cell_type": "code",
      "metadata": {
        "colab": {
          "base_uri": "https://localhost:8080/"
        },
        "id": "FWq8I08Tj1DZ",
        "outputId": "a88fb153-edc4-477f-a4f3-9ba03abd14b1"
      },
      "source": [
        "generate_ngrams(sen, 3)"
      ],
      "execution_count": 13,
      "outputs": [
        {
          "output_type": "execute_result",
          "data": {
            "text/plain": [
              "['due to the',\n",
              " 'to the development',\n",
              " 'the development of',\n",
              " 'development of big',\n",
              " 'of big data',\n",
              " 'big data during',\n",
              " 'data during the',\n",
              " 'during the last',\n",
              " 'the last decade',\n",
              " 'last decade organizations',\n",
              " 'decade organizations are',\n",
              " 'organizations are now',\n",
              " 'are now faced',\n",
              " 'now faced with',\n",
              " 'faced with analysing',\n",
              " 'with analysing large',\n",
              " 'analysing large amounts',\n",
              " 'large amounts of',\n",
              " 'amounts of data',\n",
              " 'of data coming',\n",
              " 'data coming from',\n",
              " 'coming from a',\n",
              " 'from a wide',\n",
              " 'a wide variety',\n",
              " 'wide variety of',\n",
              " 'variety of sources',\n",
              " 'of sources on',\n",
              " 'sources on a',\n",
              " 'on a daily',\n",
              " 'a daily basis',\n",
              " 'daily basis natural',\n",
              " 'basis natural language',\n",
              " 'natural language processing',\n",
              " 'language processing nlp',\n",
              " 'processing nlp is',\n",
              " 'nlp is the',\n",
              " 'is the area',\n",
              " 'the area of',\n",
              " 'area of research',\n",
              " 'of research in',\n",
              " 'research in artificial',\n",
              " 'in artificial intelligence',\n",
              " 'artificial intelligence focused',\n",
              " 'intelligence focused on',\n",
              " 'focused on processing',\n",
              " 'on processing and',\n",
              " 'processing and using',\n",
              " 'and using text',\n",
              " 'using text and',\n",
              " 'text and speech',\n",
              " 'and speech data',\n",
              " 'speech data to',\n",
              " 'data to create',\n",
              " 'to create smart',\n",
              " 'create smart machines',\n",
              " 'smart machines and',\n",
              " 'machines and create',\n",
              " 'and create insights',\n",
              " 'create insights one',\n",
              " 'insights one of',\n",
              " 'one of nowadays',\n",
              " 'of nowadays most',\n",
              " 'nowadays most interesting',\n",
              " 'most interesting nlp',\n",
              " 'interesting nlp application',\n",
              " 'nlp application is',\n",
              " 'application is creating',\n",
              " 'is creating machines',\n",
              " 'creating machines able',\n",
              " 'machines able to',\n",
              " 'able to discuss',\n",
              " 'to discuss with',\n",
              " 'discuss with humans',\n",
              " 'with humans about',\n",
              " 'humans about complex',\n",
              " 'about complex topics',\n",
              " 'complex topics ibm',\n",
              " 'topics ibm project',\n",
              " 'ibm project debater',\n",
              " 'project debater represents',\n",
              " 'debater represents so',\n",
              " 'represents so far',\n",
              " 'so far one',\n",
              " 'far one of',\n",
              " 'one of the',\n",
              " 'of the most',\n",
              " 'the most successful',\n",
              " 'most successful approaches',\n",
              " 'successful approaches in',\n",
              " 'approaches in this',\n",
              " 'in this area']"
            ]
          },
          "metadata": {
            "tags": []
          },
          "execution_count": 13
        }
      ]
    },
    {
      "cell_type": "code",
      "metadata": {
        "id": "sXWVdJkcppyk"
      },
      "source": [
        ""
      ],
      "execution_count": null,
      "outputs": []
    }
  ]
}